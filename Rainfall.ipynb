{
 "cells": [
  {
   "cell_type": "markdown",
   "metadata": {},
   "source": [
    "<span style=\"font-size:x-large;\">Lab 6</span>\n",
    "\n",
    "# Let it Rain!\n",
    "\n",
    "<div>\n",
    "<img src=\"rainfall-deciles.png\" width=\"700\">\n",
    "</div>\n",
    "\n",
    "Source: [120 Years of Australian Rainfall](http://www.bom.gov.au/climate/history/rainfall/), Bureau of Meteorology\n",
    "\n",
    "As an 'oasis' on the bottom corner of a desert, the Western Australian southwest region, including Perth, is more at risk from  any decline in rainfall than many other aspects of climate change.\n",
    "\n",
    "The 2019 rainfall map (shown above) paints an alarming picture!\n",
    "\n",
    "In this lab, we will examine raw data from the Bureau of Meteorology, focussing specifically on the Perth region, and see if there are any trends we can observe for ourselves.\n",
    "\n",
    "While we have access to a relatively small period of time geologically speaking, its a very important period of time from the perspective of man-made climate change. It will be interesting to see whether, even in such a short period of time, we can observe any trends.\n"
   ]
  },
  {
   "cell_type": "markdown",
   "metadata": {},
   "source": [
    "## Data Acquisition and Inspection\n",
    "\n",
    "The Australian Government's **Bureau of Meteorology (BOM)** provides a wealth of climate data through its Climate Data Online service.\n",
    "\n",
    "* Find the daily rainfall data for Perth.\n",
    "\n",
    "You should find a number of available weather stations in the Perth area. Notice that when you select a station, a graph is provided that indicates over what timespan data from that station is available, and how complete the data is.\n",
    "\n",
    "> _Q: Which station has the longest record of data available?_\n",
    ">\n",
    "> _Which station has a complete record for the longest period?_\n",
    "\n"
   ]
  },
  {
   "cell_type": "markdown",
   "metadata": {},
   "source": [
    "#### List of Stations in Perth Area\n",
    "- Perth Metro   (99% Complete Data)\n",
    "- Subiaco Treatment Plant (99% Complete Data)\n",
    "- Swanbourne(100% Complete Data)\n",
    "- Perth Airport (100% Complete Data over 76.3)\n",
    "- Mosman Park(75% Complete Data)\n",
    "- Frementle(76% Complete Data)\n",
    "- Whiteman Park(96% Complete Data)\n",
    "- Maida Vale(80% Complete Data)\n",
    "- Gosnells City(94% Complete Data)\n",
    "- Jandakot Aero(95% Complete Data)\n",
    "- Midland(70% Complete Data over 98.3 years)"
   ]
  },
  {
   "cell_type": "code",
   "execution_count": null,
   "metadata": {},
   "outputs": [],
   "source": []
  },
  {
   "cell_type": "markdown",
   "metadata": {},
   "source": [
    "* Download the data for the Midland and Airport stations.\n",
    "\n",
    "Data is typically accompanied by a 'README' file or similar, explaining what is in the files.\n",
    "\n",
    "* Read the `..Note.txt` file for one of the datasets. Look out in particular for:\n",
    "  * information on the data fields contained in the files\n",
    "  * information on missing data\n",
    "  * information on quality of the data\n",
    "\n",
    "As you read the file, start to think about what you might need to do when inspecting and cleaning the data.\n",
    "\n",
    "Inspect the data to see if it matches what you expect to see from the Note.\n",
    "\n"
   ]
  },
  {
   "cell_type": "markdown",
   "metadata": {},
   "source": [
    "#### Data Information\n",
    "- 1)  QUALITY FLAG DESCRIPTIONS\n",
    "\n",
    "Y: completed quality control and acceptable\n",
    "N: not yet completed quality control process, quality not assured\n",
    "\n",
    "Climate data pass through a number of stages in quality control which occurs over a\n",
    "period of time.  Data are only included in this product if either one of the\n",
    "following is true:\n",
    "i) If the Quality Flag = Y, then the data have completed the normal quality control\n",
    "   process and we do not believe them to be suspect or wrong;\n",
    "ii) If the Quality Flag = N, then no significant errors have yet been detected,\n",
    "   although this may change during a later stage of the quality control process.\n",
    "\n",
    "- 2) GAPS AND MISSING DATA\n",
    "\n",
    "Very few stations have a complete unbroken record of climate information. A station may have\n",
    "been closed, re-opened, upgraded to a full weather station or downgraded to a rainfall only\n",
    "station during its existence, resulting in breaks in the record for some or all elements. It is\n",
    "important to note that damaged instrumentation can result in gaps in the record for one \n",
    "(or more) meteorological element. In contrast the absence or illness of an observer may result in \n",
    "gaps in the record for all elements at a particular site.\n",
    "\n",
    "- 3) INSTRUMENTS AND OBSERVATIONAL PRACTICES\n",
    "\n",
    "Historically, if an observational site moved a relatively short distance (within about 1 to 2 km)\n",
    "it may have continued to use the same station number.  Changes may have occurred in\n",
    "instrumentation and/or observing practices over the period included in a dataset, which\n",
    "may have an effect on the long-term record. In recent years many stations have had observers\n",
    "replaced by automatic weather stations (AWSs), either completely or at certain times of the day.\n",
    "\n",
    "- 4) LATITUDES AND LONGITUDES\n",
    "\n",
    "Latitudes and longitudes are provided to 2 decimal places. However, in many cases the\n",
    "geographic coordinates of a station will not be accurate to 2 decimal places. More precise \n",
    "positioning may be available upon request (see contact details)."
   ]
  },
  {
   "cell_type": "markdown",
   "metadata": {},
   "source": [
    "* Upload the data to CoCalc, and set up constants to point to the data.\n",
    "\n",
    "(The files should not be more than 2MB.)"
   ]
  },
  {
   "cell_type": "markdown",
   "metadata": {},
   "source": [
    "### The `csv` library\n",
    "\n",
    "So far we have parsed csv files ourselves. As this is a common task, a library has been provided.\n",
    "\n",
    "Look up the documentation for the csv module in the latest version of the Python Standard Library documentation.\n",
    "\n",
    "* Import the `csv` package, and use a csv `reader` to read the Perth Airport data into a list of lists.\n",
    "\n",
    "How many lines of data are there?\n",
    "\n",
    "*Hint: the reader is an iterable, so it can be used with `list()` to create a list of lists."
   ]
  },
  {
   "cell_type": "markdown",
   "metadata": {},
   "source": [
    "## Data Acquisition"
   ]
  },
  {
   "cell_type": "code",
   "execution_count": null,
   "metadata": {},
   "outputs": [],
   "source": [
    "import csv\n",
    "import numpy as np\n",
    "DATA = 'IDCJAC0009_009021_1800_Data.csv'"
   ]
  },
  {
   "cell_type": "code",
   "execution_count": null,
   "metadata": {},
   "outputs": [],
   "source": [
    "DATA = 'IDCJAC0009_009021_1800_Data.csv'"
   ]
  },
  {
   "cell_type": "code",
   "execution_count": null,
   "metadata": {},
   "outputs": [],
   "source": [
    "with open(DATA) as file:\n",
    "    content = list(csv.reader(file))\n",
    "    categories = content[0]\n",
    "\n"
   ]
  },
  {
   "cell_type": "markdown",
   "metadata": {},
   "source": [
    "Print the first 10 lines of the Airport data. What do you see?\n",
    "\n",
    "* Use a *list comprehension* (one line) to extract all the lines where the daily rainfall field is not empty and starts with a number.\n",
    "\n",
    "How many lines of data remain? What percentage of the data is this (to 1 decimal place/3 significant figures)?"
   ]
  },
  {
   "cell_type": "code",
   "execution_count": null,
   "metadata": {},
   "outputs": [],
   "source": [
    "for i in categories:\n",
    "    if '(' in i:\n",
    "        first = i.find('(')\n",
    "        last = i.find(')',first+1)\n",
    "        field = i[first:first+1]\n",
    "        field_two = i[last:last+1]\n",
    "        i = i.replace(field,'')\n",
    "        i= i.replace(field_two,'')\n",
    "        \n",
    "    print(i.replace(' ','_'), '=', '[]')"
   ]
  },
  {
   "cell_type": "code",
   "execution_count": null,
   "metadata": {},
   "outputs": [],
   "source": []
  },
  {
   "cell_type": "markdown",
   "metadata": {},
   "source": [
    "###### Using Any to confirm if any period greater than one"
   ]
  },
  {
   "cell_type": "markdown",
   "metadata": {},
   "source": [
    "* Use a list comprehension (one line each) to check whether there are any lines in the remaining data that:\n",
    "  * have a period over which rain was measured greater than 1\n",
    "  * have a flag that is not either 'Y' or 'N'"
   ]
  },
  {
   "cell_type": "markdown",
   "metadata": {},
   "source": [
    "#### numpy `datetime64`\n",
    "\n",
    "The python ecosystem contains a (confusing) number modules for dealing with dates and times (again a product of the way it evolved), including the modules `datetime`, `time` and `calendar` (we will see another later).\n",
    "\n",
    "numpy also has its own [datetime type](https://numpy.org/doc/stable/reference/arrays.datetime.html), called `datetime64` to distinguish it from the datetime module.\n",
    "\n",
    "numpy's datetime has a fixed-size representation (a 64-bit integer) which allows it to be used efficiently in standard numpy arrays. This means however it has a precision limit, and there is a trade-off (albeit very large) between the 'bigness' of timespan that can be represented, and the 'smallness' of the time interval that can be represented.\n",
    "\n",
    "To make it more useful, numpy lets you choose the time units it represents, from *attoseconds* (for particle physicists?) through to *years* (for geologists?). This is explained in the section [Datetime Units](https://numpy.org/doc/stable/reference/arrays.datetime.html?highlight=datetime#datetime-units) which provides a table showing the timespan that can be used for each unit size.\n",
    "\n",
    "The limits are far more than we will ever need for our time-series data, but understanding why it works this way makes it easy to understand the reason for including date or time units. Since our data is daily, we'll use *days* (`'D'`) as the unit."
   ]
  },
  {
   "cell_type": "markdown",
   "metadata": {},
   "source": [
    "To see how `datetime64` can be used as an array type, try the following. (Each should only take one line.)\n",
    "\n",
    "  * Assign today's date to a variable `today`.\n",
    "  * Use `dtype` to check that you are using 'Day' as the date units.\n",
    "  * Use `arange` to create an array of dates from January 1st this year to December 31st.\n",
    "  * How many days will there be this year?\n",
    "  * What day of the year is it today?\n",
    "  * How many more days are there this year?\n",
    "\n",
    "*Hint: Use arithmetic rather than search."
   ]
  },
  {
   "cell_type": "markdown",
   "metadata": {},
   "source": [
    "#### Data types\n",
    "\n",
    "In order to plot the rainfall data, we would like to have an array of days (dates), and a corresponding array of rainfall for those days.\n",
    "\n",
    "We have already extracted all the lines of data that have numerical data in the rainfall field. We have determined that there are no periods of measurement greater than 1 (we'll ignore this column), and all the data have a valid quality flag.\n",
    "\n",
    "Now we want to get out the relevant fields. \n",
    "\n",
    "> _Q: What data types would you use?_"
   ]
  },
  {
   "cell_type": "markdown",
   "metadata": {},
   "source": [
    "- for the dates array, day(D)units will be used.\n",
    "- for the rainfall(in millimetres), floats will be used"
   ]
  },
  {
   "cell_type": "markdown",
   "metadata": {},
   "source": [
    "#### Pre-allocating arrays\n",
    "\n",
    "We'll use a loop to extract the data directly into arrays (we won't use an 'accumulator' list). As we saw in the lectures, to do this efficiently, we need to pre-allocate arrays of the right size.\n",
    "\n",
    "* Using numpy's `full` method, define arrays for:\n",
    "  * days, with type `datetime64[D]`\n",
    "  * rain, with type `float`\n",
    "  * flags, with type `boolean`"
   ]
  },
  {
   "cell_type": "code",
   "execution_count": null,
   "metadata": {},
   "outputs": [],
   "source": [
    "DATA_LENGTH = 27899\n",
    "dates = []\n",
    "\n",
    "with open(DATA) as file:\n",
    "    rain_data = list(csv.reader(file, delimiter = ','))\n",
    "    for (index,line) in enumerate(rain_data[1:]):\n",
    "        if line[5] != '' and line[5][0].isdigit():\n",
    "            dates.append(line[2] + '-' + line[3] + '-' + line[4] + ',' +line[5] +','+line[7])\n",
    "    \n"
   ]
  },
  {
   "cell_type": "code",
   "execution_count": null,
   "metadata": {},
   "outputs": [],
   "source": []
  },
  {
   "cell_type": "code",
   "execution_count": null,
   "metadata": {},
   "outputs": [],
   "source": [
    "date = np.full(DATA_LENGTH, dtype = 'datetime64[D]', fill_value = 0)\n",
    "rain = np.full(DATA_LENGTH, dtype = np.float32, fill_value = 0)\n",
    "flags = np.full(DATA_LENGTH,dtype = np.bool, fill_value = 0)\n",
    "days = np.full(DATA_LENGTH, dtype = np.int64, fill_value = 0)\n",
    "for (index,line) in enumerate(dates):\n",
    "    data_lines  = line.split(',')\n",
    "    days[index] = data_lines[0][8:]\n",
    "    date[index] = data_lines[0]\n",
    "    rain[index] = data_lines[1]\n",
    "    flags[index]= data_lines[2]\n",
    "    \n"
   ]
  },
  {
   "cell_type": "code",
   "execution_count": null,
   "metadata": {},
   "outputs": [],
   "source": []
  },
  {
   "cell_type": "code",
   "execution_count": null,
   "metadata": {},
   "outputs": [],
   "source": [
    "def raindata(filename):\n",
    "\n",
    "    DATA_LENGTH = 27899\n",
    "    dates = []\n",
    "    with open(filename) as file:\n",
    "        rain_data = list(csv.reader(file, delimiter = ','))\n",
    "        for (index,line) in enumerate(rain_data[1:]):\n",
    "            if line[5] != '' and line[5][0].isdigit():\n",
    "                dates.append(line[2] + '-' + line[3] + '-' + line[4] + ',' +line[5] +','+line[7])\n",
    "\n",
    "\n",
    "    date = np.full(DATA_LENGTH, dtype = 'datetime64[D]', fill_value = 0)\n",
    "    rain = np.full(DATA_LENGTH, dtype = np.float64, fill_value = 0)\n",
    "    flags = np.full(DATA_LENGTH,dtype = np.bool, fill_value = 0)\n",
    "    for (index,line) in enumerate(dates):\n",
    "        data_lines  = line.split(',')\n",
    "        date[index] = data_lines[0]\n",
    "        rain[index] = data_lines[1]\n",
    "        flags[index]= data_lines[2]\n",
    "        \n",
    "    return (date, rain, flags)"
   ]
  },
  {
   "cell_type": "code",
   "execution_count": null,
   "metadata": {},
   "outputs": [],
   "source": [
    "date, rain, flags = raindata(DATA)\n"
   ]
  },
  {
   "cell_type": "code",
   "execution_count": null,
   "metadata": {},
   "outputs": [],
   "source": [
    "date"
   ]
  },
  {
   "cell_type": "markdown",
   "metadata": {},
   "source": [
    "* Using `enumerate`, write a loop to inspect each line in your list of cleaned data, and store the correct date, rainfall, and flag in the three arrays."
   ]
  },
  {
   "cell_type": "markdown",
   "metadata": {},
   "source": [
    "#### Putting it all together [Checked answer, 1 mark]\n",
    "\n",
    "\n",
    "Complete the function `raindata(filename)` which:\n",
    "* uses a csv reader to read the data from the file *filename* into a list of lists\n",
    "* uses a list comprehension to extract the lines in which the rainfall measurement is nonempty and begins with a numeric character\n",
    "* allocates space in arrays for `days`, `rain`, and `flags` with types `datetime64[D]`, `float`, and `boolean` respectively\n",
    "* assigns the data to the arrays (with boolean True representing the flag 'Y')\n",
    "* returns a triple `(days, rain, flags)` containing the three arrays\n",
    "\n",
    "\n",
    "For this exercise you don't need to check the period of rainfall or the validity of the flags, you can assume they're OK. (But if you do, that's OK too.)\n",
    "\n",
    "The tests will assume the data is stored in the same place as in the zip file downloaded from the BOM - that is, in the file:\n",
    "`IDCJAC0009_009021_1800/IDCJAC0009_009021_1800_Data.csv`"
   ]
  },
  {
   "cell_type": "code",
   "execution_count": null,
   "metadata": {
    "deletable": false,
    "editable": false,
    "nbgrader": {
     "grade": true,
     "grade_id": "raindata",
     "locked": true,
     "points": 1,
     "schema_version": 3,
     "solution": false,
     "task": false
    }
   },
   "outputs": [],
   "source": [
    "from nose.tools import assert_equal\n",
    "AIRPORT_DATA = \"IDCJAC0009_009021_1800/IDCJAC0009_009021_1800_Data.csv\"\n",
    "(days, rain, flags) = raindata(AIRPORT_DATA)\n",
    "assert_equal(len(days), len(rain))\n",
    "rdlist = list(zip(days, rain, flags))\n",
    "assert_equal(rdlist[0], (np.datetime64('1944-05-01'), 0.0, True))\n",
    "assert_equal(rdlist[3], (np.datetime64('1944-05-04'), 4.3, True))\n",
    "print(\"So far so good. But always do your own testing!\")\n"
   ]
  },
  {
   "cell_type": "code",
   "execution_count": null,
   "metadata": {},
   "outputs": [],
   "source": []
  },
  {
   "cell_type": "markdown",
   "metadata": {},
   "source": [
    "## Data Visualisation and Analysis\n",
    "\n",
    "* Do a scatter plot of the amount of rain against days for the Perth Airport data.\n",
    "\n",
    "Your plot might look something like this:\n",
    "\n",
    "![](airport.png)\n",
    "\n",
    "Can you see any trend in the data?"
   ]
  },
  {
   "cell_type": "code",
   "execution_count": null,
   "metadata": {},
   "outputs": [],
   "source": [
    "import csv\n",
    "import numpy as np\n",
    "DATA = 'IDCJAC0009_009021_1800_Data.csv'\n",
    "\n",
    "def raindata(filename):\n",
    "\n",
    "    DATA_LENGTH = 27899\n",
    "    dates = []\n",
    "    with open(filename) as file:\n",
    "        rain_data = list(csv.reader(file, delimiter = ','))\n",
    "        for (index,line) in enumerate(rain_data[1:]):\n",
    "            if line[5] != '' and line[5][0].isdigit():\n",
    "                dates.append(line[2] + '-' + line[3] + '-' + line[4] + ',' +line[5] +','+line[7])\n",
    "\n",
    "\n",
    "    date = np.full(DATA_LENGTH, dtype = 'datetime64[D]', fill_value = 0)\n",
    "    rain = np.full(DATA_LENGTH, dtype = np.float64, fill_value = 0)\n",
    "    flags = np.full(DATA_LENGTH,dtype = np.bool, fill_value = 0)\n",
    "    for (index,line) in enumerate(dates):\n",
    "        data_lines  = line.split(',')\n",
    "        date[index] = data_lines[0]\n",
    "        rain[index] = data_lines[1]\n",
    "        flags[index]= data_lines[2]\n",
    "        \n",
    "    return (date, rain, flags)"
   ]
  },
  {
   "cell_type": "code",
   "execution_count": null,
   "metadata": {},
   "outputs": [],
   "source": [
    "import matplotlib.pyplot as plt\n"
   ]
  },
  {
   "cell_type": "code",
   "execution_count": null,
   "metadata": {},
   "outputs": [],
   "source": [
    "plt.figure(figsize= (12,6))\n",
    "plt.scatter(date, rain)\n",
    "plt.show()"
   ]
  },
  {
   "cell_type": "markdown",
   "metadata": {},
   "source": [
    "- Majority of the data points have uniform distribution(under 60mm); there is no clear trend in rainfall over the period shown. There is one point over 120mm that could be an outlier which means there might have happened an extraordinary event, assuming high accuracy in data collection."
   ]
  },
  {
   "cell_type": "code",
   "execution_count": null,
   "metadata": {},
   "outputs": [],
   "source": [
    "plt.figure(figsize= (12,6))\n",
    "plt.scatter(date, rain, alpha= 0.1)\n",
    "plt.show()"
   ]
  },
  {
   "cell_type": "markdown",
   "metadata": {},
   "source": [
    "There is a lot of overlap between the sample points. Once way to see better what is happening is to set the opaqueness (or, conversely, transparency) or *alpha* value.\n",
    "\n",
    "* Check the documentation for plt.scatter() and set the alpha value to 0.1.\n",
    "\n",
    "Can you see any trends yet?"
   ]
  },
  {
   "cell_type": "markdown",
   "metadata": {},
   "source": [
    "- The alpha = 0.1 allows us to see even clearer that much of the rain is more or less overlapping each other below 10mm."
   ]
  },
  {
   "cell_type": "markdown",
   "metadata": {},
   "source": [
    "### Comparing with averages\n",
    "\n",
    "* Plot the data against a line showing the average rainfall received at the weather station.\n",
    "\n",
    "Can you see any trends?"
   ]
  },
  {
   "cell_type": "code",
   "execution_count": null,
   "metadata": {},
   "outputs": [],
   "source": [
    "mean = np.mean(rain)\n",
    "mean_of_rain = np.full(len(rain), mean)"
   ]
  },
  {
   "cell_type": "code",
   "execution_count": null,
   "metadata": {},
   "outputs": [],
   "source": [
    "plt.figure(figsize= (12,6))\n",
    "plt.plot(date,mean_of_rain, color = 'red')\n",
    "plt.scatter(date, rain, alpha= 0.1)\n",
    "plt.show()"
   ]
  },
  {
   "cell_type": "markdown",
   "metadata": {},
   "source": [
    "* Create a boolean mask (over the days) that can be used to extract the data between 1950 inclusive and 1960 exclusive.\n",
    "\n",
    "'Inclusive' means it includes 1950 (the interval is closed on the left), 'exclusive' means it excludes 1960 (the interval is open on the right).\n",
    "\n",
    "You should use `datetime64` objects to set the boundaries."
   ]
  },
  {
   "cell_type": "code",
   "execution_count": null,
   "metadata": {},
   "outputs": [],
   "source": [
    "date, rain, flags = raindata(DATA)\n",
    "date"
   ]
  },
  {
   "cell_type": "code",
   "execution_count": null,
   "metadata": {},
   "outputs": [],
   "source": [
    "date_str = date.astype(str)\n",
    "print(date_str)"
   ]
  },
  {
   "cell_type": "code",
   "execution_count": null,
   "metadata": {},
   "outputs": [],
   "source": [
    "date_str['1950-01-01':'1960-01-01']"
   ]
  },
  {
   "cell_type": "code",
   "execution_count": null,
   "metadata": {},
   "outputs": [],
   "source": [
    "date_mask = (date > np.datetime64('1949-12-31') and date < np.datetime64('1960-01-01'))"
   ]
  },
  {
   "cell_type": "code",
   "execution_count": null,
   "metadata": {},
   "outputs": [],
   "source": [
    "date_mask_greater_inclusive = (date > np.datetime64('1949-12-31'))\n",
    "inclusive_date = date[date_mask_greater_inclusive]\n",
    "date_mask_smaller_exclusive = (inclusive_date < np.datetime64('1960-01-01'))\n",
    "exclusive_date = inclusive_date[date_mask_smaller_exclusive]\n",
    "\n",
    "for i in enumerate(exclusive_date):\n",
    "    print(i)"
   ]
  },
  {
   "cell_type": "markdown",
   "metadata": {},
   "source": [
    "* Use your mask to plot the rainfall for the 1950s, against the average for the 1950s.\n",
    "\n",
    "As its a bit less crowded, you might choose to use a little higher alpha value.\n",
    "\n",
    "Your output might look something like this:\n",
    "\n",
    "![](airport50s.png)"
   ]
  },
  {
   "cell_type": "code",
   "execution_count": null,
   "metadata": {},
   "outputs": [],
   "source": [
    "rain_inclusive = rain[date_mask_greater_inclusive]"
   ]
  },
  {
   "cell_type": "code",
   "execution_count": null,
   "metadata": {},
   "outputs": [],
   "source": [
    "rain_exclusive = rain_inclusive[date_mask_smaller_exclusive]\n"
   ]
  },
  {
   "cell_type": "code",
   "execution_count": null,
   "metadata": {},
   "outputs": [],
   "source": [
    "mean_rain_50s_60 = np.mean(rain_exclusive)\n",
    "print(mean_rain_50s_60)"
   ]
  },
  {
   "cell_type": "code",
   "execution_count": null,
   "metadata": {},
   "outputs": [],
   "source": [
    "mean_line = np.full(len(exclusive_date), mean_rain_50s_60)\n",
    "plt.plot(exclusive_date, mean_line, color = 'red')\n",
    "plt.scatter(exclusive_date, rain_exclusive)\n",
    "plt.show()"
   ]
  },
  {
   "cell_type": "markdown",
   "metadata": {},
   "source": [
    "Your boss says \"I've changed my mind, I want to see the data from 1950 to 1951\".\n",
    "\n",
    "* Change your mask to meet the new spec and replot.\n",
    "\n",
    "You shouldn't need to change anything except the mask - the plotting logic stays the same. Even though we haven't written a function (yet), this shows the power and elegance of reusable programming elements!"
   ]
  },
  {
   "cell_type": "markdown",
   "metadata": {},
   "source": [
    "Let's go ahead and write a function.\n",
    "\n",
    "* Write a function `get_averages(days, rain, first, last)` that:\n",
    "   * takes the `days` and `rain` arrays and two dates, `first` and `last`\n",
    "   * returns a pair `(selected_days, avs)` where\n",
    "     * `selected_days` are those days that lie between first (inclusive) and last (exclusive)\n",
    "     * `avs` is an array of values the same size as `selected_days`, which are all the same and are equal to the average rainfall over that period\n",
    "\n",
    "As always, you should check your code on some values to satisfy yourself that it works."
   ]
  },
  {
   "cell_type": "code",
   "execution_count": 24,
   "metadata": {},
   "outputs": [],
   "source": [
    "first = np.datetime64('1945-01-01')"
   ]
  },
  {
   "cell_type": "code",
   "execution_count": 25,
   "metadata": {},
   "outputs": [],
   "source": [
    "last = np.datetime64('1946-01-01')"
   ]
  },
  {
   "cell_type": "code",
   "execution_count": null,
   "metadata": {},
   "outputs": [],
   "source": []
  },
  {
   "cell_type": "code",
   "execution_count": 180,
   "metadata": {},
   "outputs": [],
   "source": [
    "def get_averages(date, rain, first, last):\n",
    "    first = np.datetime64(first)\n",
    "    last = np.datetime64(last)\n",
    "    greater_than_first_mask = (date >= first)\n",
    "    greater_than_first_date = date[greater_than_first_mask]\n",
    "    smaller_than_last_mask = (greater_than_first_date < last)\n",
    "    selected_days = greater_than_first_date[smaller_than_last_mask]\n",
    "    rain_greater_than_first = rain[greater_than_first_mask]\n",
    "    rain_smaller_than_last = rain_greater_than_first[smaller_than_last_mask]\n",
    "    mean_rain = np.mean(rain_smaller_than_last)\n",
    "    avs = np.full(len(selected_days), mean_rain)\n",
    "    \n",
    "    return (selected_days, avs)"
   ]
  },
  {
   "cell_type": "code",
   "execution_count": null,
   "metadata": {},
   "outputs": [],
   "source": []
  },
  {
   "cell_type": "code",
   "execution_count": 120,
   "metadata": {},
   "outputs": [],
   "source": [
    "(decade_50_60, avs_1950_1960s)= get_averages(date,rain,'1950-01-01','1960-01-02')"
   ]
  },
  {
   "cell_type": "code",
   "execution_count": 124,
   "metadata": {},
   "outputs": [
    {
     "data": {
      "text/plain": [
       "[<matplotlib.lines.Line2D at 0x7fe38a579910>]"
      ]
     },
     "execution_count": 124,
     "metadata": {},
     "output_type": "execute_result"
    },
    {
     "data": {
      "image/png": "[encoded data removed]",
      "text/plain": [
       "<Figure size 432x288 with 1 Axes>"
      ]
     },
     "metadata": {
      "needs_background": "light"
     },
     "output_type": "display_data"
    }
   ],
   "source": [
    "plt.scatter(decade_50_60, rain_50s_60s)\n",
    "plt.plot(decade_50_60, avs_1950_1960s, color = 'red')"
   ]
  },
  {
   "cell_type": "markdown",
   "metadata": {},
   "source": [
    "* Generate your plot again, but this time use the above method to get the average between 1950 and 1960 and plot that as a line on the graph.\n",
    "\n",
    "Increase the default width of the average line so its easier to see."
   ]
  },
  {
   "cell_type": "markdown",
   "metadata": {},
   "source": [
    "* Use `arange` (one line) to generate an array containing all the decade start dates from 1940 to 2020.\n",
    "\n",
    "Your array might look like this:\n",
    "\n",
    "```array(['1940', '1950', '1960', '1970', '1980', '1990', '2000', '2010', '2020'], dtype='datetime64[Y]')```"
   ]
  },
  {
   "cell_type": "code",
   "execution_count": 251,
   "metadata": {},
   "outputs": [
    {
     "data": {
      "text/plain": [
       "array(['1940', '1950', '1960', '1970', '1980', '1990', '2000', '2010',\n",
       "       '2020'], dtype='<U22')"
      ]
     },
     "execution_count": 251,
     "metadata": {},
     "output_type": "execute_result"
    }
   ],
   "source": [
    "decade = np.arange('1940', '2021',10, dtype='datetime64[Y]')\n",
    "decade_str = decade.astype('str')\n",
    "\n",
    "decade_str"
   ]
  },
  {
   "cell_type": "markdown",
   "metadata": {},
   "source": [
    "* Using this array as an iterable, call `get_averages` to successively plot each decade's average on your scatter plot.\n",
    "\n",
    "Can you see any trend yet?"
   ]
  },
  {
   "cell_type": "code",
   "execution_count": 244,
   "metadata": {},
   "outputs": [],
   "source": [
    "(decade_50_60, avs_1950_1960s)= get_averages(date,rain,'1950','1960')"
   ]
  },
  {
   "cell_type": "code",
   "execution_count": 245,
   "metadata": {},
   "outputs": [
    {
     "data": {
      "text/plain": [
       "array([2.27541073, 2.27541073, 2.27541073, ..., 2.27541073, 2.27541073,\n",
       "       2.27541073])"
      ]
     },
     "execution_count": 245,
     "metadata": {},
     "output_type": "execute_result"
    }
   ],
   "source": [
    "avs_1950_1960s"
   ]
  },
  {
   "cell_type": "code",
   "execution_count": 246,
   "metadata": {},
   "outputs": [],
   "source": [
    "(decade_60_70, avs_1960_1970s)= get_averages(date,rain,'1960','1970')"
   ]
  },
  {
   "cell_type": "code",
   "execution_count": 247,
   "metadata": {},
   "outputs": [
    {
     "data": {
      "text/plain": [
       "array([2.31204489, 2.31204489, 2.31204489, ..., 2.31204489, 2.31204489,\n",
       "       2.31204489])"
      ]
     },
     "execution_count": 247,
     "metadata": {},
     "output_type": "execute_result"
    }
   ],
   "source": [
    "avs_1960_1970s"
   ]
  },
  {
   "cell_type": "code",
   "execution_count": 256,
   "metadata": {},
   "outputs": [],
   "source": [
    "decadel_averages = {}\n",
    "for i in range(len(decade_str)-1):\n",
    "    a = get_averages(date,rain,decade_str[i],decade_str[i+1])\n",
    "    decadel_averages[decade_str[i],decade_str[i+1]]= a[1][0]\n",
    "\n"
   ]
  },
  {
   "cell_type": "code",
   "execution_count": 262,
   "metadata": {},
   "outputs": [
    {
     "name": "stdout",
     "output_type": "stream",
     "text": [
      "('1940', '1950') 2.458908739739256\n",
      "('1950', '1960') 2.2754107338444687\n",
      "('1960', '1970') 2.312044894607172\n",
      "('1970', '1980') 2.0296002190580507\n",
      "('1980', '1990') 2.047111962770326\n",
      "('1990', '2000') 2.096440306681271\n",
      "('2000', '2010') 1.8707363810566657\n",
      "('2010', '2020') 1.79184008762322\n"
     ]
    }
   ],
   "source": [
    "for key in decadel_averages:\n",
    "    print(key, decadel_averages[key])"
   ]
  },
  {
   "cell_type": "code",
   "execution_count": 260,
   "metadata": {},
   "outputs": [
    {
     "data": {
      "text/plain": [
       "(array(['1944-05-01', '1944-05-02', '1944-05-03', ..., '1949-12-29',\n",
       "        '1949-12-30', '1949-12-31'], dtype='datetime64[D]'),\n",
       " array([2.45890874, 2.45890874, 2.45890874, ..., 2.45890874, 2.45890874,\n",
       "        2.45890874]))"
      ]
     },
     "execution_count": 260,
     "metadata": {},
     "output_type": "execute_result"
    }
   ],
   "source": [
    "get_averages(date, rain, '1940','1950')"
   ]
  },
  {
   "cell_type": "code",
   "execution_count": 281,
   "metadata": {},
   "outputs": [
    {
     "ename": "AttributeError",
     "evalue": "'numpy.ndarray' object has no attribute 'append'",
     "output_type": "error",
     "traceback": [
      "\u001b[0;31m---------------------------------------------------------------------------\u001b[0m",
      "\u001b[0;31mAttributeError\u001b[0m                            Traceback (most recent call last)",
      "\u001b[0;32m<ipython-input-281-414b4835db0b>\u001b[0m in \u001b[0;36m<module>\u001b[0;34m\u001b[0m\n\u001b[1;32m      3\u001b[0m \u001b[0;32mfor\u001b[0m \u001b[0mi\u001b[0m \u001b[0;32min\u001b[0m \u001b[0mrange\u001b[0m\u001b[0;34m(\u001b[0m\u001b[0mlen\u001b[0m\u001b[0;34m(\u001b[0m\u001b[0mdecade_str\u001b[0m\u001b[0;34m)\u001b[0m\u001b[0;34m-\u001b[0m\u001b[0;36m1\u001b[0m\u001b[0;34m)\u001b[0m\u001b[0;34m:\u001b[0m\u001b[0;34m\u001b[0m\u001b[0;34m\u001b[0m\u001b[0m\n\u001b[1;32m      4\u001b[0m     \u001b[0ma\u001b[0m \u001b[0;34m=\u001b[0m \u001b[0mget_averages\u001b[0m\u001b[0;34m(\u001b[0m\u001b[0mdate\u001b[0m\u001b[0;34m,\u001b[0m\u001b[0mrain\u001b[0m\u001b[0;34m,\u001b[0m\u001b[0mdecade_str\u001b[0m\u001b[0;34m[\u001b[0m\u001b[0mi\u001b[0m\u001b[0;34m]\u001b[0m\u001b[0;34m,\u001b[0m\u001b[0mdecade_str\u001b[0m\u001b[0;34m[\u001b[0m\u001b[0mi\u001b[0m\u001b[0;34m+\u001b[0m\u001b[0;36m1\u001b[0m\u001b[0;34m]\u001b[0m\u001b[0;34m)\u001b[0m\u001b[0;34m\u001b[0m\u001b[0;34m\u001b[0m\u001b[0m\n\u001b[0;32m----> 5\u001b[0;31m     \u001b[0mdecade\u001b[0m\u001b[0;34m.\u001b[0m\u001b[0mappend\u001b[0m\u001b[0;34m(\u001b[0m\u001b[0ma\u001b[0m\u001b[0;34m[\u001b[0m\u001b[0;36m0\u001b[0m\u001b[0;34m]\u001b[0m\u001b[0;34m)\u001b[0m\u001b[0;34m\u001b[0m\u001b[0;34m\u001b[0m\u001b[0m\n\u001b[0m\u001b[1;32m      6\u001b[0m \u001b[0;34m\u001b[0m\u001b[0m\n",
      "\u001b[0;31mAttributeError\u001b[0m: 'numpy.ndarray' object has no attribute 'append'"
     ]
    }
   ],
   "source": [
    "decades = []\n",
    "decade_averages =[]\n",
    "for i in range(len(decade_str)-1):\n",
    "    a = get_averages(date,rain,decade_str[i],decade_str[i+1])\n",
    "\n",
    "    \n"
   ]
  },
  {
   "cell_type": "code",
   "execution_count": 286,
   "metadata": {},
   "outputs": [
    {
     "data": {
      "image/png": "[encoded data removed]",
      "text/plain": [
       "<Figure size 864x432 with 1 Axes>"
      ]
     },
     "metadata": {
      "needs_background": "light"
     },
     "output_type": "display_data"
    }
   ],
   "source": [
    "plt.figure(figsize=(12,6))\n",
    "plt.scatter(date, rain)\n",
    "for i in range(len(decade_str)-1):\n",
    "    decades,averages = get_averages(date,rain,decade_str[i],decade_str[i+1])\n",
    "    plt.plot(decades, averages)\n",
    "plt.show()"
   ]
  },
  {
   "cell_type": "markdown",
   "metadata": {},
   "source": [
    "- The average rainfall between over the decades 1940-2010 has been declining. As shown above,1940s rainfall average was at about 2.5mm, but 60-70 years later, the avarage has decreased to about 1.8mm. Which is an exact difference of 0.67mm lesser rain on average. "
   ]
  },
  {
   "cell_type": "markdown",
   "metadata": {},
   "source": [
    "* Plot just the decadal averages on their own (without the scatter plot).\n",
    "\n",
    "Can you see a trend?"
   ]
  },
  {
   "cell_type": "code",
   "execution_count": 285,
   "metadata": {},
   "outputs": [
    {
     "data": {
      "image/png": "[encoded data removed]",
      "text/plain": [
       "<Figure size 432x288 with 1 Axes>"
      ]
     },
     "metadata": {
      "needs_background": "light"
     },
     "output_type": "display_data"
    }
   ],
   "source": [
    "for i in range(len(decade_str)-1):\n",
    "    decades,averages = get_averages(date,rain,decade_str[i],decade_str[i+1])\n",
    "    plt.plot(decades, averages)\n",
    "plt.show()"
   ]
  },
  {
   "cell_type": "markdown",
   "metadata": {},
   "source": [
    "#### Accumulating the decadal means [2 lab marks]\n",
    "\n",
    "Write a function `all_decades (days, rain)` that returns two arrays, one of x-values and one of y-values, that can be used to plot a single line of all the decadal averages as follows:\n",
    "    \n",
    "```\n",
    "(mean_xs, mean_ys) = all_decades(days, rain)\n",
    "plt.plot(mean_xs, mean_ys)\n",
    "plt.show()\n",
    "```\n",
    "\n",
    "Here `mean_xs` should be dates (datetime64) and `mean_ys` should be average rainfall in mms (float).\n",
    "\n",
    "As usual you may break it down into more than one function if you wish."
   ]
  },
  {
   "cell_type": "code",
   "execution_count": null,
   "metadata": {
    "deletable": false,
    "editable": false,
    "nbgrader": {
     "grade": true,
     "grade_id": "all_decades-1",
     "locked": true,
     "points": 1,
     "schema_version": 3,
     "solution": false,
     "task": false
    }
   },
   "outputs": [],
   "source": [
    "from nose.tools import assert_equal\n",
    "AIRPORT_DATA = \"IDCJAC0009_009021_1800/IDCJAC0009_009021_1800_Data.csv\"\n",
    "(days, rain, flags) = raindata(AIRPORT_DATA)\n",
    "(mean_xs, mean_ys) = all_decades(days, rain)\n",
    "avs = list(zip(mean_xs, mean_ys))\n",
    "assert_equal(avs[0],(np.datetime64('1944-05-01'), 2.458908739739256))\n"
   ]
  },
  {
   "cell_type": "code",
   "execution_count": null,
   "metadata": {
    "deletable": false,
    "editable": false,
    "nbgrader": {
     "grade": true,
     "grade_id": "all_decades-2",
     "locked": true,
     "points": 1,
     "schema_version": 3,
     "solution": false,
     "task": false
    }
   },
   "outputs": [],
   "source": [
    "# marking use only\n"
   ]
  },
  {
   "cell_type": "markdown",
   "metadata": {},
   "source": [
    "* Plot the average rainfall line."
   ]
  },
  {
   "cell_type": "markdown",
   "metadata": {},
   "source": [
    "### Flags\n",
    "\n",
    "So far we have not taken into account the flags that indicate the data that has been checked and determined valid.\n",
    "\n",
    "* Change your plot of the decadal means so that it plots a green line for all data that has been verified, and an amber (orange) line for all data that has yet to be verified. Include a legend that informs the reader of what the colours mean."
   ]
  },
  {
   "cell_type": "code",
   "execution_count": null,
   "metadata": {},
   "outputs": [],
   "source": []
  },
  {
   "cell_type": "markdown",
   "metadata": {},
   "source": [
    "### Midland weather station data\n",
    "\n",
    "We saw from our initial inspection that the Midland data has missing portions.\n",
    "\n",
    "* Plot a line of decadal averages for the Midland data. This time use green for verified data, orange for unverified data, and red for any periods of missing data.\n",
    "\n"
   ]
  },
  {
   "cell_type": "markdown",
   "metadata": {},
   "source": [
    "## Putting it all together\n",
    "\n",
    "* Finally, plot the Midland and Perth Airport decadal lines on the same plot, using the 'traffic light' (red, orange, green) colour scheme, along with a legend.\n",
    "\n",
    "What observations can you make?"
   ]
  },
  {
   "cell_type": "markdown",
   "metadata": {},
   "source": [
    "&copy; Cara MacNish"
   ]
  }
 ],
 "metadata": {
  "kernelspec": {
   "display_name": "Python 3",
   "language": "python",
   "name": "python3"
  },
  "language_info": {
   "codemirror_mode": {
    "name": "ipython",
    "version": 3
   },
   "file_extension": ".py",
   "mimetype": "text/x-python",
   "name": "python",
   "nbconvert_exporter": "python",
   "pygments_lexer": "ipython3",
   "version": "3.7.11"
  }
 },
 "nbformat": 4,
 "nbformat_minor": 4
}
