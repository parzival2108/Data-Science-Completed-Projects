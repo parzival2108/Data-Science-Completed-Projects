{
 "cells": [
  {
   "cell_type": "markdown",
   "metadata": {},
   "source": [
    "<span style=\"font-size:x-large;\">**Lab 1**</span>\n",
    "\n",
    "# Diversity in Study: What (Else) Are We All Studying?\n",
    "\n",
    "----\n"
   ]
  },
  {
   "cell_type": "markdown",
   "metadata": {},
   "source": [
    "## Data Science Across the Disciplines\n",
    "\n",
    "Data Science has application right across the disciplines. In this course we'll see case studies ranging from the Environment to Economics to Health.\n",
    "\n",
    "Before we start this journey, it's interesting to see what diverse areas the group is studying. As we said in the Welcome lecture, there are many students in the unit with many different study backgrounds and focusses.\n",
    "\n",
    "To get a feel for this, we'll look at the range of enrolment patterns for this year.\n",
    "\n",
    "Note that some randomisation has been applied to the enrolment patterns to ensure privacy and anonymity. However the disciplines are preserved."
   ]
  },
  {
   "cell_type": "markdown",
   "metadata": {},
   "source": [
    "#### Reference links\n",
    "\n",
    "In this lab we will practise reading in data from a file, cleaning the data, and observing features of the data.\n",
    "\n",
    "We'll be using standard python. The latest documentation will be useful, and it is suggested you bookmark it for future use.\n",
    "\n",
    "* _The Python Language Reference_, https://docs.python.org/3/reference/\n",
    "* _The Python Standard Library_, https://docs.python.org/3/library/\n",
    "* _The Python Tutorial_, https://docs.python.org/3/tutorial/"
   ]
  },
  {
   "cell_type": "markdown",
   "metadata": {},
   "source": [
    "## Data Acquisition\n",
    "\n",
    "In future labs we'll be hunting down data as part of the work. In this case however the data will be provided in a text file.\n",
    "\n",
    "* Open the directory from the folder icon. Click on the file `unit-patterns.txt` to inspect the file.\n",
    "\n",
    "The file contains all the different study plans of enrolled students (at the time of writing) with some obfuscation for privacy and anonymity.\n",
    "\n",
    "This is a *tab-separated values (tsv)* file with two *fields*.\n",
    "\n",
    "The first field contains a list of units studied (separated by plus signs), the second (after the tab character) contains a number and a percentage.\n",
    "\n",
    "Note that in this lab we will refer to an instance of a unit name combined with a teaching period as a 'unit' - so for example, CITS1401-1 and CITS1401-2 would be treated as two distinct units.\n",
    "\n",
    "---\n",
    "\n",
    "Let's start with a constant to identify the file. By convention we'll use uppercase for constants. Run the following cell to make the assignment."
   ]
  },
  {
   "cell_type": "code",
   "execution_count": 3,
   "metadata": {},
   "outputs": [],
   "source": [
    "DATAFILE = \"unit-patterns.txt\""
   ]
  },
  {
   "cell_type": "code",
   "execution_count": null,
   "metadata": {},
   "outputs": [],
   "source": []
  },
  {
   "cell_type": "markdown",
   "metadata": {},
   "source": [
    "As we saw in the 'Getting Started' lab, we can check to see that the assignment was made just by typing the variable name as the last thing in the cell and running the cell. Try this now."
   ]
  },
  {
   "cell_type": "markdown",
   "metadata": {},
   "source": [
    "#### Reading the file\n",
    "\n",
    "* Use the built-in function `open()` and the text file IO method `readline()` to read in and print out the first 5 lines of the file. \n",
    "\n",
    "Your output should start like this:\n",
    "```\n",
    " CITS2224-1 + CITS2023-2 + CITS3221-2 + CITS3224-1 + CITS3225-1 \t 1 (2.0%) \n",
    "\n",
    " CITS2023-2 + ENSC3221-2 + ENSC3224-1 + ENSC3225-1 + ENSC3227-2 + ENSC3210-1 + ENSC3221-1 + MECH3023-2 \t 1 (2.0%) \n",
    "\n",
    " CITS1021-2 + CITS2021-1 + CITS2023-2 + ENSC2224-1 + ENSC3211-2 + ENSC3213-2 + MATH2221-1 + STAT1524-1 \t 1 (2.0%) \n",
    "...\n",
    "```\n",
    "\n",
    "Tip: If you're a little rusty on reading files, you may find this tutorial useful: [7.2. Reading and Writing Files](https://docs.python.org/3/tutorial/inputoutput.html?highlight=readline#reading-and-writing-files).\n",
    "\n",
    "Also the Case Study video \"CITS2402 FakeNews 2\" provides a couple of examples of working with a tsv file.\n",
    "\n"
   ]
  },
  {
   "cell_type": "code",
   "execution_count": 2,
   "metadata": {},
   "outputs": [],
   "source": [
    "\n",
    "with open(DATAFILE) as file:\n",
    "    for i in range(5):\n",
    "        line = file.readline()\n"
   ]
  },
  {
   "cell_type": "markdown",
   "metadata": {},
   "source": [
    "* Read the file again, but this time, as you read the lines from the file, save them in a list called `pattern-strings`.\n",
    "\n",
    "Printing the first 5 lines of your list should give:\n",
    "```\n",
    "[' CITS2224-1 + CITS2023-2 + CITS3221-2 + CITS3224-1 + CITS3225-1 \\t 1 (2.0%) \\n', ' CITS2023-2 + ENSC3221-2 + ENSC3224-1 + ENSC3225-1 + ENSC3227-2 + ENSC3210-1 + ENSC3221-1 + MECH3023-2 \\t 1 (2.0%) \\n', ' CITS1021-2 + CITS2021-1 + CITS2023-2 + ENSC2224-1 + ENSC3211-2 + ENSC3213-2 + MATH2221-1 + STAT1524-1 \\t 1 (2.0%) \\n', ' CITS2023-2 + CITS3220-2 + CITS3223-2 + CITS3021-1 + CITS3025-1 + MATH3224-1 + MATH3221-1 + STAT3264-1 + STAT3260-2 \\t 1 (2.0%) \\n', ' BIOC3221-1 + BIOC3224-1 + BIOC3225-2 + BIOC3225-2 + CITS1023-2 + CITS2021-1 + CITS2023-2 + MATH1211-1 \\t 1 (2.0%) \\n']\n",
    "```\n",
    "\n",
    "Tip: Rather than using `readline()`, use an *iterator* on the file directly to get each line in turn."
   ]
  },
  {
   "cell_type": "code",
   "execution_count": 3,
   "metadata": {},
   "outputs": [
    {
     "data": {
      "text/plain": [
       "[' CITS2224-1 + CITS2023-2 + CITS3221-2 + CITS3224-1 + CITS3225-1 \\t 1 (2.0%) \\n',\n",
       " ' CITS2023-2 + ENSC3221-2 + ENSC3224-1 + ENSC3225-1 + ENSC3227-2 + ENSC3210-1 + ENSC3221-1 + MECH3023-2 \\t 1 (2.0%) \\n',\n",
       " ' CITS1021-2 + CITS2021-1 + CITS2023-2 + ENSC2224-1 + ENSC3211-2 + ENSC3213-2 + MATH2221-1 + STAT1524-1 \\t 1 (2.0%) \\n',\n",
       " ' CITS2023-2 + CITS3220-2 + CITS3223-2 + CITS3021-1 + CITS3025-1 + MATH3224-1 + MATH3221-1 + STAT3264-1 + STAT3260-2 \\t 1 (2.0%) \\n',\n",
       " ' BIOC3221-1 + BIOC3224-1 + BIOC3225-2 + BIOC3225-2 + CITS1023-2 + CITS2021-1 + CITS2023-2 + MATH1211-1 \\t 1 (2.0%) \\n']"
      ]
     },
     "execution_count": 3,
     "metadata": {},
     "output_type": "execute_result"
    }
   ],
   "source": [
    "pattern_strings = []\n",
    "\n",
    "with open(DATAFILE) as file:\n",
    "    for lines in file:\n",
    "        pattern_strings.append(lines)\n",
    "pattern_strings[:5]"
   ]
  },
  {
   "cell_type": "markdown",
   "metadata": {},
   "source": [
    "## Data Cleaning"
   ]
  },
  {
   "cell_type": "markdown",
   "metadata": {},
   "source": [
    "We are only interested in the patterns to the left of the tab.\n",
    "\n",
    "* Using the string `partition()` method, modify your code so that `pattern_strings` contains only the unit patterns.\n",
    "\n",
    "The documentation for [String Methods](https://docs.python.org/3/library/stdtypes.html#string-methods) may be helpful.\n",
    "\n",
    "\n",
    "\n",
    "Printing the first 5 lines of your list (`print(pattern_strings[:5])`) should now give:\n",
    "```\n",
    "[' CITS2224-1 + CITS2023-2 + CITS3221-2 + CITS3224-1 + CITS3225-1 ', ' CITS2023-2 + ENSC3221-2 + ENSC3224-1 + ENSC3225-1 + ENSC3227-2 + ENSC3210-1 + ENSC3221-1 + MECH3023-2 ', ' CITS1021-2 + CITS2021-1 + CITS2023-2 + ENSC2224-1 + ENSC3211-2 + ENSC3213-2 + MATH2221-1 + STAT1524-1 ', ' CITS2023-2 + CITS3220-2 + CITS3223-2 + CITS3021-1 + CITS3025-1 + MATH3224-1 + MATH3221-1 + STAT3264-1 + STAT3260-2 ', ' BIOC3221-1 + BIOC3224-1 + BIOC3225-2 + BIOC3225-2 + CITS1023-2 + CITS2021-1 + CITS2023-2 + MATH1211-1 ']\n",
    "```\n",
    "\n",
    "* How many students were enrolled at the time the list was taken?"
   ]
  },
  {
   "cell_type": "code",
   "execution_count": 4,
   "metadata": {},
   "outputs": [
    {
     "name": "stdout",
     "output_type": "stream",
     "text": [
      "261\n"
     ]
    },
    {
     "data": {
      "text/plain": [
       "[' CITS2224-1 + CITS2023-2 + CITS3221-2 + CITS3224-1 + CITS3225-1 ',\n",
       " ' CITS2023-2 + ENSC3221-2 + ENSC3224-1 + ENSC3225-1 + ENSC3227-2 + ENSC3210-1 + ENSC3221-1 + MECH3023-2 ',\n",
       " ' CITS1021-2 + CITS2021-1 + CITS2023-2 + ENSC2224-1 + ENSC3211-2 + ENSC3213-2 + MATH2221-1 + STAT1524-1 ',\n",
       " ' CITS2023-2 + CITS3220-2 + CITS3223-2 + CITS3021-1 + CITS3025-1 + MATH3224-1 + MATH3221-1 + STAT3264-1 + STAT3260-2 ',\n",
       " ' BIOC3221-1 + BIOC3224-1 + BIOC3225-2 + BIOC3225-2 + CITS1023-2 + CITS2021-1 + CITS2023-2 + MATH1211-1 ',\n",
       " ' CITS2021-1 + CITS2023-2 + GRMN2025-1 + GRMN2020-2 + MATH1214-1 + MATH2521-2 + PHYS2221-1 + PHYS2223-2 ',\n",
       " ' CITS1221-1 + CITS1021-1 + CITS1023-2 + CITS2023-2 + MGMT1135-1 + MGMT1136-2 + STAT1024-1 + STAT2023-2 ',\n",
       " ' CITS1221-2 + CITS2023-2 + CITS3223-2 + CITS3021-1 + CITS3025-1 + CLAN3224-1 + STAT2021-1 + STAT3260-2 ',\n",
       " ' CITS2023-2 + CITS3025-1 + ECON1121-2 + FINA2229-1 + FINA2224-1 + MGMT1135-1 + MKTG1225-2 + PHAR1121-2 ',\n",
       " ' CITS2023-2 + CITS3220-2 + CITS3223-2 + STAT2023-2 ',\n",
       " ' CITS1221-1 + CITS1023-2 + CITS2223-2 + CITS2023-2 ',\n",
       " ' CITS2223-2 + CITS2224-1 + CITS3220-2 + ENSC1225-2 + ENSC2221-1 + ENSC2224-1 + MATH1214-1 ',\n",
       " ' CITS2223-2 + CITS2021-1 + CITS2023-2 + ENSC2221-1 + ENSC2224-1 + ENSC3223-2 + FINA1221-1 + STAT2023-2 ',\n",
       " ' CITS1221-1 + CITS2223-2 + CITS2211-2 + CITS2021-1 + CITS2023-2 + CITS3025-1 + SCIE1120-2 + STAT2021-1 ',\n",
       " ' ARTF2250-2 + CITS2223-2 + CITS2021-1 + CITS2023-2 + POLS1121-1 + STAT2021-1 + STAT2023-2 ',\n",
       " ' CITS2023-2 + FINA1129-2 + MGMT1135-2 + STAT1023-2 ',\n",
       " ' CITS2023-2 + CITS3221-2 + CITS3224-1 + CITS3225-1 + CITS3025-1 + JAPN1023-2 + MATH3225-2 + MUSC2275-1 ',\n",
       " ' CITS1021-1 + CITS2023-2 + MKTG1220-1 + MKTG2321-2 + MKTG2325-1 + MKTG3326-2 + STAT2021-1 + STAT2023-2 ',\n",
       " ' CITS2023-2 + FINA2220-1 + FINA2225-1 + FINA2224-1 + FINA2223-2 + STAT2021-1 + STAT2023-2 ',\n",
       " ' CITS1221-1 + CITS1021-1 + CITS1023-2 + CITS2223-2 + CITS2023-2 + ENSC1220-1 + MATH1211-2 + MATH1214-1 ',\n",
       " ' CITS1023-2 + CITS2023-2 + STAT1024-1 ',\n",
       " ' CITS1021-1 + CITS1023-2 + CITS2023-2 + IMED2223-2 + SCIE2124-1 + SPAN1021-1 + STAT1024-1 + STAT2023-2 ',\n",
       " ' CITS2023-2 + ENSC3228-2 + ENSC3229-1 + ENSC3215-1 + MATH1621-1 + MKTG1225-2 + SCIE1121-1 + SCIE1123-2 ',\n",
       " ' ASIA1221-1 + CITS1023-2 + CITS2223-2 + CITS2023-2 + MATH1621-1 + STAT1024-1 + STAT1023-2 ',\n",
       " ' CITS2023-2 + CITS3224-1 + CITS3025-1 + PHIL2221-2 + PHIL2227-2 ',\n",
       " ' CITS1023-2 + CITS2023-2 + CITS3220-2 + CITS3223-2 + CITS3025-1 + MKTG1225-1 + MUSC2270-1 + STAT1024-1 ',\n",
       " ' CITS2223-2 + CITS2211-2 + CITS2023-2 + COMM1223-2 + ENGL2021-1 + MATH1721-1 + PHIL1224-1 + STAT2021-1 ',\n",
       " ' ARCY2221-2 + CITS1023-2 + CITS2023-2 + MATH1721-1 + SCIE1121-1 + STAT1024-1 + STAT2023-2 ',\n",
       " ' CITS1221-1 + CITS1021-1 + CITS1023-2 + CITS2223-2 + CITS2211-2 + CITS2023-2 + FINA2229-1 + STAT1024-1 ',\n",
       " ' CITS2223-2 + CITS2023-2 + MUSC3571-1 + STAT1024-1 ',\n",
       " ' CHEM2221-1 + CHEM2223-2 + CITS1023-2 + CITS2023-2 + CITS3025-1 + FINA1129-2 + PUBH1121-1 + STAT1024-1 ',\n",
       " ' CITS2023-2 + ENSC3213-2 + MATH1211-1 + MATH1214-1 + MATH2521-2 + PHYS1224-1 + PHYS2221-1 + PHYS2223-2 ',\n",
       " ' CITS2023-2 + CITS3223-2 + CITS3021-1 + CITS3025-1 + FINA1129-2 + MATH1211-2 + MUSC2275-1 + STAT1024-1 ',\n",
       " ' CITS1021-1 + CITS1023-2 + CITS2023-2 + STAT1024-1 ',\n",
       " ' ASIA2220-1 + CHIN3029-1 + CITS1021-1 + CITS1023-2 + CITS2023-2 + STAT1024-1 + STAT2023-2 ',\n",
       " ' CITS3221-2 + CITS3224-1 + CITS3225-1 + CITS3223-2 + CITS3025-1 + FINA1129-2 + GEOG2221-2 + SCIE2225-1 ',\n",
       " ' CITS2023-2 + CITS3221-2 + CITS3224-1 + CITS3225-1 + CITS3223-2 + CITS3021-1 + CITS3025-1 + STAT2023-2 ',\n",
       " ' CITS2023-2 + CITS3223-2 + FINA2229-1 + FINA3320-1 + STAT2021-1 + STAT3260-2 ',\n",
       " ' CITS2023-2 + CITS3220-2 + CITS3223-2 + CITS3021-1 + CITS3025-1 + IMED3221-1 + IMED3224-1 + IMED3225-2 + IMED3220-2 ',\n",
       " ' CITS2223-2 + CITS2211-2 + CITS2023-2 + CITS3021-1 + CITS3025-1 + MATH1721-1 + STAT1024-1 + STAT2023-2 ',\n",
       " ' BIOC2221-1 + BIOC2223-2 + CITS1023-2 + CITS2023-2 + MATH1721-2 + PATH2214-1 + PATH2211-1 ',\n",
       " ' CITS1221-1 + CITS1021-1 + CITS1023-2 + CITS2023-2 + STAT2023-2 ',\n",
       " ' CITS1221-1 + CITS1021-1 + CITS1023-2 + CITS2223-2 + CITS2023-2 + MATH1211-1 + PHAR1121-2 + STAT1024-1 ',\n",
       " ' ACCT1121-1 + ACCT2113-2 + CITS1021-1 + CITS1023-2 + CITS2023-2 + ECON1121-2 + FINA1221-1 + STAT1024-1 ',\n",
       " ' CITS2211-2 + CITS2023-2 + CITS3224-1 + CITS3223-2 + CITS3021-1 + CITS3025-1 + GRMN1021-1 + STAT3260-2 ',\n",
       " ' CITS2023-2 + ENSC3216-2 + ENSC3221-1 + FINA1129-2 ',\n",
       " ' CITS1021-1 + CITS2023-2 + CITS3221-2 + ECON1124-1 + STAT2023-2 + SVLG1223-2 ',\n",
       " ' CITS1023-2 + CITS2021-1 + CITS2023-2 + CITS3221-2 + CITS3224-1 + CITS3223-2 + CITS3025-1 + MUSC1250-1 ',\n",
       " ' BIOL1134-1 + CITS1221-1 + CITS1021-1 + CITS1023-2 + CITS2023-2 + PHAR1121-2 + PSYC1121-1 + STAT1023-2 ',\n",
       " ' CITS1021-1 + CITS1023-2 + CITS2023-2 + ECON1121-1 + ECON1124-1 + ECON2230-2 + GCRL1224-1 + STAT1023-2 ',\n",
       " ' CITS2224-1 + CITS2211-2 + CITS2023-2 + CITS3221-2 + CITS3224-1 + CITS3225-1 ',\n",
       " ' CARS1223-2AA + CITS1221-1 + CITS1021-1 + CITS1023-2 + CITS2023-2 + GRMN1021-2 + MATH1724-1 + MATH1721-2 + STAT1024-1 ',\n",
       " ' CITS2224-1 + CITS2023-2 + CITS3225-1 + CITS3220-2 + ECON1124-1 + STAT2021-1 + STAT2023-2 ',\n",
       " ' CITS2223-2 + CITS2224-1 + CITS2211-2 + CITS2023-2 + ECON1124-1 + INMT2233-2 + PHIL1224-1 + STAT2021-1 ',\n",
       " ' CITS1023-2 + CITS2023-2 + CITS3025-1 + STAT2021-1 + STAT2023-2 ',\n",
       " ' CITS1023-2 + CITS2023-2 + MATH2221-1 + MATH2231-1 + STAT2023-2 + STAT3260-2 + STAT3025-1 ',\n",
       " ' CITS2023-2 + ECON3324-1 + FINA3320-1 + STAT2021-1 + STAT2023-2 + STAT3260-2 ',\n",
       " ' CITS1021-1 + CITS1023-2 + CITS2023-2 + ECON2220-1 + SCIE2267-2 + STAT1024-1 ',\n",
       " ' ACCT2331-1 + ACCT3323-2 + ACCT3323-2 + CITS1021-1 + CITS2023-2 + CITS3021-1 + MGMT1135-2 + STAT1524-1 + SVLG1224-Y3 ',\n",
       " ' CITS2023-2 + ENSC2221-1 + ENSC2224-1 + ENSC3221-2 + ENSC3224-1 + ENSC3220-1 + ENSC3227-2 + MATH3225-2 ',\n",
       " ' ACCT2114-1 + ACCT2331-1 + CITS2023-2 + CITS3021-1 + EMPL1121-2 + MUSC1981-2 + STAT2021-1 + STAT2023-2 ',\n",
       " ' CITS1021-1 + CITS1023-2 + CITS2023-2 + IMED2223-2 + SCIE2124-1 + SPAN1021-1 + STAT1024-1 + STAT2023-2 ',\n",
       " ' ANTH1221-1 + CITS1023-2 + CITS2023-2 + CITS3025-1 + ECON1124-1 + PSYC2225-1 + PSYC2228-2 + STAT1023-2 ',\n",
       " ' ACCT2114-1 + ACCT2221-1 + ACCT3323-2 + ACCT3323-2 + CITS1021-1 + CITS2021-2 + CITS2023-2 + MKTG1225-1 + STAT2021-1 ',\n",
       " ' CITS2021-1 + CITS2023-2 + CITS3220-2 + CITS3223-2 + CITS3025-1 + MKTG3327-1 ',\n",
       " ' CITS1021-1 + CITS2023-2 + CITS3223-2 + CITS3021-1 + CITS3025-1 + STAT2021-1 + STAT3260-2 ',\n",
       " ' CITS1021-2 + CITS2023-2 + ENSC3216-2 + ENSC3221-1 + MATH1214-1 + MATH3225-2 ',\n",
       " ' CITS1221-1 + CITS1021-1 + CITS1023-2 + CITS2023-2 + ECON1111-1 + MUSC1250-1 + MUSC1255-2 + PHYS1221-2 ',\n",
       " ' CITS2224-1 + CITS2211-2 + CITS2023-2 + CITS3221-2 + CITS3220-2 + EDUC1124-1 + PSYC1121-1 + STAT1024-1 ',\n",
       " ' BIOL1134-1 + CITS1221-1 + CITS1021-1 + CITS1023-2 + CITS2023-2 + SCIE1123-2 + SSEH1125-1 + STAT1023-2 ',\n",
       " ' CITS2023-2 + CITS3220-2 + CITS3223-2 + STAT2023-2 ',\n",
       " ' CITS1021-1 + CITS2023-2 ',\n",
       " ' CITS1221-1 + CITS1021-1 + CITS2223-2 + CITS2211-2 + CITS2021-1 + CITS2023-2 + ECON1123-2 + PUBH1121-1 ',\n",
       " ' CITS2023-2 + CITS3221-2 + CITS3224-1 + CITS3225-1 + CITS3223-2 + CITS3021-1 + CITS3025-1 + MUSC1255-2 ',\n",
       " ' CITS2021-1 + CITS2023-2 + CITS3220-2 + CITS3223-2 + CITS3025-1 + LAWS3328-1 + STAT2021-1 + STAT3260-2 ',\n",
       " ' CITS2023-2 + MATH1721-1 ',\n",
       " ' CITS2223-2 + CITS2224-1 + CITS2211-2 + CITS2021-1 + CITS2023-2 + CITS3025-1 + GEOG2221-2 + STAT2021-1 ',\n",
       " ' CITS2023-2 + CITS3224-1 + CITS3223-2 + CITS3021-1 + CITS3025-1 + MUSC1255-2 ',\n",
       " ' CITS2023-2 + CITS3220-2 + CITS3021-1 + FINA2220-1 + FINA2227-1 + FINA2223-2 + STAT2021-1 + STAT2023-2 ',\n",
       " ' CITS2223-2 + CITS2224-1 + CITS2021-2 + CITS2023-2 + CITS3021-1 + FINA1129-2 + MUSC1250-1 + STAT1524-1 ',\n",
       " ' CITS2023-2 + CITS3021-1 + CITS3025-1 + ECON1121-2 + STAT2023-2 + STAT3260-2 ',\n",
       " ' ACCT1121-1 + CITS1221-2 + CITS1021-1 + CITS1023-2 + CITS2023-2 + FINA1221-1 + FINA2223-2 + STAT1024-1 ',\n",
       " ' CITS1021-2 + CITS2223-2 + CITS2224-1 + CITS2023-2 + ECON1121-1 + PSYC1121-1 + SCOM1121-1 ',\n",
       " ' CITS2224-1 + CITS2023-2 + CITS3221-2 + CITS3220-2 + CITS3025-1 + PHIL1224-1 + STAT1024-1 + STAT2023-2 ',\n",
       " ' CITS2021-1 + CITS2023-2 + CITS3220-2 + FINA2227-1 + FINA2229-1 + FINA2223-2 + STAT2021-1 + STAT2023-2 ',\n",
       " ' ACCT2113-2 + ANHB1121-1 + CITS1021-1 + CITS1023-2 + CITS2023-2 + STAT1024-1 + STAT2023-2 ',\n",
       " ' CITS1221-2 + CITS2223-2 + CITS2023-2 + CITS3021-1 + CITS3025-1 + MATH1721-1 + STAT1024-1 + STAT2023-2 ',\n",
       " ' CITS2223-2 + CITS2021-1 + CITS2023-2 + CITS3021-1 ',\n",
       " ' ACCT1121-2 + CITS2224-1 + CITS2023-2 + CITS3221-2 + CITS3224-1 + CITS3220-2 + CITS3021-1 + STAT2021-1 ',\n",
       " ' CITS2023-2 + MATH2231-1 + MATH2521-2 + PHYS2221-1 + PHYS2223-2 + SCOM2228-1 + STAT2021-1 + STAT2023-2 ',\n",
       " ' CITS1023-2 + CITS2023-2 + CITS3025-1 + IMED2221-1 + IMED2224-1 + IMED2225-2 + IMED2220-2 + STAT2021-1 ',\n",
       " ' CITS1021-1 + CITS1023-2 + CITS2023-2 + MKTG1225-1 + STAT1024-1 + STAT2023-2 ',\n",
       " ' CITS2023-2 + ENSC3213-2 + ENSC3211-2 + FINA3326-2 ',\n",
       " ' CITS2021-1 + CITS2023-2 + CITS3220-2 + CITS3223-2 + CITS3021-1 + PACM1124-1 + STAT2021-1 + STAT3260-2 ',\n",
       " ' CITS2224-1 + CITS2023-2 + CITS3221-2 + CITS3224-1 + CITS3220-2 + CITS3223-2 + CITS3025-1 + STAT3025-1 ',\n",
       " ' CITS1221-2 + CITS1021-1 + CITS1023-2 + CITS2223-2 + CITS2023-2 + MATH1211-1 + MATH1214-1 + STAT1024-1 ',\n",
       " ' CITS2223-2 + CITS2224-1 + CITS2211-2 + CITS2023-2 + GRMN2025-1 + GRMN2020-2 + LING1221-1 + STAT1024-1 ',\n",
       " ' CITS2224-1 + CITS2211-2 + CITS2023-2 + CITS3223-2 + CITS3025-1 + STAT1024-1 ',\n",
       " ' CITS2023-2 + CITS3220-2 + CITS3021-1 + ECON2126-1 + ECON2235-1 + ECON2230-2 + STAT2021-1 + STAT2023-2 ',\n",
       " ' CITS2023-2 + ECON1124-1 + ECON2230-2 + FINA2227-1 + FINA2224-1 + PSYC1123-2 + STAT2021-1 + STAT2023-2 ',\n",
       " ' ANHB1123-2 + CHEM1221-1 + CITS2023-2 + MATH2221-1 + SCIE1126-2 + STAT1524-1 + STAT2263-2 + STAT2021-1 ',\n",
       " ' CITS2023-2 + ENSC2224-1 + ENSC3224-1 + ENSC3225-1 + ENSC3220-1 + ENSC3227-2 + MKTG1225-2 + STAT1023-2 ',\n",
       " ' ACCT1121-1 + CITS1021-1 + CITS1023-2 + CITS2023-2 + FINA1221-1 + FINA2223-2 + STAT1024-1 + STAT1523-2 ',\n",
       " ' CITS2023-2 + ECON1121-2 + GEOG2221-1 + GRMN1021-1 + GRMN1023-2 + MKTG1225-1 + STAT2021-1 + STAT2023-2 ',\n",
       " ' CITS1221-1 + CITS2023-2 + FREN1021-2 + MATH1721-2 + STAT1023-2 ',\n",
       " ' ASIA3223-2 + CITS2023-2 + CITS3221-2 + ENSC1225-1 + JAPN3025-1 + JAPN3026-2 ',\n",
       " ' AACE1224-ACE-2 + CARS1224-ACE-2 + CITS1023-2 + CITS2021-1 + CITS2023-2 + INDG1224-ACE-2 + STAT1024-1 + STAT2023-2 ',\n",
       " ' CITS1221-2 + CITS1021-1 + CITS1023-2 + CITS2023-2 + MATH1721-1 + PACM1121-1 + STAT1024-1 ',\n",
       " ' CITS2023-2 + CITS3221-2 + CITS3224-1 + CITS3225-1 + CITS3223-2 + CITS3025-1 + SSEH1120-1 ',\n",
       " ' CITS2224-1 + CITS2211-2 + CITS2023-2 + CITS3221-2 + CITS3025-1 + PHIL1224-1 + STAT2021-1 + STAT3260-2 ',\n",
       " ' CITS2224-1 + CITS2023-2 + CITS3223-2 + CITS3025-1 + ECON1121-1 + ECON1124-1 + STAT2023-2 + STAT3260-2 ',\n",
       " ' ASIA3226-2 + CITS2224-1 + CITS2023-2 + CITS3220-2 + CITS3021-1 + KORE2025-1 + KORE2020-2 + STAT2021-1 + STAT2023-2 ',\n",
       " ' CITS2023-2 ',\n",
       " ' ACCT1121-1 + CITS2023-2 + LAWS2221-1 + LAWS2227-2 + LAWS2321-2 + MKTG1225-1 + STAT2021-1 + STAT2023-2 + SVLG1225-Y3 ',\n",
       " ' CITS2023-2 + CITS3221-2 + CITS3225-1 + CITS3223-2 + CITS3021-1 + CITS3025-1 + MKTG1225-2 + SSEH1125-1 ',\n",
       " ' CITS2223-2 + CITS2224-1 + CITS2211-2 + CITS2023-2 + CITS3225-1 + CITS3220-2 + CITS3021-1 + CITS3025-1 ',\n",
       " ' BUSN1123-2 + CITS1021-1 + CITS2023-2 + CITS3021-1 + MKTG1225-2 + PHAR2214-1 + PHAR2223-2 + STAT1024-1 ',\n",
       " ' CITS1021-1 + CITS2223-2 + CITS2211-2 + CITS2021-1 + CITS2023-2 + CITS3220-2 + ENSC2221-1 + MATH2221-1 ',\n",
       " ' CITS1021-1 + CITS2224-1 + CITS2023-2 + CITS3221-2 + CITS3025-1 + ENSC1225-2 + ENSC2224-1 + ENSC3223-2 ',\n",
       " ' CITS2224-1 + CITS2211-2 + CITS2023-2 + CITS3221-2 + CITS3025-1 + STAT2021-1 ',\n",
       " ' CITS1021-1 + CITS1021-2 + CITS1023-2 + ENVT2221-2 + ENVT2254-1 + GEOG2221-1 + STAT1024-1 ',\n",
       " ' CITS2023-2 + CITS3223-2 + CITS3021-1 + CITS3025-1 + STAT3260-2 ',\n",
       " ' CITS1023-2 + CITS0229-2 + MGMT5520-2 + STAT2021-1 + STAT0260-2 ',\n",
       " ' CITS2023-2 + MATH1723-2 + PSYC2228-2 + STAT2023-2 ',\n",
       " ' CITS1023-2 + CITS2023-2 + FINA1221-2 + JAPN1021-1 + MKTG1220-1 + PHIL1224-1 ',\n",
       " ' CITS1021-1 + CITS2023-2 + CITS3220-2 + CITS3021-1 + CITS3025-1 + STAT2021-1 + STAT2023-2 + STAT3260-2 ',\n",
       " ' CITS1021-1 + CITS1023-2 + CITS2023-2 + STAT1024-1 + STAT2023-2 ',\n",
       " ' CITS1023-2 + CITS2023-2 + CITS3025-1 + STAT2021-1 + STAT3025-1 ',\n",
       " ' CITS1021-1 + CITS2023-2 + CITS3021-1 + MATH1214-1 + MATH2521-2 + PHYS2221-1 + PHYS2223-2 + STAT1023-2 ',\n",
       " ' CITS2023-2 + MATH2221-1 + MATH2231-1 + MATH3223-2 + MATH3220-2 + STAT1024-1 + STAT2021-1 + STAT3260-2 ',\n",
       " ' ACCT1121-2 + CITS1021-1 + CITS1023-2 + CITS2023-2 + ENSC1225-1 + FINA1221-1 + LAWS1120-1 + STAT1023-2 ',\n",
       " ' CITS2224-1 + CITS2023-2 + CITS3221-2 + CITS3225-1 + CITS3223-2 + CITS3021-1 + CITS3025-1 ',\n",
       " ' CITS1221-1 + CITS2023-2 + ENVT2224-1 + SCIE1121-1 + SPAN1021-2 + STAT2021-1 + STAT2023-2 + STAT3260-2 ',\n",
       " ' CITS2224-1 + CITS2023-2 + CITS3220-2 + GEOG2221-1 + STAT2021-1 ',\n",
       " ' CITS2223-2 + CITS2224-1 + CITS2211-2 + CITS2023-2 + MUSC1981-1 + STAT2021-1 ',\n",
       " ' CITS2023-2 + CITS3221-2 + CITS3224-1 + CITS3021-1 + KORE1021-1 + MUSC1981-1 ',\n",
       " ' ASIA1223-2 + CITS2023-2 + CITS3224-1 + CLAN1221-1 + EDUC1120-1 + INDG1153-2 ',\n",
       " ' CITS2023-2 + CITS3224-1 + CITS3225-1 + CITS3223-2 + CITS3025-1 + FINA1221-1 + MUSC1255-2 + PHAR1121-2 ',\n",
       " ' CITS1023-2 + CITS2023-2 + CITS3223-2 + CITS3021-1 + CITS3025-1 + ENGL2021-1 + STAT2021-1 + STAT3260-2 ',\n",
       " ' CITS1021-1 + CITS2223-2 + CITS2224-1 + CITS2211-2 + CITS2021-2 + CITS2023-2 + PHIL1224-1 + STAT1024-1 ',\n",
       " ' CITS1221-1 + CITS1021-1 + CITS1023-2 + CITS2223-2 + CITS2211-2 + CITS2023-2 + EDUC1124-1 + STAT1024-1 ',\n",
       " ' CHIN2025-1 + CHIN2026-2 + CITS2023-2 + ENSC1225-2 + ENSC2221-1 + ENSC3221-2 + ENSC3220-1 + MUSC1981-1 ',\n",
       " ' CITS2023-2 + CITS3220-2 + CITS3025-1 ',\n",
       " ' CITS2223-2 + CITS2224-1 + CITS2211-2 + CITS2021-1 + CITS2023-2 + MATH1211-1 + STAT2021-1 + STAT2023-2 ',\n",
       " ' CITS1021-1 + CITS2023-2 + ECON1121-1 + MKTG2238-2 + MKTG2321-2 + MKTG2325-1 + STAT2021-1 + STAT2023-2 ',\n",
       " ' ACCT2114-1 + ACCT2331-1 + CITS2023-2 + CITS3021-1 + ECON2205-2 + MUSC1981-2 + STAT2021-1 + STAT2023-2 ',\n",
       " ' CITS1021-1 + CITS2224-1 + CITS2023-2 + CITS3221-2 + CITS3220-2 + CITS3223-2 + CITS3025-1 + PACM1121-U0 + STAT2021-1 ',\n",
       " ' ACCT1121-2 + CITS1021-1 + CITS1023-2 + CITS2023-2 + FINA1221-1 + FINA2223-2 + MATH1721-1 + STAT1024-1 ',\n",
       " ' CITS1221-1 + CITS1021-1 + CITS2023-2 + ENSC1220-2 + MATH1211-2 + MATH1724-1 + PHYS1234-1 + STAT1023-2 ',\n",
       " ' CITS2223-2 + CITS2023-2 + INDG1153-2 + MATH2221-1 + MATH2231-1 + MUSC1981-1 + STAT3264-1 ',\n",
       " ' CITS1021-1 + CITS2211-2 + CITS2023-2 + CITS3221-2 + CITS3224-1 + CITS3223-2 + SSEH1120-1 + SVLG1227-1 ',\n",
       " ' CITS2023-2 + CITS3220-2 + CITS3021-1 + CITS3025-1 + FINA2227-1 + STAT2021-1 + STAT2023-2 + STAT3260-2 ',\n",
       " ' CITS2021-1 + CITS2023-2 + ENSC2224-1 + ENSC3221-2 + ENSC3224-1 + ENSC3227-2 + MATH1214-1 + MATH3225-2 + PHYS2221-1 ',\n",
       " ' CITS1021-1 + CITS1023-2 + CITS2023-2 + MATH2221-1 + MATH2231-1 + MATH3223-2 + STAT2263-2 ',\n",
       " ' CITS1221-1 + CITS2223-2 + CITS2023-2 + CITS3220-2 + CITS3025-1 + STAT2021-1 ',\n",
       " ' CITS1221-1 + CITS1021-1 + CITS1023-2 + CITS2021-2 + CITS2023-2 + INDG1223-2AA + MATH1211-1 + MATH1214-1 + STAT2263-2 ',\n",
       " ' CITS1021-1 + CITS1023-2 + CITS2224-1 + CITS2023-2 + CITS3220-2 + CITS3025-1 + STAT2021-1 + STAT3260-2 ',\n",
       " ' AACE1223-2AA + CARS1223-2AA + CITS1021-1 + CITS1023-2 + CITS2023-2 + INDG1223-2AA + LAWS1113-2 + PSYC1121-1 + PSYC1123-2 + SCIE1121-1 + STAT1024-1 ',\n",
       " ' CITS1021-1 + CITS1023-2 + CITS2023-2 + MATH2231-1 + SCOM1121-1 + STAT1023-2 + STAT2263-2 + STAT2021-1 ',\n",
       " ' CITS1023-2 + CITS2023-2 + MATH1721-1 ',\n",
       " ' CITS1021-1 + CITS1021-2 + CITS1023-2 + CITS2023-2 + STAT2023-2 ',\n",
       " ' ASIA3223-2 + CITS2023-2 + JAPN2221-1 + JAPN2025-1 + JAPN2020-2 + KORE1021-1 + STAT2021-1 + STAT2023-2 ',\n",
       " ' CITS2023-2 + CITS3025-1 + MATH2221-1 + MATH2231-1 + MATH3223-2 + MATH3220-2 + MATH3233-2 + STAT2021-1 ',\n",
       " ' CITS2023-2 + FINA2227-1 + FINA2229-1 + FINA2223-2 + MKTG1225-1 + SSEH1125-2 + STAT2021-1 + STAT2023-2 ',\n",
       " ' CITS1023-2 + CITS2023-2 + CITS3025-1 + IMED2221-1 + IMED2224-1 + IMED2225-2 + IMED2220-2 + STAT1024-1 ',\n",
       " ' CITS2223-2 + CITS2023-2 + STAT2023-2 + STAT3260-2 ',\n",
       " ' CITS2023-2 + ENSC3211-2 + ENVT2251-2 + FINA1129-2 ',\n",
       " ' CITS2023-2 + CITS3223-2 + CITS3021-1 + CITS3025-1 + MUSC1255-2 + STAT3260-2 ',\n",
       " ' CITS2224-1 + CITS2211-2 + CITS2023-2 + CITS3220-2 + CITS3021-1 + ECON1121-1 + STAT2021-1 + STAT2023-2 ',\n",
       " ' CITS2023-2 + ECON1124-1 + PSYC2225-1 + PSYC2217-1 + STAT2021-1 + STAT2023-2 + STAT3260-2 ',\n",
       " ' CITS2023-2 + ENSC2221-1 + ENSC2224-1 + ENSC3216-2 + GCRL2223-2 + MATH3225-2 + MGMT1135-1 + PSYC1123-2 + STAT2021-1 ',\n",
       " ' ARTF1254-1 + CITS2023-2 + CITS3021-1 + MGMT1136-1 + STAT2021-1 + STAT2023-2 + STAT3260-2 ',\n",
       " ' CITS2023-2 + FINA1129-2 + FINA2225-1 + FINA2229-1 + FINA3320-1 + INDG1153-2 + STAT2021-1 + STAT2023-2 ',\n",
       " ' CITS2023-2 + CITS3223-2 + CITS3021-1 + FINA3327-2 + FINA3320-1 + STAT3260-2 ',\n",
       " ' CITS1221-1 + CITS1021-1 + CITS1023-2 + CITS2223-2 + CITS2211-2 + CITS2023-2 + KORE3025-1 + STAT1024-1 ',\n",
       " ' AACE1223-2AA + ACCT1121-1 + CARS1223-2AA + CITS1021-1 + CITS2023-2 + ECON1121-1 + FINA1221-2 + INDG1223-2AA + MGMT1135-2 + MKTG1225-2 + STAT1524-1 ',\n",
       " ' CITS1021-1 + CITS1023-2 + CITS2223-2 + CITS2224-1 + CITS2211-2 + CITS2023-2 + CITS3025-1 + STAT1024-1 ',\n",
       " ' ACCT1121-1 + CITS1221-2 + CITS1021-1 + CITS1023-2 + CITS2023-2 + FINA1221-1 + MATH1723-2 + STAT1024-1 ',\n",
       " ' CITS1221-1 + CITS1021-1 + CITS1023-2 + CITS2223-2 + CITS2023-2 + PSYC1121-1 + STAT1024-1 + STAT2023-2 ',\n",
       " ' CITS2023-2 + CITS3223-2 + CITS3021-1 + CITS3025-1 + MKTG1225-1 + MKTG2238-2 + SSEH1120-1 + STAT3026-2 ',\n",
       " ' BIOL2220-2 + CITS2023-2 + ENVT3327-2 + GEOG2221-1 + SCIE2220-1 + SCIE2267-2 ',\n",
       " ' ANIM1221-1 + CITS2023-2 + ENSC1220-1 + PHYS1221-1 ',\n",
       " ' CITS1023-2 + CITS2021-1 + CITS2023-2 + ENSC3210-1 + ENSC3215-2 + ENSC3223-2 ',\n",
       " ' CITS1021-1 + CITS2023-2 + MKTG1225-2 ',\n",
       " ' CITS1221-2 + CITS1021-1 + CITS1023-2 + CITS2023-2 + ENSC1225-1 + ENSC1220-2 + MATH1211-1 + MATH1214-1 ',\n",
       " ' CITS2223-2 + CITS2211-2 + CITS2023-2 + STAT1023-2 ',\n",
       " ' CITS1221-1 + CITS1021-1 + CITS1023-2 + CITS2223-2 + CITS2023-2 + MUSC1250-1 + MUSC1255-2 + STAT1024-1 ',\n",
       " ' AACE1223-2AA + CARS1223-2AA + CITS2023-2 + CITS3220-2 + CITS3223-2 + INDG1223-2AA + STAT3260-2 ',\n",
       " ' CITS1023-2 + CITS2023-2 + MATH2221-1 + MATH2231-1 + MATH3220-2 + PHIL1224-1 + PHYS2221-1 + STAT2023-2 ',\n",
       " ' CITS1221-1 + CITS1021-1 + CITS1023-2 + CITS2023-2 + MATH1214-1 + SCIE1120-2 + SSEH1123-2 + STAT1024-1 ',\n",
       " ' CITS2023-2 + CITS3225-1 + CITS3223-2 + ECON1124-1 + STAT1023-2 ',\n",
       " ' CITS2023-2 + CITS3220-2 + CITS3223-2 + CITS3025-1 + FINA3326-2 ',\n",
       " ' CITS1221-1 + CITS1021-1 + CITS1023-2 + CITS2211-2 + CITS2023-2 + MATH1213-2 + MATH1724-1 + PHYS1221-1 ',\n",
       " ' CITS1021-1 + CITS2211-2 + CITS2021-2 + CITS2023-2 + CITS3021-1 + CITS3025-1 + MUSC1255-2 + MUSC2275-1 ',\n",
       " ' CITS2223-2 + CITS2224-1 + CITS2211-2 + CITS2023-2 + CITS3225-1 + CITS3220-2 + PSYC2225-1 + STAT2021-1 ',\n",
       " ' CITS1221-1 + CITS1021-1 + CITS1023-2 + CITS2223-2 + CITS2224-1 + CITS2211-2 + CITS2023-2 + STAT1024-1 ',\n",
       " ' CITS1021-1 + CITS2224-1 + CITS2211-2 + CITS2021-2 + CITS2023-2 + CITS3221-2 + MATH2221-1 + STAT2021-1 ',\n",
       " ' CITS2023-2 + CITS3220-2 + CITS3223-2 + CITS3021-1 + CITS3025-1 + STAT3260-2 + SVLG1226-U0 ',\n",
       " ' CITS2224-1 + CITS2023-2 + FINA1221-2 + GENE2233-2 + GENE2254-1 + GRMN2025-1 + GRMN2020-2 + STAT2021-1 + STAT3260-2 ',\n",
       " ' CITS2023-2 + CITS3220-2 + CITS3021-1 + STAT1024-1 + STAT2023-2 ',\n",
       " ' ACCT1121-1 + CITS2223-2 + CITS2021-1 + ENSC2224-1 + ENSC3228-2 + ENSC3229-1 + ENSC3213-2 + ENSC3211-2 ',\n",
       " ' CITS2223-2 + CITS2023-2 + STAT2023-2 ',\n",
       " ' CITS2211-2 + CITS2021-1 + CITS2023-2 + CITS3221-2 ',\n",
       " ' CITS2023-2 + CITS3224-1 + CITS3025-1 + ENSC3223-2 ',\n",
       " ' CITS2224-1 + CITS2023-2 + CITS3221-2 + CITS3025-1 + LAWS1120-1 + MATH1214-1 + PHAR1121-2 + STAT1023-2 ',\n",
       " ' CITS2023-2 + CITS3224-1 + CITS3220-2 + CITS3223-2 + CITS3021-1 + CITS3025-1 + MGMT1135-1 + MKTG1225-1 + STAT2023-2 ',\n",
       " ' CITS1023-2 + CITS2023-2 + CITS3025-1 + STAT1024-1 \\n',\n",
       " ' ACCT1121-1 + CITS1021-1 + CITS1023-2 + CITS2023-2 + ECON1121-1 + ECON1123-2 + FINA1221-2 + STAT1024-1 ',\n",
       " ' CITS1021-2 + CITS2021-1 + CITS2023-2 + ENSC2224-1 + ENSC3211-2 + ENSC3213-2 + MATH2221-1 + STAT1524-1 ',\n",
       " ' CITS1021-1 + CITS1023-2 + CITS2023-2 + MATH2221-1 + MATH2231-1 + MATH3223-2 + STAT2263-2 + STAT2021-1 ',\n",
       " ' CITS2223-2 + CITS2224-1 + CITS2023-2 + CITS3021-1 + STAT2021-1 + STAT2023-2 ',\n",
       " ' CITS2023-2 + CITS3021-1 + ENRL3225-2 + ENSC2221-1 + ENSC2224-1 + ENSC3221-2 + ENSC3227-2 + STAT1024-1 ',\n",
       " ' CITS2224-1 + CITS2023-2 + HIST1125-1 + POLS2221-2 + POLS2216-2 + POLS2224-1 + STAT2021-1 + STAT2023-2 ',\n",
       " ' CITS1021-1 + CITS1023-2 + CITS2023-2 + STAT1024-1 ',\n",
       " ' AACE1223-2AA + CARS1223-2AA + CITS1023-2 + CITS2023-2 + FINA1129-2 + INDG1223-2AA + STAT1023-2 ',\n",
       " ' CITS2223-2 + CITS2224-1 + CITS2211-2 + CITS2023-2 + CITS3223-2 + CITS3021-1 + CITS3025-1 + ENSC1225-1 ',\n",
       " ' CHEM1225-2 + CITS2023-2 + LING1223-2 + MATH1211-1 + MATH1214-1 + SCOM1121-1 + STAT2263-2 ',\n",
       " ' CITS2023-2 + ENSC3227-2 + ENSC3211-2 + FINA1129-2 ',\n",
       " ' CITS2023-2 + ENSC3215-2 + ENSC3216-2 + FINA3327-2 ',\n",
       " ' CITS2023-2 + CITS3221-2 + CITS3224-1 + CITS3225-1 + CITS3220-2 + CITS3223-2 + CITS3021-1 + CITS3025-1 ',\n",
       " ' ACCT1121-1 + CITS1023-2 + CITS2023-2 + ECON1121-2 + EMPL3274-1 + MGMT3335-1 + MGMT3307-2 + STAT1524-1 ',\n",
       " ' CITS1221-1 + CITS1021-1 + CITS2023-2 ',\n",
       " ' AACE1223-2AA + CARS1223-2AA + CITS1021-2 + CITS1023-2 + COMM1223-2 + INDG1223-2AA + STAT1023-2 ',\n",
       " ' CITS2223-2 + CITS2224-1 + CITS2211-2 + CITS2021-1 + CITS2023-2 + CITS3025-1 + STAT1024-1 ',\n",
       " ' ARLA1224-1 + CITS2023-2 + CITS3021-1 + EART1120-2 + EART1125-1 + GRMN1023-2 + STAT2021-1 + STAT2023-2 ',\n",
       " ' CITS2021-2 + CITS2023-2 + ENSC2221-1 + ENSC2224-1 + ENSC3221-2 + GCRL2224-1 + ITAL1021-1 + MATH3225-2 + STAT2021-1 ',\n",
       " ' CITS1221-2 + CITS2023-2 + FINA3326-2 + GCRL2224-Y3 + MKTG1225-2 ',\n",
       " ' CITS2023-2 + SSEH2203-2 ',\n",
       " ' CITS2224-1 + CITS2211-2 + CITS2023-2 + CITS3221-2 + CITS3021-1 + CITS3025-1 + STAT1024-1 ',\n",
       " ' ACCT1121-1 + CITS1021-1 + CITS1023-2 + CITS2023-2 + FINA2223-2 + INDG1223-2AA + STAT1024-1 ',\n",
       " ' CITS2021-1 + CITS2023-2 + CITS3220-2 + ECON1121-1 + ECON1124-1 + GRMN1021-2 + STAT2021-1 + STAT2023-2 ',\n",
       " ' CITS2023-2 + CITS3224-1 + CITS3220-2 + CITS3223-2 + CITS3021-1 + CITS3025-1 + STAT1024-1 + SVLG1223-2 + SVLG1226-1 ',\n",
       " ' CITS2023-2 + CITS3021-1 + CITS3025-1 + MGMT1135-2 + PHAR1121-2 + PSYC1121-1 + PSYC1123-2 + STAT2021-1 ',\n",
       " ' CHEM2221-1 + CITS1021-1 + CITS2211-2 + CITS2023-2 + ENSC3226-1 + ENSC3218-2 + ENSC3219-2 ',\n",
       " ' CITS1021-1 + CITS1023-2 + CITS2023-2 + PSYC2225-1 + PSYC2217-1 + PSYC3313-2 + STAT1024-1 + STAT2023-2 + SVLG1225-Y3 ',\n",
       " ' CITS2023-2 + ENSC3221-2 + ENSC3224-1 + ENSC3225-1 + ENSC3220-1 + ENSC3227-2 + MECH3023-2 + MUSC2275-1 ',\n",
       " ' CITS1221-2 + CITS2223-2 + CITS2021-1 + CITS2023-2 + MATH1724-1 + MGMT1135-1 + STAT2021-1 + STAT2023-2 ',\n",
       " ' CITS2023-2 + ENSC3215-2 + ENSC3221-1 + ENSC3225-2 + PSYC1121-1 + SSEH3355-1 + STAT3260-2 + STAT3025-1 ',\n",
       " ' CITS2223-2 + CITS2224-1 + CITS2023-2 + CITS3220-2 + FINA1129-2 + MUSC1981-1 + STAT1524-1 ',\n",
       " ' CITS2023-2 + CITS3224-1 + CITS3223-2 + CITS3021-1 + CITS3025-1 + ENSC2225-2 + STAT1023-2 ',\n",
       " ' CITS1021-1 + CITS1023-2 + CITS2023-2 + FINA2227-1 + FINA2223-2 + MKTG1225-1 + PSYC1123-2 + STAT1524-1 ',\n",
       " ' CITS2023-2 + CITS3220-2 + CITS3223-2 + CITS3025-1 + MATH2221-1 + MATH3224-1 + STAT2023-2 ',\n",
       " ' CITS2023-2 + CITS3220-2 + CITS3223-2 + CITS3021-1 + CITS3025-1 + FINA3320-1 + FINA3320-1 + STAT3260-2 ',\n",
       " ' CITS1221-2 + CITS2223-2 + CITS2023-2 + FINA2220-1 + FINA2225-1 + FINA2224-1 + STAT2021-1 + STAT2023-2 ',\n",
       " ' CITS2023-2 + CITS3025-1 + GENE2233-2 + GENE2254-1 + STAT2021-1 + STAT2023-2 + STAT3260-2 ',\n",
       " ' CITS2223-2 + CITS2224-1 + CITS2211-2 + CITS2021-1 + CITS2023-2 + CITS3225-1 ',\n",
       " ' ACCT2114-1 + ACCT2221-2 + CITS2023-2 + CITS3025-1 + LAWS1120-1 + LAWS2321-2 + STAT2021-1 + STAT3260-2 ',\n",
       " ' CITS1021-1 + CITS1023-2 + CITS2023-2 + MGMT1135-1 + MKTG1220-1 + MKTG2238-2 + STAT1524-1 ',\n",
       " ' CHEM1225-1 + CITS1023-2 + CITS2023-2 + ENSC1220-2 + ENSC2220-2 + MKTG1220-1 + STAT1024-1 ',\n",
       " ' CITS2224-1 + CITS2023-2 + CITS3221-2 + CITS3224-1 + CITS3225-1 + CITS3223-2 + STAT2021-1 + STAT3260-2 ',\n",
       " ' CITS1221-1 + CITS1021-1 + CITS1023-2 + CITS2223-2 + CITS2023-2 + MATH1724-1 + MATH1721-2 + STAT1024-1 ',\n",
       " ' CITS1021-1 + CITS1023-2 + CITS2023-2 + MATH2231-1 + SCOM1121-1 + STAT1023-2 + STAT2263-2 + STAT2021-1 ',\n",
       " ' ACCT3325-1 + CITS2021-1 + CITS2023-2 + FINA3327-2 + FINA3320-1 + FINA3326-2 + LAWS2321-2 + MGMT2301-1 ',\n",
       " ' ACCT1121-2 + CITS2023-2 + CITS3220-2 + CITS3021-1 + CITS3025-1 + FINA2220-1 + FINA2224-1 + INDG1223-2AA + STAT2023-2 ',\n",
       " ' CITS1021-1 + CITS2023-2 + MATH1211-2 + SSEH2203-2 + STAT1023-2 ',\n",
       " ' CHEM1220-2 + CITS2023-2 + GENE2233-2 + GENE2254-1 + SCIE1121-1 + STAT1024-1 ',\n",
       " ' CITS2023-2 + CITS3025-1 + GEOG2221-1 + GEOG2224-A0A + GEOG2225-1 + GEOG2226-2 + GRMN1021-1 + STAT1023-2 ',\n",
       " ' ANHB2214-1 + ANHB2215-1 + ANHB3320-2 + CITS1021-1 + CITS2023-2 + PHIL3225-1 + PHIL3220-2 + SSEH3366-2 ',\n",
       " ' CITS1021-1 + CITS1023-2 + CITS2023-2 + FINA1221-1 + FINA2223-2 + PHIL1224-1 + STAT1024-1 + STAT2023-2 ',\n",
       " ' CITS2023-2 + CITS3220-2 + CITS3223-2 + CITS3021-1 + CITS3025-1 + JAPN2025-1 + STAT2021-1 + STAT3260-2 ',\n",
       " ' CITS2223-2 + CITS2224-1 + CITS2021-2 + CITS2023-2 + CITS3220-2 + CITS3025-1 + PHIL2220-1 + STAT2021-1 + SVLG1225-1 ']"
      ]
     },
     "execution_count": 4,
     "metadata": {},
     "output_type": "execute_result"
    }
   ],
   "source": [
    "pattern_strings = []\n",
    "\n",
    "with open(DATAFILE) as file:\n",
    "    for lines in file:\n",
    "        pattern_strings.append(lines.partition(\"\\t\")[0])\n",
    "print(len(pattern_strings))\n",
    "pattern_strings"
   ]
  },
  {
   "cell_type": "markdown",
   "metadata": {},
   "source": [
    "Rather than the units in each line being part of a string, it is more useful to have them in a list. This will enable us to iterate through the list later.\n",
    "\n",
    "* Use the `split` method to split each line into a list of units. Store the result in a variable `pattern_lists`.\n",
    "\n",
    "This should result in a list of lists. Your output should start like this:\n",
    "```\n",
    "[[' CITS2224-1 ', ' CITS2023-2 ', ' CITS3221-2 ', ' CITS3224-1 ', ' CITS3225-1 '], [' CITS2023-2 ', ' ENSC3221-2 ', ' ENSC3224-1 ', ' ENSC3225-1 ', ' ENSC3227-2 ', ' ENSC3210-1 ', ' ENSC3221-1 ', ' MECH3023-2 '], [' CITS1021-2 ', ' CITS2021-1 ', ' CITS2023-2 ', ' ENSC2224-1 ', ' ENSC3211-2 ', ' ENSC3213-2 ', ' MATH2221-1 ', ' STAT1524-1 '], [' CITS2023-2 ', ' CITS3220-2 ', ' CITS3223-2 ', ' CITS3021-1 ', ' CITS3025-1 ', ' MATH3224-1 ', ' MATH3221-1 ', ' STAT3264-1 ', ' STAT3260-2 '], [' BIOC3221-1 ', ' BIOC3224-1 ', ' BIOC3225-2 ', ' BIOC3225-2 ', ' CITS1023-2 ', ' CITS2021-1 ', ' CITS2023-2 ', ' MATH1211-1 ']]\n",
    "```\n",
    "\n"
   ]
  },
  {
   "cell_type": "code",
   "execution_count": 5,
   "metadata": {},
   "outputs": [
    {
     "name": "stdout",
     "output_type": "stream",
     "text": [
      "<class 'str'>\n",
      "[['CITS2224-1', 'CITS2023-2', 'CITS3221-2', 'CITS3224-1', 'CITS3225-1'], ['CITS2023-2', 'ENSC3221-2', 'ENSC3224-1', 'ENSC3225-1', 'ENSC3227-2', 'ENSC3210-1', 'ENSC3221-1', 'MECH3023-2'], ['CITS1021-2', 'CITS2021-1', 'CITS2023-2', 'ENSC2224-1', 'ENSC3211-2', 'ENSC3213-2', 'MATH2221-1', 'STAT1524-1'], ['CITS2023-2', 'CITS3220-2', 'CITS3223-2', 'CITS3021-1', 'CITS3025-1', 'MATH3224-1', 'MATH3221-1', 'STAT3264-1', 'STAT3260-2'], ['BIOC3221-1', 'BIOC3224-1', 'BIOC3225-2', 'BIOC3225-2', 'CITS1023-2', 'CITS2021-1', 'CITS2023-2', 'MATH1211-1']]\n"
     ]
    }
   ],
   "source": [
    "print(type(pattern_strings[0]))\n",
    "\n",
    "\n",
    "pattern_strings = []\n",
    "with open(DATAFILE) as file:\n",
    "    for lines in file:\n",
    "        pattern_strings.append(lines.partition(\"\\t\")[0].strip().split(' + '))\n",
    "\n",
    "print(pattern_strings[:5])\n",
    "\n"
   ]
  },
  {
   "cell_type": "markdown",
   "metadata": {},
   "source": [
    "Finally, notice that we've been left with unnecessary whitespace around each unit name.\n",
    "\n",
    "* Modify your code to strip off the extra whitespace.\n",
    "\n",
    "Your first 5 patterns should now look like this:\n",
    "    \n",
    "```\n",
    "[['CITS2224-1', 'CITS2023-2', 'CITS3221-2', 'CITS3224-1', 'CITS3225-1'], ['CITS2023-2', 'ENSC3221-2', 'ENSC3224-1', 'ENSC3225-1', 'ENSC3227-2', 'ENSC3210-1', 'ENSC3221-1', 'MECH3023-2'], ['CITS1021-2', 'CITS2021-1', 'CITS2023-2', 'ENSC2224-1', 'ENSC3211-2', 'ENSC3213-2', 'MATH2221-1', 'STAT1524-1'], ['CITS2023-2', 'CITS3220-2', 'CITS3223-2', 'CITS3021-1', 'CITS3025-1', 'MATH3224-1', 'MATH3221-1', 'STAT3264-1', 'STAT3260-2'], ['BIOC3221-1', 'BIOC3224-1', 'BIOC3225-2', 'BIOC3225-2', 'CITS1023-2', 'CITS2021-1', 'CITS2023-2', 'MATH1211-1']]\n",
    "```"
   ]
  },
  {
   "cell_type": "markdown",
   "metadata": {},
   "source": [
    "##### Putting it all together\n",
    "\n",
    "Congratulations, you have now 'wrangled' your data from its 'raw' format in the file, into a very useable form.\n",
    "\n",
    "* To consolidate this section, turn your code into a function `get_patterns(filename)` that takes a filename, and returns a list of lists containing all the patterns in the file.\n",
    "\n",
    "`print(get_patterns(DATAFILE)[:5])` should now print the same output as above."
   ]
  },
  {
   "cell_type": "code",
   "execution_count": 5,
   "metadata": {},
   "outputs": [],
   "source": [
    "def get_patterns(filename):\n",
    "    \n",
    "    pattern_strings = []\n",
    "    with open(filename) as file:\n",
    "        for lines in file:\n",
    "            pattern_strings.append(lines.partition(\"\\t\")[0].strip().split(' + '))\n",
    "    return pattern_strings\n"
   ]
  },
  {
   "cell_type": "code",
   "execution_count": 6,
   "metadata": {},
   "outputs": [
    {
     "name": "stdout",
     "output_type": "stream",
     "text": [
      "[['CITS2224-1', 'CITS2023-2', 'CITS3221-2', 'CITS3224-1', 'CITS3225-1'], ['CITS2023-2', 'ENSC3221-2', 'ENSC3224-1', 'ENSC3225-1', 'ENSC3227-2', 'ENSC3210-1', 'ENSC3221-1', 'MECH3023-2'], ['CITS1021-2', 'CITS2021-1', 'CITS2023-2', 'ENSC2224-1', 'ENSC3211-2', 'ENSC3213-2', 'MATH2221-1', 'STAT1524-1'], ['CITS2023-2', 'CITS3220-2', 'CITS3223-2', 'CITS3021-1', 'CITS3025-1', 'MATH3224-1', 'MATH3221-1', 'STAT3264-1', 'STAT3260-2'], ['BIOC3221-1', 'BIOC3224-1', 'BIOC3225-2', 'BIOC3225-2', 'CITS1023-2', 'CITS2021-1', 'CITS2023-2', 'MATH1211-1']]\n"
     ]
    }
   ],
   "source": [
    "print(get_patterns(DATAFILE)[:5])"
   ]
  },
  {
   "cell_type": "markdown",
   "metadata": {},
   "source": [
    "## Checked Questions and Answers\n",
    "\n",
    "Many of the labs this semester will have one or two checked (or 'autograded') answers. These will contribute to the (35%) practical marks for the semester.\n",
    "\n",
    "The checked answers will generally have two parts, or two cells. \n",
    "\n",
    "##### Answer cells\n",
    "\n",
    "The first cell is where you enter your code to be checked. This may contains a \"stub\" - that is, a part of the code to be completed. For example, it may be a function definition.\n",
    "\n",
    "##### Test cells\n",
    "\n",
    "The second cell is where the code to check the answer will go and is not editable. It may be blank, but will usually contain some example tests that you can use to test your own code before the answers are collected. There will be additional tests applied that are not shown.\n",
    "\n",
    "##### Collection and deadlines\n",
    "\n",
    "The notebook will be collected and marked, by running the tests, after the lab deadline. (As the same notebook will be collected, you may wish to take a backup copy of the notebook before starting work. Alternatively you can use the TimeTravel feature to revert the notebook if you need to start again.)\n",
    "\n",
    "Everyone will automatically receive a one week \"extension\" from the week of the lab to finish off the work and to account for any unforeseen circumstances.\n",
    "\n",
    "The deadline for credit will therefore be **11:59pm on the Friday of the week after the lab is released**.\n",
    "\n"
   ]
  },
  {
   "cell_type": "markdown",
   "metadata": {},
   "source": [
    "#### Checked Solution [1 mark]\n",
    "\n",
    "* Copy your solution for `get_patterns(filename)` to complete the following stub.\n",
    "\n",
    "(We wouldn't normally enter the function a second time, it is only because we are introducing the graded answer for the first time.)\n"
   ]
  },
  {
   "cell_type": "markdown",
   "metadata": {},
   "source": [
    "Before a final test of your code, it is worth restarting the kernel from the \"Kernel\" drop-down menu, and re-running your code. This will clean up any leftover 'junk' in the memory from running earlier versions of bits of code.\n",
    "\n",
    "You may find, for example, that after you fixed or changed a piece of code, you forgot to change a variable name, but the code still worked because an old value for the variable was still in memory.\n",
    "\n",
    "* Restart the kernel and test your code again to make sure it is doing everything correctly.\n"
   ]
  },
  {
   "cell_type": "markdown",
   "metadata": {},
   "source": [
    "#### Running the grading tests\n",
    "\n",
    "The test cells will often include some 'non-hidden' tests that you can run to see if your code passes. There will also be some 'hidden' tests that are only run once the code is collected after the deadline.\n",
    "\n",
    "If your code produces the correct answers it will simply run successfully.\n",
    "\n",
    "If your code does not pass the non-hidden tests, you will normally get an error message. For example, if I only stripped the whitespace from the left side and not both sides of the unit names, I might get an error message like this:\n",
    "\n",
    "```\n",
    "---------------------------------------------------------------------------\n",
    "AssertionError                            Traceback (most recent call last)\n",
    "<ipython-input-82-f1838aea55b1> in <module>\n",
    "      1 from nose.tools import assert_equal\n",
    "      2 DATA = \"unit-patterns.txt\"\n",
    "----> 3 assert_equal(get_patterns(DATA)[0],['CITS2224-1', 'CITS2023-2', 'CITS3221-2', 'CITS3224-1', 'CITS3225-1'])\n",
    "      4 assert_equal(get_patterns(DATA)[5],['CITS2021-1', 'CITS2023-2', 'GRMN2025-1', 'GRMN2020-2', 'MATH1214-1', 'MATH2521-2', 'PHYS2221-1', 'PHYS2223-2'])\n",
    "...\n",
    "668     def fail(self, msg=None):\n",
    "    669         \"\"\"Fail immediately, with the given message.\"\"\"\n",
    "--> 670         raise self.failureException(msg)\n",
    "    671 \n",
    "    672     def assertFalse(self, expr, msg=None):\n",
    "AssertionError: Lists differ: ['CITS2224-1 ', 'CITS2023-2 ', 'CITS3221-2 ', 'CITS3224-1 ', 'CITS3225-1 '] != ['CITS2224-1', 'CITS2023-2', 'CITS3221-2', 'CITS3224-1', 'CITS3225-1']\n",
    "\n",
    "First differing element 0:\n",
    "'CITS2224-1 '\n",
    "'CITS2224-1'\n",
    "\n",
    "- ['CITS2224-1 ', 'CITS2023-2 ', 'CITS3221-2 ', 'CITS3224-1 ', 'CITS3225-1 ']\n",
    "?             -              -              -              -              -\n",
    "\n",
    "+ ['CITS2224-1', 'CITS2023-2', 'CITS3221-2', 'CITS3224-1', 'CITS3225-1']\n",
    "```\n",
    "\n",
    "The error messages may vary in their usefulness - they are not intended as a debugging tool, but often they will give some pointer as to what went wrong. In this case it is fairly clear that there is whitespace that shouldn't be there.\n",
    "\n",
    "---\n",
    "\n",
    "You can then correct your code and try again. \n",
    "\n",
    "The following test is worth 1 prac mark. Give it a try. You can run the tests as may times as you wish before the deadline."
   ]
  },
  {
   "cell_type": "code",
   "execution_count": null,
   "metadata": {
    "deletable": false,
    "editable": false,
    "nbgrader": {
     "grade": true,
     "grade_id": "get_patterns",
     "locked": true,
     "points": 1,
     "schema_version": 3,
     "solution": false,
     "task": false
    }
   },
   "outputs": [],
   "source": [
    "from nose.tools import assert_equal\n",
    "DATA = \"unit-patterns.txt\"\n",
    "assert_equal(get_patterns(DATA)[0],['CITS2224-1', 'CITS2023-2', 'CITS3221-2', 'CITS3224-1', 'CITS3225-1'])\n",
    "assert_equal(get_patterns(DATA)[5],['CITS2021-1', 'CITS2023-2', 'GRMN2025-1', 'GRMN2020-2', 'MATH1214-1', 'MATH2521-2', 'PHYS2221-1', 'PHYS2223-2'])\n"
   ]
  },
  {
   "cell_type": "markdown",
   "metadata": {},
   "source": [
    "## Data Inspection and Interpretation\n",
    "\n",
    "Now let's have a closer look at the data. The file contains all the different study plans of enrolled students. Let's start by working out how many *different* or *unique* plans there are.\n",
    "\n",
    "To make it easier to see what is going on, start by defining a better print function.\n",
    "\n",
    "* Write a function `print_patterns (patterns, numlines)` that prints the first `numlines` patterns each on a new line.\n",
    "\n",
    "For example:\n",
    "\n",
    "print_patterns(get_patterns(DATA), 8)\n",
    "\n",
    "```\n",
    "['CITS2224-1', 'CITS2023-2', 'CITS3221-2', 'CITS3224-1', 'CITS3225-1']\n",
    "['CITS2023-2', 'ENSC3221-2', 'ENSC3224-1', 'ENSC3225-1', 'ENSC3227-2', 'ENSC3210-1', 'ENSC3221-1', 'MECH3023-2']\n",
    "['CITS1021-2', 'CITS2021-1', 'CITS2023-2', 'ENSC2224-1', 'ENSC3211-2', 'ENSC3213-2', 'MATH2221-1', 'STAT1524-1']\n",
    "['CITS2023-2', 'CITS3220-2', 'CITS3223-2', 'CITS3021-1', 'CITS3025-1', 'MATH3224-1', 'MATH3221-1', 'STAT3264-1', 'STAT3260-2']\n",
    "['BIOC3221-1', 'BIOC3224-1', 'BIOC3225-2', 'BIOC3225-2', 'CITS1023-2', 'CITS2021-1', 'CITS2023-2', 'MATH1211-1']\n",
    "['CITS2021-1', 'CITS2023-2', 'GRMN2025-1', 'GRMN2020-2', 'MATH1214-1', 'MATH2521-2', 'PHYS2221-1', 'PHYS2223-2']\n",
    "['CITS1221-1', 'CITS1021-1', 'CITS1023-2', 'CITS2023-2', 'MGMT1135-1', 'MGMT1136-2', 'STAT1024-1', 'STAT2023-2']\n",
    "['CITS1221-2', 'CITS2023-2', 'CITS3223-2', 'CITS3021-1', 'CITS3025-1', 'CLAN3224-1', 'STAT2021-1', 'STAT3260-2']\n",
    "```"
   ]
  },
  {
   "cell_type": "code",
   "execution_count": null,
   "metadata": {},
   "outputs": [],
   "source": [
    "def print_patterns(patterns, numlines):\n",
    "    for line in patterns[:numlines]:\n",
    "        print(line)\n",
    "\n",
    "    "
   ]
  },
  {
   "cell_type": "code",
   "execution_count": null,
   "metadata": {},
   "outputs": [],
   "source": [
    "print_patterns(get_patterns(DATAFILE),5)"
   ]
  },
  {
   "cell_type": "markdown",
   "metadata": {},
   "source": [
    "* Write a function that takes a pattern list, and returns the list in which:\n",
    "  * the units in each list (pattern) are sorted alpha-numerically\n",
    "  * the lists (patterns) themselves are sorted alpha-numerically\n",
    "    \n",
    "\n",
    "The following test code:\n",
    "```\n",
    "print_patterns(get_patterns(DATA),3)\n",
    "print()\n",
    "print_patterns(sort_patterns(get_patterns(DATA)),3)\n",
    "```\n",
    "\n",
    "should produce the following output:\n",
    "    \n",
    "```\n",
    "['CITS2224-1', 'CITS2023-2', 'CITS3221-2', 'CITS3224-1', 'CITS3225-1']\n",
    "['CITS2023-2', 'ENSC3221-2', 'ENSC3224-1', 'ENSC3225-1', 'ENSC3227-2', 'ENSC3210-1', 'ENSC3221-1', 'MECH3023-2']\n",
    "['CITS1021-2', 'CITS2021-1', 'CITS2023-2', 'ENSC2224-1', 'ENSC3211-2', 'ENSC3213-2', 'MATH2221-1', 'STAT1524-1']\n",
    "\n",
    "['AACE1223-2AA', 'ACCT1121-1', 'CARS1223-2AA', 'CITS1021-1', 'CITS2023-2', 'ECON1121-1', 'FINA1221-2', 'INDG1223-2AA', 'MGMT1135-2', 'MKTG1225-2', 'STAT1524-1']\n",
    "['AACE1223-2AA', 'CARS1223-2AA', 'CITS1021-1', 'CITS1023-2', 'CITS2023-2', 'INDG1223-2AA', 'LAWS1113-2', 'PSYC1121-1', 'PSYC1123-2', 'SCIE1121-1', 'STAT1024-1']\n",
    "['AACE1223-2AA', 'CARS1223-2AA', 'CITS1021-2', 'CITS1023-2', 'COMM1223-2', 'INDG1223-2AA', 'STAT1023-2']```\n",
    "```\n",
    "\n",
    "_Caution: If you are using python's built-in sorting methods, it is highly recommended that you use `sorted` to return a new sorted list, rather than `sort` to sort the list in-place. Methods that alter a data structure 'in-place' can lead to confusing behaviour when debugging._"
   ]
  },
  {
   "cell_type": "code",
   "execution_count": null,
   "metadata": {},
   "outputs": [],
   "source": [
    "def sort_patterns(patterns):\n",
    "    out_p = []\n",
    "    for outer_pattern in patterns:\n",
    "        out_p.append(sorted(outer_pattern))\n",
    "    inner_pattern = sorted(out_p)\n",
    "    return inner_pattern\n",
    "    "
   ]
  },
  {
   "cell_type": "code",
   "execution_count": null,
   "metadata": {},
   "outputs": [],
   "source": [
    "sorted_patterns = print_patterns(sort_patterns(get_patterns(DATAFILE)),len(pattern_strings))"
   ]
  },
  {
   "cell_type": "markdown",
   "metadata": {},
   "source": [
    "* Write a function `remove_duplicates (patterns)` that returns a (sorted) list of patterns with any duplicate patterns removed.\n",
    "\n",
    "How many *unique* study patterns are there in the class?"
   ]
  },
  {
   "cell_type": "code",
   "execution_count": null,
   "metadata": {},
   "outputs": [],
   "source": [
    "unique_patterns = []\n",
    "for unit in pattern_strings:\n",
    "    if unit not in box:\n",
    "        box.append(unit)"
   ]
  },
  {
   "cell_type": "code",
   "execution_count": null,
   "metadata": {},
   "outputs": [],
   "source": [
    "\n",
    "def remove_duplicates(patterns):\n",
    "    sorted_patterns = sort_patterns(patterns)\n",
    "    new_patterns = [sorted_patterns[0]]\n",
    "    for pattern in sorted_patterns[1:]:\n",
    "        if pattern != new_patterns[:-1]:\n",
    "            new_patterns.append(pattern)\n",
    "    return new_patterns\n",
    "        "
   ]
  },
  {
   "cell_type": "code",
   "execution_count": null,
   "metadata": {},
   "outputs": [],
   "source": [
    "def remove_duplicates(patterns):\n",
    "    unique_patterns = []\n",
    "    for unit in patterns:\n",
    "        if unit not in unit:\n",
    "            unique_patterns.append(unit)\n",
    "    return unique_patterns"
   ]
  },
  {
   "cell_type": "code",
   "execution_count": null,
   "metadata": {},
   "outputs": [],
   "source": [
    "def get_unique_patterns(patterns):\n",
    "    unique_patterns = remove_duplicates(sort_patterns(patterns))\n",
    "    num_patterns = len(patterns)\n",
    "    \n",
    "    return (unique_patterns, num_patterns)\n"
   ]
  },
  {
   "cell_type": "code",
   "execution_count": null,
   "metadata": {},
   "outputs": [],
   "source": [
    "(unique_patterns, num_patterns) = get_unique_patterns(get_patterns(DATAFILE))\n",
    "unique_patterns"
   ]
  },
  {
   "cell_type": "code",
   "execution_count": null,
   "metadata": {},
   "outputs": [],
   "source": []
  },
  {
   "cell_type": "markdown",
   "metadata": {},
   "source": [
    "Print the percentage (to one decimal place) of the total number of study plans in the class that are different.\n",
    "\n",
    "You should find that we are indeed a diverse group!"
   ]
  },
  {
   "cell_type": "markdown",
   "metadata": {},
   "source": [
    "#### Checked Solution [1 mark]\n",
    "\n",
    "* Write a function `get_unique_patterns (patterns)` that returns a pair `(unique_patterns, num_patterns)` where:\n",
    "  * `unique_patterns` contains a sorted list of sorted patterns,  with any duplicate patterns removed (as above)\n",
    "  * `num_patterns` contains the number of unique patterns"
   ]
  },
  {
   "cell_type": "code",
   "execution_count": null,
   "metadata": {
    "deletable": false,
    "editable": false,
    "nbgrader": {
     "grade": true,
     "grade_id": "get_unique_patterns",
     "locked": true,
     "points": 1,
     "schema_version": 3,
     "solution": false,
     "task": false
    }
   },
   "outputs": [],
   "source": [
    "from nose.tools import assert_equal\n",
    "DATA = \"unit-patterns.txt\"\n",
    "(patterns, num_patterns) = get_unique_patterns(get_patterns(DATA))\n",
    "assert_equal(patterns[0],['AACE1223-2AA', 'ACCT1121-1', 'CARS1223-2AA', 'CITS1021-1', 'CITS2023-2', 'ECON1121-1', 'FINA1221-2', 'INDG1223-2AA', 'MGMT1135-2', 'MKTG1225-2', 'STAT1524-1'])\n",
    "assert_equal(patterns[5][0],'AACE1224-ACE-2')\n",
    "assert_equal(patterns[10][-1],'STAT1523-2')\n"
   ]
  },
  {
   "cell_type": "markdown",
   "metadata": {},
   "source": [
    "## Examining the range of disciplines\n",
    "\n",
    "For this part, it is left to you to think about the best way to break the problems down. You won't want to write new code for each different discipline, so think about how you can use structured programming to efficiently answer the questions.\n",
    "\n",
    "* What proportion of study patterns contain: \n",
    "  * a maths unit?\n",
    "  * a stats unit?\n",
    "  * a business unit?\n",
    "  * a medicine unit?\n",
    "  * a law unit?\n",
    "  * a psychology unit?\n",
    "  * a music unit?\n",
    "  * a philosophy unit?\n",
    "  * a service learning unit?\n"
   ]
  },
  {
   "cell_type": "markdown",
   "metadata": {},
   "source": [
    "* How many different disciplines are studied altogether (for the purposes of this question assume the first four characters of the unit code represent the discipline.)"
   ]
  },
  {
   "cell_type": "code",
   "execution_count": null,
   "metadata": {},
   "outputs": [],
   "source": [
    "DATA = \"unit-patterns.txt\"\n",
    "patterns = get_patterns(DATA)\n",
    "print(patterns[:5])"
   ]
  },
  {
   "cell_type": "markdown",
   "metadata": {},
   "source": [
    "# find proportion of each unit. But how?\n",
    "### Steps of finding proportion\n",
    "\n",
    "#### A: Find students study Math\n",
    "\n",
    "- find how many students study at least two math clas\n",
    "- find how many student study one math class\n",
    "- Calculate proportion of students study one class,or two classes. \n",
    "\n",
    "\n",
    "\n"
   ]
  },
  {
   "cell_type": "code",
   "execution_count": null,
   "metadata": {},
   "outputs": [],
   "source": [
    "math_one = 0\n",
    "for pattern in pattern_strings:\n",
    "    count = 0\n",
    "    for unit in pattern:\n",
    "        if unit.startswith('MATH'):\n",
    "            count+=1\n",
    "    #print(pattern)\n",
    "    if count >= 1:\n",
    "        math_one+=1\n",
    "print(math_one)\n",
    "        \n",
    "proportion = math_one/len(pattern_strings)*100\n",
    "\n",
    "\n"
   ]
  },
  {
   "cell_type": "markdown",
   "metadata": {},
   "source": [
    "## Proportion of units"
   ]
  },
  {
   "cell_type": "code",
   "execution_count": null,
   "metadata": {},
   "outputs": [],
   "source": [
    "def find_proportion(subject,data):\n",
    "    students = 0\n",
    "    for pattern in data:\n",
    "        count = 0\n",
    "        for unit in pattern:\n",
    "            if unit.startswith(subject):\n",
    "                count+=1\n",
    "        #print(pattern)\n",
    "        if count >= 1:\n",
    "            students+=1\n",
    "            \n",
    "\n",
    "    proportion = students/len(data)*100\n",
    "    return round(proportion,0)\n",
    "    "
   ]
  },
  {
   "cell_type": "code",
   "execution_count": null,
   "metadata": {},
   "outputs": [],
   "source": [
    "codes = []\n",
    "for pattern in patterns:\n",
    "    for unit in pattern:\n",
    "        if unit[:4] not in codes:\n",
    "            codes.append(unit[:4])\n",
    "            \n"
   ]
  },
  {
   "cell_type": "code",
   "execution_count": null,
   "metadata": {},
   "outputs": [],
   "source": [
    "percentage_for_each_unit = {}\n",
    "for each_code in codes:\n",
    "    percentage_for_each_unit[each_code]= find_proportion(each_code,pattern_strings)\n"
   ]
  },
  {
   "cell_type": "markdown",
   "metadata": {},
   "source": [
    "- Repeating  Proportion\n"
   ]
  },
  {
   "cell_type": "code",
   "execution_count": null,
   "metadata": {},
   "outputs": [],
   "source": [
    "students = 0\n",
    "for pattern in patterns:\n",
    "    count_of_unit_in_pattern = 0\n",
    "    for unit in pattern:\n",
    "        if unit.startswith('MATH'):\n",
    "            count_of_unit_in_pattern+=1\n",
    "    if count_of_unit_in_pattern >=1:\n",
    "        students+=1\n",
    "\n"
   ]
  },
  {
   "cell_type": "code",
   "execution_count": null,
   "metadata": {},
   "outputs": [],
   "source": [
    "def find_proportion(subject, data):\n",
    "\n",
    "    students = 0\n",
    "    for pattern in data:\n",
    "        count_of_unit_in_pattern = 0\n",
    "        for unit in pattern:\n",
    "            if unit.startswith(subject):\n",
    "                count_of_unit_in_pattern+=1\n",
    "        if count_of_unit_in_pattern >=1:\n",
    "            students+=1\n",
    "            \n",
    "    proportion = round(students/len(data),2)\n",
    "    return proportion\n",
    "\n",
    "    "
   ]
  },
  {
   "cell_type": "code",
   "execution_count": null,
   "metadata": {},
   "outputs": [],
   "source": [
    "find_proportion('CITS', pattern_strings)"
   ]
  },
  {
   "cell_type": "code",
   "execution_count": null,
   "metadata": {},
   "outputs": [],
   "source": []
  },
  {
   "cell_type": "code",
   "execution_count": null,
   "metadata": {},
   "outputs": [],
   "source": [
    "def prop(entered_code, pattern_strings):\n",
    "    entered_code = entered_code.upper()\n",
    "\n",
    "        \n",
    "    codes = [] # list of valid codes \n",
    "    for pattern in pattern_strings:\n",
    "        for unit in pattern:\n",
    "            if unit[:4] not in codes:\n",
    "                codes.append(unit[:4])\n",
    "    if entered_code not in codes:\n",
    "        raise ValueError('Not found, try different value')\n",
    "    \n",
    "    \n",
    "    return find_proportion(entered_code, pattern_strings)\n",
    "\n",
    "        "
   ]
  },
  {
   "cell_type": "code",
   "execution_count": null,
   "metadata": {},
   "outputs": [],
   "source": [
    "codes = []\n",
    "for pattern in patterns:\n",
    "    for unit in pattern:\n",
    "        if unit[:4] not in codes:\n",
    "            codes.append(unit[:4])\n",
    "            \n",
    "\n",
    "            \n",
    "def list_prop(enter_list, pattern):\n",
    "    \n",
    "    dic = {}        \n",
    "    for code in enter_list:\n",
    "        try:\n",
    "            dic[code] = prop(code, pattern)\n",
    "        except ValueError:\n",
    "            pass\n",
    "    \n",
    "    return dic\n"
   ]
  },
  {
   "cell_type": "code",
   "execution_count": null,
   "metadata": {},
   "outputs": [],
   "source": [
    "list_prop([\"Mah\", \"CITS\"], pattern_strings)"
   ]
  },
  {
   "cell_type": "code",
   "execution_count": null,
   "metadata": {},
   "outputs": [],
   "source": []
  },
  {
   "cell_type": "markdown",
   "metadata": {},
   "source": [
    "### Challenge\n",
    "\n",
    "* Print a list of each unit that is being studied, and how many students are studying it, in order from the unit with the most students to the unit with the least.\n",
    "\n",
    "Hints: Use a [dictionary](https://docs.python.org/3/library/stdtypes.html#mapping-types-dict), look at the `get` method, and consider the `key` argument of the inbuilt function `sorted`.\n",
    "\n",
    "(My code is 7 lines including the print statement.)\n",
    "\n",
    "* How many units are being studied altogether?"
   ]
  },
  {
   "cell_type": "code",
   "execution_count": 7,
   "metadata": {},
   "outputs": [
    {
     "name": "stdout",
     "output_type": "stream",
     "text": [
      "[['CITS2224-1', 'CITS2023-2', 'CITS3221-2', 'CITS3224-1', 'CITS3225-1'], ['CITS2023-2', 'ENSC3221-2', 'ENSC3224-1', 'ENSC3225-1', 'ENSC3227-2', 'ENSC3210-1', 'ENSC3221-1', 'MECH3023-2'], ['CITS1021-2', 'CITS2021-1', 'CITS2023-2', 'ENSC2224-1', 'ENSC3211-2', 'ENSC3213-2', 'MATH2221-1', 'STAT1524-1'], ['CITS2023-2', 'CITS3220-2', 'CITS3223-2', 'CITS3021-1', 'CITS3025-1', 'MATH3224-1', 'MATH3221-1', 'STAT3264-1', 'STAT3260-2'], ['BIOC3221-1', 'BIOC3224-1', 'BIOC3225-2', 'BIOC3225-2', 'CITS1023-2', 'CITS2021-1', 'CITS2023-2', 'MATH1211-1']]\n"
     ]
    }
   ],
   "source": [
    "DATA = \"unit-patterns.txt\"\n",
    "patterns = get_patterns(DATA)\n",
    "print(patterns[:5])"
   ]
  },
  {
   "cell_type": "code",
   "execution_count": null,
   "metadata": {},
   "outputs": [],
   "source": []
  },
  {
   "cell_type": "code",
   "execution_count": 8,
   "metadata": {},
   "outputs": [],
   "source": [
    "counts = {}\n",
    "\n",
    "for i in range(len(patterns)):\n",
    "    pattern = patterns[i]\n",
    "    for j in range(len(pattern)):\n",
    "        unit = pattern[j]\n",
    "        counts[unit] = counts.get(unit, 0)+1\n",
    "        \n",
    "        \n",
    "        \n",
    "\n",
    "\n"
   ]
  },
  {
   "cell_type": "code",
   "execution_count": 21,
   "metadata": {},
   "outputs": [],
   "source": [
    "counts = {}\n",
    "\n",
    "for i in range(len(patterns)):\n",
    "    pattern = patterns[i]\n",
    "    for j in range(len(pattern)):\n",
    "        unit = pattern[j]\n",
    "        counts[unit] = counts.get(unit, 0)+1\n"
   ]
  },
  {
   "cell_type": "code",
   "execution_count": 28,
   "metadata": {},
   "outputs": [
    {
     "name": "stdout",
     "output_type": "stream",
     "text": [
      "['CITS2224-1', 'CITS2023-2', 'CITS3221-2', 'CITS3224-1', 'CITS3225-1']\n",
      "['CITS2023-2', 'ENSC3221-2', 'ENSC3224-1', 'ENSC3225-1', 'ENSC3227-2', 'ENSC3210-1', 'ENSC3221-1', 'MECH3023-2']\n",
      "['CITS1021-2', 'CITS2021-1', 'CITS2023-2', 'ENSC2224-1', 'ENSC3211-2', 'ENSC3213-2', 'MATH2221-1', 'STAT1524-1']\n",
      "['CITS2023-2', 'CITS3220-2', 'CITS3223-2', 'CITS3021-1', 'CITS3025-1', 'MATH3224-1', 'MATH3221-1', 'STAT3264-1', 'STAT3260-2']\n",
      "['BIOC3221-1', 'BIOC3224-1', 'BIOC3225-2', 'BIOC3225-2', 'CITS1023-2', 'CITS2021-1', 'CITS2023-2', 'MATH1211-1']\n"
     ]
    }
   ],
   "source": [
    "for pattern in patterns[:5]:\n",
    "    print(pattern)"
   ]
  },
  {
   "cell_type": "code",
   "execution_count": 30,
   "metadata": {},
   "outputs": [
    {
     "name": "stdout",
     "output_type": "stream",
     "text": [
      "['CITS2224-1', 'CITS2023-2', 'CITS3221-2', 'CITS3224-1', 'CITS3225-1']\n",
      "['CITS2023-2', 'ENSC3221-2', 'ENSC3224-1', 'ENSC3225-1', 'ENSC3227-2', 'ENSC3210-1', 'ENSC3221-1', 'MECH3023-2']\n",
      "['CITS1021-2', 'CITS2021-1', 'CITS2023-2', 'ENSC2224-1', 'ENSC3211-2', 'ENSC3213-2', 'MATH2221-1', 'STAT1524-1']\n",
      "['CITS2023-2', 'CITS3220-2', 'CITS3223-2', 'CITS3021-1', 'CITS3025-1', 'MATH3224-1', 'MATH3221-1', 'STAT3264-1', 'STAT3260-2']\n",
      "['BIOC3221-1', 'BIOC3224-1', 'BIOC3225-2', 'BIOC3225-2', 'CITS1023-2', 'CITS2021-1', 'CITS2023-2', 'MATH1211-1']\n"
     ]
    }
   ],
   "source": [
    "for j in range(len(patterns[:5])):\n",
    "    pattern = patterns[j]\n",
    "    print(pattern)"
   ]
  },
  {
   "cell_type": "code",
   "execution_count": 19,
   "metadata": {},
   "outputs": [],
   "source": [
    "\n",
    "counts = {}\n",
    "for pattern in patterns:\n",
    "    for unit in pattern:\n",
    "        counts[unit] = counts.get(unit,0)+1\n"
   ]
  },
  {
   "cell_type": "markdown",
   "metadata": {},
   "source": [
    "# Sorting Dictionary"
   ]
  },
  {
   "cell_type": "code",
   "execution_count": 31,
   "metadata": {},
   "outputs": [
    {
     "data": {
      "text/plain": [
       "[('CITS2023-2', 255),\n",
       " ('CITS1023-2', 79),\n",
       " ('CITS1021-1', 77),\n",
       " ('CITS3025-1', 74),\n",
       " ('STAT2021-1', 72),\n",
       " ('STAT2023-2', 67),\n",
       " ('STAT1024-1', 60),\n",
       " ('CITS3021-1', 53),\n",
       " ('CITS2223-2', 48),\n",
       " ('CITS3223-2', 45),\n",
       " ('CITS2224-1', 43),\n",
       " ('CITS3220-2', 43),\n",
       " ('CITS2211-2', 36),\n",
       " ('STAT3260-2', 33),\n",
       " ('CITS3221-2', 28),\n",
       " ('CITS2021-1', 27),\n",
       " ('CITS1221-1', 26),\n",
       " ('CITS3224-1', 23),\n",
       " ('STAT1023-2', 21),\n",
       " ('CITS3225-1', 17),\n",
       " ('MATH2221-1', 13),\n",
       " ('MATH1214-1', 13),\n",
       " ('ENSC2224-1', 12),\n",
       " ('FINA1129-2', 11),\n",
       " ('STAT1524-1', 10),\n",
       " ('CITS1221-2', 10),\n",
       " ('FINA2223-2', 10),\n",
       " ('ACCT1121-1', 10),\n",
       " ('ECON1124-1', 10),\n",
       " ('MATH2231-1', 10),\n",
       " ('FINA1221-1', 9),\n",
       " ('MKTG1225-1', 9),\n",
       " ('MATH1211-1', 8),\n",
       " ('MKTG1225-2', 8),\n",
       " ('ENSC2221-1', 8),\n",
       " ('MATH1721-1', 8),\n",
       " ('PHIL1224-1', 8),\n",
       " ('ECON1121-1', 8),\n",
       " ('CITS2021-2', 8),\n",
       " ('INDG1223-2AA', 8),\n",
       " ('ENSC3221-2', 7),\n",
       " ('ENSC3227-2', 7),\n",
       " ('CITS1021-2', 7),\n",
       " ('FINA3320-1', 7),\n",
       " ('PSYC1121-1', 7),\n",
       " ('MUSC1255-2', 7),\n",
       " ('STAT2263-2', 7),\n",
       " ('ENSC3211-2', 6),\n",
       " ('PHYS2221-1', 6),\n",
       " ('MGMT1135-1', 6),\n",
       " ('FINA2229-1', 6),\n",
       " ('PHAR1121-2', 6),\n",
       " ('MATH3225-2', 6),\n",
       " ('CARS1223-2AA', 6),\n",
       " ('FINA2227-1', 6),\n",
       " ('ENSC3224-1', 5),\n",
       " ('ENSC3213-2', 5),\n",
       " ('ECON1121-2', 5),\n",
       " ('FINA2224-1', 5),\n",
       " ('SCIE1121-1', 5),\n",
       " ('MATH1724-1', 5),\n",
       " ('PSYC1123-2', 5),\n",
       " ('GEOG2221-1', 5),\n",
       " ('MUSC1981-1', 5),\n",
       " ('AACE1223-2AA', 5),\n",
       " ('ENSC3221-1', 4),\n",
       " ('MATH2521-2', 4),\n",
       " ('PHYS2223-2', 4),\n",
       " ('ENSC3223-2', 4),\n",
       " ('MGMT1135-2', 4),\n",
       " ('MUSC2275-1', 4),\n",
       " ('MKTG1220-1', 4),\n",
       " ('FINA2220-1', 4),\n",
       " ('MATH1211-2', 4),\n",
       " ('MATH1721-2', 4),\n",
       " ('ENSC3216-2', 4),\n",
       " ('MUSC1250-1', 4),\n",
       " ('STAT3025-1', 4),\n",
       " ('ACCT3323-2', 4),\n",
       " ('ENSC3220-1', 4),\n",
       " ('ACCT2114-1', 4),\n",
       " ('PSYC2225-1', 4),\n",
       " ('SCOM1121-1', 4),\n",
       " ('ACCT1121-2', 4),\n",
       " ('FINA3326-2', 4),\n",
       " ('ENSC1225-1', 4),\n",
       " ('FINA1221-2', 4),\n",
       " ('MATH3223-2', 4),\n",
       " ('ENSC3225-1', 3),\n",
       " ('GRMN2025-1', 3),\n",
       " ('GRMN2020-2', 3),\n",
       " ('ENSC1225-2', 3),\n",
       " ('FINA2225-1', 3),\n",
       " ('GRMN1021-1', 3),\n",
       " ('ECON2230-2', 3),\n",
       " ('ACCT2331-1', 3),\n",
       " ('SSEH1120-1', 3),\n",
       " ('LAWS2321-2', 3),\n",
       " ('MATH3220-2', 3),\n",
       " ('LAWS1120-1', 3),\n",
       " ('INDG1153-2', 3),\n",
       " ('MKTG2238-2', 3),\n",
       " ('ENSC1220-2', 3),\n",
       " ('FINA3327-2', 3),\n",
       " ('ENSC3215-2', 3),\n",
       " ('GENE2233-2', 3),\n",
       " ('GENE2254-1', 3),\n",
       " ('ENSC3210-1', 2),\n",
       " ('MECH3023-2', 2),\n",
       " ('MATH3224-1', 2),\n",
       " ('STAT3264-1', 2),\n",
       " ('BIOC3225-2', 2),\n",
       " ('SCIE1120-2', 2),\n",
       " ('MKTG2321-2', 2),\n",
       " ('MKTG2325-1', 2),\n",
       " ('ENSC1220-1', 2),\n",
       " ('IMED2223-2', 2),\n",
       " ('SCIE2124-1', 2),\n",
       " ('SPAN1021-1', 2),\n",
       " ('ENSC3228-2', 2),\n",
       " ('ENSC3229-1', 2),\n",
       " ('MATH1621-1', 2),\n",
       " ('SCIE1123-2', 2),\n",
       " ('COMM1223-2', 2),\n",
       " ('ENGL2021-1', 2),\n",
       " ('CHEM2221-1', 2),\n",
       " ('PUBH1121-1', 2),\n",
       " ('GEOG2221-2', 2),\n",
       " ('ACCT2113-2', 2),\n",
       " ('SVLG1223-2', 2),\n",
       " ('BIOL1134-1', 2),\n",
       " ('GRMN1021-2', 2),\n",
       " ('SCIE2267-2', 2),\n",
       " ('MUSC1981-2', 2),\n",
       " ('PSYC2228-2', 2),\n",
       " ('EDUC1124-1', 2),\n",
       " ('SSEH1125-1', 2),\n",
       " ('ECON1123-2', 2),\n",
       " ('IMED2221-1', 2),\n",
       " ('IMED2224-1', 2),\n",
       " ('IMED2225-2', 2),\n",
       " ('IMED2220-2', 2),\n",
       " ('GRMN1023-2', 2),\n",
       " ('ASIA3223-2', 2),\n",
       " ('SVLG1225-Y3', 2),\n",
       " ('MATH1723-2', 2),\n",
       " ('KORE1021-1', 2),\n",
       " ('JAPN2025-1', 2),\n",
       " ('PSYC2217-1', 2),\n",
       " ('PHYS1221-1', 2),\n",
       " ('SSEH2203-2', 2),\n",
       " ('MATH3221-1', 1),\n",
       " ('BIOC3221-1', 1),\n",
       " ('BIOC3224-1', 1),\n",
       " ('MGMT1136-2', 1),\n",
       " ('CLAN3224-1', 1),\n",
       " ('ARTF2250-2', 1),\n",
       " ('POLS1121-1', 1),\n",
       " ('JAPN1023-2', 1),\n",
       " ('MKTG3326-2', 1),\n",
       " ('ENSC3215-1', 1),\n",
       " ('ASIA1221-1', 1),\n",
       " ('PHIL2221-2', 1),\n",
       " ('PHIL2227-2', 1),\n",
       " ('MUSC2270-1', 1),\n",
       " ('ARCY2221-2', 1),\n",
       " ('MUSC3571-1', 1),\n",
       " ('CHEM2223-2', 1),\n",
       " ('PHYS1224-1', 1),\n",
       " ('ASIA2220-1', 1),\n",
       " ('CHIN3029-1', 1),\n",
       " ('SCIE2225-1', 1),\n",
       " ('IMED3221-1', 1),\n",
       " ('IMED3224-1', 1),\n",
       " ('IMED3225-2', 1),\n",
       " ('IMED3220-2', 1),\n",
       " ('BIOC2221-1', 1),\n",
       " ('BIOC2223-2', 1),\n",
       " ('PATH2214-1', 1),\n",
       " ('PATH2211-1', 1),\n",
       " ('GCRL1224-1', 1),\n",
       " ('INMT2233-2', 1),\n",
       " ('ECON3324-1', 1),\n",
       " ('ECON2220-1', 1),\n",
       " ('SVLG1224-Y3', 1),\n",
       " ('EMPL1121-2', 1),\n",
       " ('ANTH1221-1', 1),\n",
       " ('ACCT2221-1', 1),\n",
       " ('MKTG3327-1', 1),\n",
       " ('ECON1111-1', 1),\n",
       " ('PHYS1221-2', 1),\n",
       " ('LAWS3328-1', 1),\n",
       " ('ANHB1121-1', 1),\n",
       " ('SCOM2228-1', 1),\n",
       " ('PACM1124-1', 1),\n",
       " ('LING1221-1', 1),\n",
       " ('ECON2126-1', 1),\n",
       " ('ECON2235-1', 1),\n",
       " ('ANHB1123-2', 1),\n",
       " ('CHEM1221-1', 1),\n",
       " ('SCIE1126-2', 1),\n",
       " ('STAT1523-2', 1),\n",
       " ('FREN1021-2', 1),\n",
       " ('JAPN3025-1', 1),\n",
       " ('JAPN3026-2', 1),\n",
       " ('AACE1224-ACE-2', 1),\n",
       " ('CARS1224-ACE-2', 1),\n",
       " ('INDG1224-ACE-2', 1),\n",
       " ('PACM1121-1', 1),\n",
       " ('ASIA3226-2', 1),\n",
       " ('KORE2025-1', 1),\n",
       " ('KORE2020-2', 1),\n",
       " ('LAWS2221-1', 1),\n",
       " ('LAWS2227-2', 1),\n",
       " ('BUSN1123-2', 1),\n",
       " ('PHAR2214-1', 1),\n",
       " ('PHAR2223-2', 1),\n",
       " ('ENVT2221-2', 1),\n",
       " ('ENVT2254-1', 1),\n",
       " ('CITS0229-2', 1),\n",
       " ('MGMT5520-2', 1),\n",
       " ('STAT0260-2', 1),\n",
       " ('JAPN1021-1', 1),\n",
       " ('ENVT2224-1', 1),\n",
       " ('SPAN1021-2', 1),\n",
       " ('ASIA1223-2', 1),\n",
       " ('CLAN1221-1', 1),\n",
       " ('EDUC1120-1', 1),\n",
       " ('CHIN2025-1', 1),\n",
       " ('CHIN2026-2', 1),\n",
       " ('ECON2205-2', 1),\n",
       " ('PACM1121-U0', 1),\n",
       " ('PHYS1234-1', 1),\n",
       " ('SVLG1227-1', 1),\n",
       " ('LAWS1113-2', 1),\n",
       " ('JAPN2221-1', 1),\n",
       " ('JAPN2020-2', 1),\n",
       " ('MATH3233-2', 1),\n",
       " ('SSEH1125-2', 1),\n",
       " ('ENVT2251-2', 1),\n",
       " ('GCRL2223-2', 1),\n",
       " ('ARTF1254-1', 1),\n",
       " ('MGMT1136-1', 1),\n",
       " ('KORE3025-1', 1),\n",
       " ('STAT3026-2', 1),\n",
       " ('BIOL2220-2', 1),\n",
       " ('ENVT3327-2', 1),\n",
       " ('SCIE2220-1', 1),\n",
       " ('ANIM1221-1', 1),\n",
       " ('SSEH1123-2', 1),\n",
       " ('MATH1213-2', 1),\n",
       " ('SVLG1226-U0', 1),\n",
       " ('ENRL3225-2', 1),\n",
       " ('HIST1125-1', 1),\n",
       " ('POLS2221-2', 1),\n",
       " ('POLS2216-2', 1),\n",
       " ('POLS2224-1', 1),\n",
       " ('CHEM1225-2', 1),\n",
       " ('LING1223-2', 1),\n",
       " ('EMPL3274-1', 1),\n",
       " ('MGMT3335-1', 1),\n",
       " ('MGMT3307-2', 1),\n",
       " ('ARLA1224-1', 1),\n",
       " ('EART1120-2', 1),\n",
       " ('EART1125-1', 1),\n",
       " ('GCRL2224-1', 1),\n",
       " ('ITAL1021-1', 1),\n",
       " ('GCRL2224-Y3', 1),\n",
       " ('SVLG1226-1', 1),\n",
       " ('ENSC3226-1', 1),\n",
       " ('ENSC3218-2', 1),\n",
       " ('ENSC3219-2', 1),\n",
       " ('PSYC3313-2', 1),\n",
       " ('ENSC3225-2', 1),\n",
       " ('SSEH3355-1', 1),\n",
       " ('ENSC2225-2', 1),\n",
       " ('ACCT2221-2', 1),\n",
       " ('CHEM1225-1', 1),\n",
       " ('ENSC2220-2', 1),\n",
       " ('ACCT3325-1', 1),\n",
       " ('MGMT2301-1', 1),\n",
       " ('CHEM1220-2', 1),\n",
       " ('GEOG2224-A0A', 1),\n",
       " ('GEOG2225-1', 1),\n",
       " ('GEOG2226-2', 1),\n",
       " ('ANHB2214-1', 1),\n",
       " ('ANHB2215-1', 1),\n",
       " ('ANHB3320-2', 1),\n",
       " ('PHIL3225-1', 1),\n",
       " ('PHIL3220-2', 1),\n",
       " ('SSEH3366-2', 1),\n",
       " ('PHIL2220-1', 1),\n",
       " ('SVLG1225-1', 1)]"
      ]
     },
     "execution_count": 31,
     "metadata": {},
     "output_type": "execute_result"
    }
   ],
   "source": [
    "\n",
    "sorted(counts.items(),key = lambda kv:kv[1],reverse = True)"
   ]
  },
  {
   "cell_type": "code",
   "execution_count": null,
   "metadata": {},
   "outputs": [],
   "source": []
  },
  {
   "cell_type": "code",
   "execution_count": null,
   "metadata": {},
   "outputs": [],
   "source": []
  },
  {
   "cell_type": "markdown",
   "metadata": {},
   "source": [
    "- Practice Code"
   ]
  },
  {
   "cell_type": "code",
   "execution_count": null,
   "metadata": {},
   "outputs": [],
   "source": [
    "with open(DATAFILE, 'r') as file:\n",
    "    print(file.readlines)"
   ]
  },
  {
   "cell_type": "code",
   "execution_count": null,
   "metadata": {},
   "outputs": [],
   "source": [
    "line = ' CITS2224-1 + CITS2023-2 + CITS3221-2 + CITS3224-1 + CITS3225-1 \\t 1 (2.0%) \\n'"
   ]
  },
  {
   "cell_type": "code",
   "execution_count": null,
   "metadata": {},
   "outputs": [],
   "source": [
    "line.partition(\"\\t 1 (2.0%) \\n\")"
   ]
  },
  {
   "cell_type": "code",
   "execution_count": null,
   "metadata": {},
   "outputs": [],
   "source": [
    "line.partition('\\t')"
   ]
  },
  {
   "cell_type": "markdown",
   "metadata": {},
   "source": [
    "#### Sort Patterns\n",
    "- How does \"not equal\" works?\n"
   ]
  },
  {
   "cell_type": "code",
   "execution_count": null,
   "metadata": {},
   "outputs": [],
   "source": [
    "def sort_patterns(patterns):\n",
    "    newpattern= sorted(patterns)\n",
    "    return newpattern"
   ]
  },
  {
   "cell_type": "code",
   "execution_count": null,
   "metadata": {},
   "outputs": [],
   "source": [
    "\n",
    "students = len(pattern_strings)\n",
    "count = 0\n",
    "sorted_file = []\n",
    "while count != students:\n",
    "    sorted_file.append(sorted(patterns[count]))\n",
    "    count+=1\n",
    "sorted_file = sorted(sorted_file)\n",
    "\n",
    "\n"
   ]
  },
  {
   "cell_type": "code",
   "execution_count": null,
   "metadata": {},
   "outputs": [],
   "source": [
    "sorted_patterns =[]\n",
    "for pattern in pattern_strings:\n",
    "    sorted_patterns.append(sorted(pattern_strings))\n",
    "sorted_pattern = sorted(sorted_patterns)\n",
    "\n",
    "\n"
   ]
  },
  {
   "cell_type": "markdown",
   "metadata": {},
   "source": [
    "### Remove Duplicates\n"
   ]
  },
  {
   "cell_type": "code",
   "execution_count": null,
   "metadata": {},
   "outputs": [],
   "source": [
    "\n",
    "new_patterns = [sorted_pattern[0]]\n",
    "for pattern in sorted_pattern[1:]:\n",
    "    if pattern != new_patterns[-1]:\n",
    "        new_patterns.append(pattern)\n"
   ]
  },
  {
   "cell_type": "code",
   "execution_count": null,
   "metadata": {},
   "outputs": [],
   "source": []
  },
  {
   "cell_type": "code",
   "execution_count": null,
   "metadata": {},
   "outputs": [],
   "source": []
  },
  {
   "cell_type": "code",
   "execution_count": null,
   "metadata": {},
   "outputs": [],
   "source": []
  },
  {
   "cell_type": "code",
   "execution_count": null,
   "metadata": {},
   "outputs": [],
   "source": []
  },
  {
   "cell_type": "markdown",
   "metadata": {},
   "source": [
    "### Find Unique Patterns"
   ]
  },
  {
   "cell_type": "markdown",
   "metadata": {},
   "source": [
    "- sort files\n",
    "- find unique patterns"
   ]
  },
  {
   "cell_type": "code",
   "execution_count": null,
   "metadata": {},
   "outputs": [],
   "source": [
    "sorted_pattern = []\n",
    "for pattern in pattern_strings:\n",
    "    sorted_pattern.append(sorted(pattern))\n",
    "\n",
    "patterns_sorted = sorted(sorted_pattern)\n",
    "\n",
    "\n",
    "\n",
    "        "
   ]
  },
  {
   "cell_type": "code",
   "execution_count": null,
   "metadata": {},
   "outputs": [],
   "source": [
    "unique_patterns = [patterns_sorted[0]]\n",
    "for unique in patterns_sorted[1:]:\n",
    "    if unique != patterns_sorted[-1]:\n",
    "        unique_patterns.append(unique)\n",
    "\n",
    "    \n",
    "        "
   ]
  },
  {
   "cell_type": "code",
   "execution_count": null,
   "metadata": {},
   "outputs": [],
   "source": [
    "uniq = []\n",
    "\n",
    "for pattern in pattern_strings:\n",
    "    if pattern not in uniq:\n",
    "        uniq.append(pattern)"
   ]
  },
  {
   "cell_type": "code",
   "execution_count": null,
   "metadata": {},
   "outputs": [],
   "source": []
  },
  {
   "cell_type": "code",
   "execution_count": null,
   "metadata": {},
   "outputs": [],
   "source": [
    "sorted_file = []\n",
    "for pattern in pattern_strings:\n",
    "    sorted_file.append(sorted(pattern))\n",
    "sorted_file = sorted(sorted_file)\n",
    "\n",
    "\n"
   ]
  },
  {
   "cell_type": "code",
   "execution_count": 29,
   "metadata": {},
   "outputs": [],
   "source": [
    "\n",
    "unique_file = [sorted_file[0]]\n",
    "for uniques in sorted_file[1:]:\n",
    "    if uniques != unique_file[-1]:\n",
    "        unique_file.append(uniques)\n"
   ]
  },
  {
   "cell_type": "markdown",
   "metadata": {},
   "source": [
    "# Find Proportion"
   ]
  },
  {
   "cell_type": "markdown",
   "metadata": {},
   "source": [
    "\n",
    "- find proportion for one subject\n",
    "- Then generalise"
   ]
  },
  {
   "cell_type": "markdown",
   "metadata": {},
   "source": [
    "### 1 Subject "
   ]
  },
  {
   "cell_type": "code",
   "execution_count": 105,
   "metadata": {},
   "outputs": [],
   "source": [
    "student = 0\n",
    "for pattern in unique_file:\n",
    "    count = 0\n",
    "    for unit in pattern:\n",
    "        if unit.startswith('MATH'):\n",
    "            count+=1\n",
    "\n",
    "\n",
    "    if count >= 1:\n",
    "        student+=1\n",
    "        \n",
    "\n",
    "\n",
    "proportion = round(student/len(unique_file),2)\n"
   ]
  },
  {
   "cell_type": "code",
   "execution_count": 106,
   "metadata": {},
   "outputs": [
    {
     "data": {
      "text/plain": [
       "0.22"
      ]
     },
     "execution_count": 106,
     "metadata": {},
     "output_type": "execute_result"
    }
   ],
   "source": [
    "proportion"
   ]
  },
  {
   "cell_type": "markdown",
   "metadata": {},
   "source": [
    "### General Units, any unit proportion"
   ]
  },
  {
   "cell_type": "markdown",
   "metadata": {},
   "source": [
    "# Find the list of Unique Subjects"
   ]
  },
  {
   "cell_type": "code",
   "execution_count": 200,
   "metadata": {},
   "outputs": [],
   "source": [
    "def proportion(units,data):\n",
    "    \n",
    "    units = units.upper()\n",
    "\n",
    "    student = 0\n",
    "    for pattern in data:\n",
    "        count = 0\n",
    "        for unit in pattern:\n",
    "            if unit.startswith(units):\n",
    "                    count+=1\n",
    "        if count >= 1:\n",
    "            student+=1\n",
    "\n",
    "    proportion = student/len(data)\n",
    "\n",
    "    return round(proportion,2)\n",
    "\n",
    "\n",
    "    "
   ]
  },
  {
   "cell_type": "code",
   "execution_count": 195,
   "metadata": {},
   "outputs": [],
   "source": [
    "unique_units = []\n",
    "for pattern in unique_file:\n",
    "    for unit in pattern:\n",
    "        if unit[:4] not in unique_units:\n",
    "            unique_units.append(unit[:4])\n",
    "\n",
    "            \n"
   ]
  },
  {
   "cell_type": "code",
   "execution_count": 229,
   "metadata": {},
   "outputs": [],
   "source": [
    "def all_prop(code_list,pattern):\n",
    "    dictionary = {}\n",
    "    for code in code_list:\n",
    "        try:\n",
    "            dictionary[code] = proportion(code,pattern)\n",
    "        except:\n",
    "            pass\n",
    "        \n",
    "    return dictionary"
   ]
  },
  {
   "cell_type": "code",
   "execution_count": 236,
   "metadata": {},
   "outputs": [
    {
     "data": {
      "text/plain": [
       "{'code': 0.0}"
      ]
     },
     "execution_count": 236,
     "metadata": {},
     "output_type": "execute_result"
    }
   ],
   "source": [
    "all_prop([\"code\"], unique_file)"
   ]
  },
  {
   "cell_type": "code",
   "execution_count": null,
   "metadata": {},
   "outputs": [],
   "source": []
  }
 ],
 "metadata": {
  "kernelspec": {
   "display_name": "Python 3",
   "language": "python",
   "name": "python3"
  },
  "language_info": {
   "codemirror_mode": {
    "name": "ipython",
    "version": 3
   },
   "file_extension": ".py",
   "mimetype": "text/x-python",
   "name": "python",
   "nbconvert_exporter": "python",
   "pygments_lexer": "ipython3",
   "version": "3.7.6"
  }
 },
 "nbformat": 4,
 "nbformat_minor": 4
}
