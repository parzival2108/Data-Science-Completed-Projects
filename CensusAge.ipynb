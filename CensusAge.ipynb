{
 "cells": [
  {
   "cell_type": "markdown",
   "metadata": {},
   "source": [
    "\n",
    "<span style=\"font-size:x-large;\">Lab 3</span>\n",
    "\n",
    "# Exploring the Census Age Data\n",
    "\n",
    "In *The Census and the \"Typical\" Australian?\"*, we discussed the age chosen for Clare (38), the \"Typical\" Australian, and Paul (37), the \"Typical\" Western Australian.\n",
    "\n",
    "We saw that the ABS chose to use the *mode* for most attributes, while for age they chose to use the *median*. We asked why they may have made that decision. (Noting as well that in their Quickstats they also used some *means* (averages), somewhat confusingly, for the same attributes.)\n",
    "\n",
    "In this lab we'll explore the data, and see if you think that choice is justified.\n",
    "\n",
    "*It is recommended that the case study videos are viewed in conjunction with this lab - either beforehand to get some direction and/or afterwards to review your approach, depending on your learning strategy.*"
   ]
  },
  {
   "cell_type": "markdown",
   "metadata": {},
   "source": [
    "## Data Acquisition\n",
    "\n",
    "Download the 2016 Census *General Community Profile* datapack from the ABS.\n",
    "\n",
    "Open the Metadata spreadsheet (in your preferred spreadsheet software) and find the table that reports age data from the Census.\n",
    "\n",
    "Go to the Cell Descriptors for that data. You should find age data starting from the age of zero.\n",
    "\n",
    "_Q: What happens when you get to 80?_\n",
    "\n",
    "You should see that people over 80 do not get the same representation as those under 80. Can you think of any good reason to justify this blatant ageism?"
   ]
  },
  {
   "cell_type": "markdown",
   "metadata": {},
   "source": [
    "> _Before you upload the data to CoCalc, check the file size. If you choose to upload the whole zip file, it should be less than 5MB (if not, check that you have only downloaded the data for Australia as a whole, not all the separate regions as well.) It is recommended that you remove an additional 3.5MB by unzipping the package and deleting the file `2016Census_geog_desc_1st_and_2nd_release.xlsx` which is not needed for the labs._\n",
    ">\n",
    "> _Alternatively, you can just upload the components you need. The tables (csv files) you need for the lab are each less than 5KB._\n",
    "\n",
    "\n",
    "* Upload the data to the directory for this Lab.\n",
    "\n",
    "* Set up suitable constants to point to the age data. Read in and print out the data to ensure you have accessed it correctly."
   ]
  },
  {
   "cell_type": "code",
   "execution_count": 2,
   "metadata": {},
   "outputs": [],
   "source": [
    "DATA_A= \"2016Census_G04A_AUS.csv\"\n",
    "DATA_B= \"2016Census_G04B_AUS.csv\""
   ]
  },
  {
   "cell_type": "markdown",
   "metadata": {},
   "source": [
    "## Data Cleaning\n",
    "\n",
    "We are going to examine the age profile of the *population as a whole*.\n",
    "\n",
    "Have another look at the Cell Descriptors in the spreadsheet. Which rows of data do you need for this task?\n",
    "\n",
    "Let's start by pulling the data into lists.\n",
    "\n",
    "* Write some code to read in the data and store the data you need for this task in lists. You can strip out some of the rows you don't need at this stage, however don't strip out the 5 year totals yet, as we'll need those for the next step. Make any appropriate type conversions, and tidy up category names if you wish.\n",
    "\n",
    "Tip: A similar example is covered in the videos.\n",
    "\n",
    "For comparison, I have two lists with 101 items in each after this step.\n"
   ]
  },
  {
   "cell_type": "code",
   "execution_count": 3,
   "metadata": {},
   "outputs": [
    {
     "name": "stdout",
     "output_type": "stream",
     "text": [
      "['Age_yr_0_M', 'Age_yr_0_F', 'Age_yr_0_P', 'Age_yr_1_M', 'Age_yr_1_F', 'Age_yr_1_P', 'Age_yr_2_M', 'Age_yr_2_F', 'Age_yr_2_P', 'Age_yr_3_M', 'Age_yr_3_F', 'Age_yr_3_P', 'Age_yr_4_M', 'Age_yr_4_F', 'Age_yr_4_P', 'Age_yr_0_4_M', 'Age_yr_0_4_F', 'Age_yr_0_4_P', 'Age_yr_5_M', 'Age_yr_5_F', 'Age_yr_5_P', 'Age_yr_6_M', 'Age_yr_6_F', 'Age_yr_6_P', 'Age_yr_7_M', 'Age_yr_7_F', 'Age_yr_7_P', 'Age_yr_8_M', 'Age_yr_8_F', 'Age_yr_8_P', 'Age_yr_9_M', 'Age_yr_9_F', 'Age_yr_9_P', 'Age_yr_5_9_M', 'Age_yr_5_9_F', 'Age_yr_5_9_P', 'Age_yr_10_M', 'Age_yr_10_F', 'Age_yr_10_P', 'Age_yr_11_M', 'Age_yr_11_F', 'Age_yr_11_P', 'Age_yr_12_M', 'Age_yr_12_F', 'Age_yr_12_P', 'Age_yr_13_M', 'Age_yr_13_F', 'Age_yr_13_P', 'Age_yr_14_M', 'Age_yr_14_F', 'Age_yr_14_P', 'Age_yr_10_14_M', 'Age_yr_10_14_F', 'Age_yr_10_14_P', 'Age_yr_15_M', 'Age_yr_15_F', 'Age_yr_15_P', 'Age_yr_16_M', 'Age_yr_16_F', 'Age_yr_16_P', 'Age_yr_17_M', 'Age_yr_17_F', 'Age_yr_17_P', 'Age_yr_18_M', 'Age_yr_18_F', 'Age_yr_18_P', 'Age_yr_19_M', 'Age_yr_19_F', 'Age_yr_19_P', 'Age_yr_15_19_M', 'Age_yr_15_19_F', 'Age_yr_15_19_P', 'Age_yr_20_M', 'Age_yr_20_F', 'Age_yr_20_P', 'Age_yr_21_M', 'Age_yr_21_F', 'Age_yr_21_P', 'Age_yr_22_M', 'Age_yr_22_F', 'Age_yr_22_P', 'Age_yr_23_M', 'Age_yr_23_F', 'Age_yr_23_P', 'Age_yr_24_M', 'Age_yr_24_F', 'Age_yr_24_P', 'Age_yr_20_24_M', 'Age_yr_20_24_F', 'Age_yr_20_24_P', 'Age_yr_25_M', 'Age_yr_25_F', 'Age_yr_25_P', 'Age_yr_26_M', 'Age_yr_26_F', 'Age_yr_26_P', 'Age_yr_27_M', 'Age_yr_27_F', 'Age_yr_27_P', 'Age_yr_28_M', 'Age_yr_28_F', 'Age_yr_28_P', 'Age_yr_29_M', 'Age_yr_29_F', 'Age_yr_29_P', 'Age_yr_25_29_M', 'Age_yr_25_29_F', 'Age_yr_25_29_P', 'Age_yr_30_M', 'Age_yr_30_F', 'Age_yr_30_P', 'Age_yr_31_M', 'Age_yr_31_F', 'Age_yr_31_P', 'Age_yr_32_M', 'Age_yr_32_F', 'Age_yr_32_P', 'Age_yr_33_M', 'Age_yr_33_F', 'Age_yr_33_P', 'Age_yr_34_M', 'Age_yr_34_F', 'Age_yr_34_P', 'Age_yr_30_34_M', 'Age_yr_30_34_F', 'Age_yr_30_34_P', 'Age_yr_35_M', 'Age_yr_35_F', 'Age_yr_35_P', 'Age_yr_36_M', 'Age_yr_36_F', 'Age_yr_36_P', 'Age_yr_37_M', 'Age_yr_37_F', 'Age_yr_37_P', 'Age_yr_38_M', 'Age_yr_38_F', 'Age_yr_38_P', 'Age_yr_39_M', 'Age_yr_39_F', 'Age_yr_39_P', 'Age_yr_35_39_M', 'Age_yr_35_39_F', 'Age_yr_35_39_P', 'Age_yr_40_M', 'Age_yr_40_F', 'Age_yr_40_P', 'Age_yr_41_M', 'Age_yr_41_F', 'Age_yr_41_P', 'Age_yr_42_M', 'Age_yr_42_F', 'Age_yr_42_P', 'Age_yr_43_M', 'Age_yr_43_F', 'Age_yr_43_P', 'Age_yr_44_M', 'Age_yr_44_F', 'Age_yr_44_P', 'Age_yr_40_44_M', 'Age_yr_40_44_F', 'Age_yr_40_44_P', 'Age_yr_45_M', 'Age_yr_45_F', 'Age_yr_45_P', 'Age_yr_46_M', 'Age_yr_46_F', 'Age_yr_46_P', 'Age_yr_47_M', 'Age_yr_47_F', 'Age_yr_47_P', 'Age_yr_48_M', 'Age_yr_48_F', 'Age_yr_48_P', 'Age_yr_49_M', 'Age_yr_49_F', 'Age_yr_49_P', 'Age_yr_45_49_M', 'Age_yr_45_49_F', 'Age_yr_45_49_P', 'Age_yr_50_M', 'Age_yr_50_F', 'Age_yr_50_P', 'Age_yr_51_M', 'Age_yr_51_F', 'Age_yr_51_P', 'Age_yr_52_M', 'Age_yr_52_F', 'Age_yr_52_P', 'Age_yr_53_M', 'Age_yr_53_F', 'Age_yr_53_P', 'Age_yr_54_M', 'Age_yr_54_F', 'Age_yr_54_P', 'Age_yr_50_54_M', 'Age_yr_50_54_F', 'Age_yr_50_54_P']\n",
      "['141634', '134594', '276227', '151016', '142482', '293503', '151229', '143914', '295142', '154196', '145528', '299725', '154067', '146114', '300184', '752142', '712638', '1464779', '153080', '145191', '298271', '155107', '147795', '302901', '153848', '145564', '299413', '154521', '146881', '301400', '154504', '146165', '300664', '771055', '731592', '1502646', '149808', '141986', '291803', '144127', '136153', '280279', '143254', '134511', '277765', '140571', '133753', '274328', '139870', '133147', '273014', '717629', '679553', '1397183', '143401', '135431', '278837', '144166', '137931', '282097', '144632', '137845', '282478', '145656', '138592', '284249', '149818', '144118', '293937', '727677', '693915', '1421595', '154509', '147871', '302373', '158910', '152029', '310938', '158461', '152924', '311388', '160895', '157980', '318881', '162650', '160563', '323217', '795423', '771369', '1566793', '164641', '164792', '329436', '167136', '169099', '336235', '163982', '167761', '331744', '164578', '169656', '334236', '163734', '169213', '332945', '824084', '840525', '1664602', '168256', '174069', '342321', '167509', '173573', '341084', '168499', '173833', '342332', '169357', '173787', '343142', '166201', '168759', '334962', '839821', '864026', '1703847', '163585', '166065', '329654', '157280', '159890', '317170', '152732', '156055', '308794', '150226', '153794', '304021', '149309', '152733', '302040', '773132', '788548', '1561679', '150729', '154819', '305551', '150868', '155304', '306170', '155446', '160358', '315801', '157251', '164255', '321509', '163410', '170814', '334220', '777702', '805551', '1583257', '166373', '175768', '342135', '156665', '163206', '319874', '154273', '161615', '315888', '150068', '156269', '306342', '145794', '151426', '297225', '773170', '808282', '1581455', '146710', '151700', '298409', '145517', '150618', '296133', '151790', '156982', '308770', '152891', '158235', '311129', '152045', '157068', '309113', '748954', '774601', '1523551']\n"
     ]
    }
   ],
   "source": [
    "DATA_A= \"2016Census_G04A_AUS.csv\"\n",
    "\n",
    "\n",
    "with open(DATA_A) as file:\n",
    "    Age_Category_A = file.readline()[1:].split(',')[1:-2]\n",
    "    Age_Numbers_A = file.readline()[1:].split(',')[1:-2]\n",
    "    print(Age_Category_A)\n",
    "    print(Age_Numbers_A)\n",
    "\n",
    "   \n",
    "    "
   ]
  },
  {
   "cell_type": "code",
   "execution_count": 4,
   "metadata": {},
   "outputs": [
    {
     "name": "stdout",
     "output_type": "stream",
     "text": [
      "198 198\n"
     ]
    }
   ],
   "source": [
    "print(len(Age_Category_A), len(Age_Numbers_A))"
   ]
  },
  {
   "cell_type": "code",
   "execution_count": 5,
   "metadata": {},
   "outputs": [
    {
     "name": "stdout",
     "output_type": "stream",
     "text": [
      "['Age_yr_55_P', 'Age_yr_56_M', 'Age_yr_56_F', 'Age_yr_56_P', 'Age_yr_57_M', 'Age_yr_57_F', 'Age_yr_57_P', 'Age_yr_58_M', 'Age_yr_58_F', 'Age_yr_58_P', 'Age_yr_59_M', 'Age_yr_59_F', 'Age_yr_59_P', 'Age_yr_55_59_M', 'Age_yr_55_59_F', 'Age_yr_55_59_P', 'Age_yr_60_M', 'Age_yr_60_F', 'Age_yr_60_P', 'Age_yr_61_M', 'Age_yr_61_F', 'Age_yr_61_P', 'Age_yr_62_M', 'Age_yr_62_F', 'Age_yr_62_P', 'Age_yr_63_M', 'Age_yr_63_F', 'Age_yr_63_P', 'Age_yr_64_M', 'Age_yr_64_F', 'Age_yr_64_P', 'Age_yr_60_64_M', 'Age_yr_60_64_F', 'Age_yr_60_64_P', 'Age_yr_65_M', 'Age_yr_65_F', 'Age_yr_65_P', 'Age_yr_66_M', 'Age_yr_66_F', 'Age_yr_66_P', 'Age_yr_67_M', 'Age_yr_67_F', 'Age_yr_67_P', 'Age_yr_68_M', 'Age_yr_68_F', 'Age_yr_68_P', 'Age_yr_69_M', 'Age_yr_69_F', 'Age_yr_69_P', 'Age_yr_65_69_M', 'Age_yr_65_69_F', 'Age_yr_65_69_P', 'Age_yr_70_M', 'Age_yr_70_F', 'Age_yr_70_P', 'Age_yr_71_M', 'Age_yr_71_F', 'Age_yr_71_P', 'Age_yr_72_M', 'Age_yr_72_F', 'Age_yr_72_P', 'Age_yr_73_M', 'Age_yr_73_F', 'Age_yr_73_P', 'Age_yr_74_M', 'Age_yr_74_F', 'Age_yr_74_P', 'Age_yr_70_74_M', 'Age_yr_70_74_F', 'Age_yr_70_74_P', 'Age_yr_75_M', 'Age_yr_75_F', 'Age_yr_75_P', 'Age_yr_76_M', 'Age_yr_76_F', 'Age_yr_76_P', 'Age_yr_77_M', 'Age_yr_77_F', 'Age_yr_77_P', 'Age_yr_78_M', 'Age_yr_78_F', 'Age_yr_78_P', 'Age_yr_79_M', 'Age_yr_79_F', 'Age_yr_79_P', 'Age_yr_75_79_M', 'Age_yr_75_79_F', 'Age_yr_75_79_P', 'Age_yr_80_84_M', 'Age_yr_80_84_F', 'Age_yr_80_84_P', 'Age_yr_85_89_M', 'Age_yr_85_89_F', 'Age_yr_85_89_P', 'Age_yr_90_94_M', 'Age_yr_90_94_F', 'Age_yr_90_94_P', 'Age_yr_95_99_M', 'Age_yr_95_99_F', 'Age_yr_95_99_P', 'Age_yr_100_yr_over_M', 'Age_yr_100_yr_over_F', 'Age_yr_100_yr_over_P']\n",
      "['307724', '144266', '151978', '296245', '141213', '147772', '288988', '138145', '146347', '284495', '134806', '142078', '276881', '709115', '745214', '1454332', '134143', '139787', '273932', '128246', '135699', '263946', '124425', '132967', '257389', '124253', '131575', '255829', '121286', '127014', '248301', '632357', '667048', '1299397', '119627', '125731', '245354', '116662', '122997', '239654', '113043', '118130', '231175', '113110', '117537', '230653', '118789', '123375', '242161', '581230', '607766', '1188999', '98167', '101853', '200020', '92016', '96993', '189011', '87762', '93002', '180760', '77054', '82842', '159896', '76323', '81708', '158024', '431325', '456390', '887716', '69733', '75944', '145679', '65984', '72605', '138588', '61538', '69147', '130681', '56832', '65368', '122201', '53360', '62153', '115511', '307441', '345217', '652657', '204026', '256529', '460549', '123502', '185463', '308960', '46828', '93570', '140398', '9244', '24672', '33920', '777', '2788', '3569']\n"
     ]
    }
   ],
   "source": [
    "\n",
    "DATA_B= \"2016Census_G04B_AUS.csv\"\n",
    "\n",
    "with open(DATA_B) as file:\n",
    "    Age_Category_B = file.readline()[1:].split(',')[1:-3]\n",
    "    Age_Numbers_B = file.readline()[1:].split(',')[1:-3]\n",
    "    print(Age_Category_B)\n",
    "    print(Age_Numbers_B)"
   ]
  },
  {
   "cell_type": "code",
   "execution_count": 6,
   "metadata": {},
   "outputs": [
    {
     "name": "stdout",
     "output_type": "stream",
     "text": [
      "103 103\n"
     ]
    }
   ],
   "source": [
    "print(len(Age_Category_B),len(Age_Numbers_B))"
   ]
  },
  {
   "cell_type": "code",
   "execution_count": 19,
   "metadata": {},
   "outputs": [
    {
     "ename": "SyntaxError",
     "evalue": "invalid syntax (<ipython-input-19-8a9736ed2494>, line 1)",
     "output_type": "error",
     "traceback": [
      "\u001b[0;36m  File \u001b[0;32m\"<ipython-input-19-8a9736ed2494>\"\u001b[0;36m, line \u001b[0;32m1\u001b[0m\n\u001b[0;31m    Age_A = Age_Category_A[slice(1:9,len(Age_Category_A),0)]\u001b[0m\n\u001b[0m                                  ^\u001b[0m\n\u001b[0;31mSyntaxError\u001b[0m\u001b[0;31m:\u001b[0m invalid syntax\n"
     ]
    }
   ],
   "source": [
    "Age_A = Age_Category_A[slice(2,len(Age_Category_A),3)]\n",
    "Age_Pop_A = Age_Numbers_A[slice(2,len(Age_Numbers_A),3)]\n",
    "\n",
    "print(len(Age_A), len(Age_Pop_A))"
   ]
  },
  {
   "cell_type": "code",
   "execution_count": null,
   "metadata": {},
   "outputs": [],
   "source": []
  },
  {
   "cell_type": "code",
   "execution_count": 8,
   "metadata": {},
   "outputs": [
    {
     "name": "stdout",
     "output_type": "stream",
     "text": [
      "35 35\n"
     ]
    }
   ],
   "source": [
    "Age_B = Age_Category_B[slice(0,len(Age_Category_B),3)]\n",
    "Age_Pop_B = Age_Numbers_B[slice(0,len(Age_Numbers_B),3)]\n",
    "\n",
    "print(len(Age_B), len(Age_Pop_B))"
   ]
  },
  {
   "cell_type": "code",
   "execution_count": 18,
   "metadata": {},
   "outputs": [
    {
     "data": {
      "text/plain": [
       "['Age_yr_0_P',\n",
       " 'Age_yr_1_P',\n",
       " 'Age_yr_2_P',\n",
       " 'Age_yr_3_P',\n",
       " 'Age_yr_4_P',\n",
       " 'Age_yr_0_4_P',\n",
       " 'Age_yr_5_P',\n",
       " 'Age_yr_6_P',\n",
       " 'Age_yr_7_P',\n",
       " 'Age_yr_8_P',\n",
       " 'Age_yr_9_P',\n",
       " 'Age_yr_5_9_P',\n",
       " 'Age_yr_10_P',\n",
       " 'Age_yr_11_P',\n",
       " 'Age_yr_12_P',\n",
       " 'Age_yr_13_P',\n",
       " 'Age_yr_14_P',\n",
       " 'Age_yr_10_14_P',\n",
       " 'Age_yr_15_P',\n",
       " 'Age_yr_16_P',\n",
       " 'Age_yr_17_P',\n",
       " 'Age_yr_18_P',\n",
       " 'Age_yr_19_P',\n",
       " 'Age_yr_15_19_P',\n",
       " 'Age_yr_20_P',\n",
       " 'Age_yr_21_P',\n",
       " 'Age_yr_22_P',\n",
       " 'Age_yr_23_P',\n",
       " 'Age_yr_24_P',\n",
       " 'Age_yr_20_24_P',\n",
       " 'Age_yr_25_P',\n",
       " 'Age_yr_26_P',\n",
       " 'Age_yr_27_P',\n",
       " 'Age_yr_28_P',\n",
       " 'Age_yr_29_P',\n",
       " 'Age_yr_25_29_P',\n",
       " 'Age_yr_30_P',\n",
       " 'Age_yr_31_P',\n",
       " 'Age_yr_32_P',\n",
       " 'Age_yr_33_P',\n",
       " 'Age_yr_34_P',\n",
       " 'Age_yr_30_34_P',\n",
       " 'Age_yr_35_P',\n",
       " 'Age_yr_36_P',\n",
       " 'Age_yr_37_P',\n",
       " 'Age_yr_38_P',\n",
       " 'Age_yr_39_P',\n",
       " 'Age_yr_35_39_P',\n",
       " 'Age_yr_40_P',\n",
       " 'Age_yr_41_P',\n",
       " 'Age_yr_42_P',\n",
       " 'Age_yr_43_P',\n",
       " 'Age_yr_44_P',\n",
       " 'Age_yr_40_44_P',\n",
       " 'Age_yr_45_P',\n",
       " 'Age_yr_46_P',\n",
       " 'Age_yr_47_P',\n",
       " 'Age_yr_48_P',\n",
       " 'Age_yr_49_P',\n",
       " 'Age_yr_45_49_P',\n",
       " 'Age_yr_50_P',\n",
       " 'Age_yr_51_P',\n",
       " 'Age_yr_52_P',\n",
       " 'Age_yr_53_P',\n",
       " 'Age_yr_54_P',\n",
       " 'Age_yr_50_54_P']"
      ]
     },
     "execution_count": 18,
     "metadata": {},
     "output_type": "execute_result"
    }
   ],
   "source": [
    "Age_A"
   ]
  },
  {
   "cell_type": "code",
   "execution_count": 9,
   "metadata": {},
   "outputs": [],
   "source": [
    "Age = Age_A + Age_B\n",
    "Population = Age_Pop_A + Age_Pop_B\n"
   ]
  },
  {
   "cell_type": "code",
   "execution_count": 10,
   "metadata": {},
   "outputs": [
    {
     "name": "stdout",
     "output_type": "stream",
     "text": [
      "101 101\n"
     ]
    }
   ],
   "source": [
    "DATA_A= \"2016Census_G04A_AUS.csv\"\n",
    "DATA_B= \"2016Census_G04B_AUS.csv\"\n",
    "\n",
    "with open(DATA_A) as file:\n",
    "    Age_Category_A = file.readline()[1:].split(',')[1:-2]\n",
    "    Age_Numbers_A = file.readline()[1:].split(',')[1:-2]\n",
    "\n",
    "with open(DATA_B) as file:\n",
    "    Age_Category_B = file.readline()[1:].split(',')[1:-3]\n",
    "    Age_Numbers_B = file.readline()[1:].split(',')[1:-3]\n",
    "\n",
    "Age_A = Age_Category_A[slice(2,len(Age_Category_A),3)]\n",
    "Age_Pop_A = Age_Numbers_A[slice(2,len(Age_Numbers_A),3)]\n",
    "\n",
    "Age_B = Age_Category_B[slice(0,len(Age_Category_B),3)]\n",
    "Age_Pop_B = Age_Numbers_B[slice(0,len(Age_Numbers_B),3)]\n",
    "\n",
    "Age = Age_A + Age_B\n",
    "Population = Age_Pop_A + Age_Pop_B\n",
    "\n",
    "print(len(Age),len(Population))\n",
    "\n"
   ]
  },
  {
   "cell_type": "code",
   "execution_count": 11,
   "metadata": {},
   "outputs": [],
   "source": [
    "for i in range(len(Population)):\n",
    "    Population[i] = int(Population[i])\n",
    "    "
   ]
  },
  {
   "cell_type": "code",
   "execution_count": 12,
   "metadata": {},
   "outputs": [
    {
     "data": {
      "text/plain": [
       "int"
      ]
     },
     "execution_count": 12,
     "metadata": {},
     "output_type": "execute_result"
    }
   ],
   "source": [
    "type(Population[0])"
   ]
  },
  {
   "cell_type": "code",
   "execution_count": 13,
   "metadata": {},
   "outputs": [
    {
     "name": "stdout",
     "output_type": "stream",
     "text": [
      "101 101\n"
     ]
    }
   ],
   "source": [
    "print(len(Age),len(Population))"
   ]
  },
  {
   "cell_type": "code",
   "execution_count": 14,
   "metadata": {},
   "outputs": [],
   "source": [
    "for i in range(len(Age)):\n",
    "    if '_P' in Age[i]:\n",
    "        Age[i] = Age[i][:-2]\n",
    "        \n"
   ]
  },
  {
   "cell_type": "code",
   "execution_count": 15,
   "metadata": {},
   "outputs": [
    {
     "data": {
      "text/plain": [
       "(list, list)"
      ]
     },
     "execution_count": 15,
     "metadata": {},
     "output_type": "execute_result"
    }
   ],
   "source": [
    "type(Age),type(Population)"
   ]
  },
  {
   "cell_type": "code",
   "execution_count": 16,
   "metadata": {},
   "outputs": [
    {
     "data": {
      "text/plain": [
       "(str, int)"
      ]
     },
     "execution_count": 16,
     "metadata": {},
     "output_type": "execute_result"
    }
   ],
   "source": [
    "type(Age[0]),type(Population[0])"
   ]
  },
  {
   "cell_type": "code",
   "execution_count": 17,
   "metadata": {},
   "outputs": [],
   "source": [
    "DATA_A= \"2016Census_G04A_AUS.csv\"\n",
    "DATA_B= \"2016Census_G04B_AUS.csv\"\n",
    "\n",
    "with open(DATA_A) as file:\n",
    "    Age_Category_A = file.readline()[1:].split(',')[1:-2]\n",
    "    Age_Numbers_A = file.readline()[1:].split(',')[1:-2]\n",
    "\n",
    "with open(DATA_B) as file:\n",
    "    Age_Category_B = file.readline()[1:].split(',')[1:-3]\n",
    "    Age_Numbers_B = file.readline()[1:].split(',')[1:-3]\n",
    "\n",
    "Age_A = Age_Category_A[slice(2,len(Age_Category_A),3)]\n",
    "Age_Pop_A = Age_Numbers_A[slice(2,len(Age_Numbers_A),3)]\n",
    "\n",
    "Age_B = Age_Category_B[slice(0,len(Age_Category_B),3)]\n",
    "Age_Pop_B = Age_Numbers_B[slice(0,len(Age_Numbers_B),3)]\n",
    "\n",
    "Age = Age_A + Age_B\n",
    "Population = Age_Pop_A + Age_Pop_B\n",
    "\n",
    "for i in range(len(Population)):\n",
    "    Population[i] = int(Population[i])\n",
    "\n",
    "for i in range(len(Age)):\n",
    "    if '_P' in Age[i]:\n",
    "        Age[i] = Age[i][:-2]\n",
    "        "
   ]
  },
  {
   "cell_type": "code",
   "execution_count": 149,
   "metadata": {},
   "outputs": [
    {
     "data": {
      "text/plain": [
       "['Age_yr_0',\n",
       " 'Age_yr_1',\n",
       " 'Age_yr_2',\n",
       " 'Age_yr_3',\n",
       " 'Age_yr_4',\n",
       " 'Age_yr_0_4',\n",
       " 'Age_yr_5',\n",
       " 'Age_yr_6',\n",
       " 'Age_yr_7',\n",
       " 'Age_yr_8',\n",
       " 'Age_yr_9',\n",
       " 'Age_yr_5_9',\n",
       " 'Age_yr_10',\n",
       " 'Age_yr_11',\n",
       " 'Age_yr_12',\n",
       " 'Age_yr_13',\n",
       " 'Age_yr_14',\n",
       " 'Age_yr_10_14',\n",
       " 'Age_yr_15',\n",
       " 'Age_yr_16',\n",
       " 'Age_yr_17',\n",
       " 'Age_yr_18',\n",
       " 'Age_yr_19',\n",
       " 'Age_yr_15_19',\n",
       " 'Age_yr_20',\n",
       " 'Age_yr_21',\n",
       " 'Age_yr_22',\n",
       " 'Age_yr_23',\n",
       " 'Age_yr_24',\n",
       " 'Age_yr_20_24',\n",
       " 'Age_yr_25',\n",
       " 'Age_yr_26',\n",
       " 'Age_yr_27',\n",
       " 'Age_yr_28',\n",
       " 'Age_yr_29',\n",
       " 'Age_yr_25_29',\n",
       " 'Age_yr_30',\n",
       " 'Age_yr_31',\n",
       " 'Age_yr_32',\n",
       " 'Age_yr_33',\n",
       " 'Age_yr_34',\n",
       " 'Age_yr_30_34',\n",
       " 'Age_yr_35',\n",
       " 'Age_yr_36',\n",
       " 'Age_yr_37',\n",
       " 'Age_yr_38',\n",
       " 'Age_yr_39',\n",
       " 'Age_yr_35_39',\n",
       " 'Age_yr_40',\n",
       " 'Age_yr_41',\n",
       " 'Age_yr_42',\n",
       " 'Age_yr_43',\n",
       " 'Age_yr_44',\n",
       " 'Age_yr_40_44',\n",
       " 'Age_yr_45',\n",
       " 'Age_yr_46',\n",
       " 'Age_yr_47',\n",
       " 'Age_yr_48',\n",
       " 'Age_yr_49',\n",
       " 'Age_yr_45_49',\n",
       " 'Age_yr_50',\n",
       " 'Age_yr_51',\n",
       " 'Age_yr_52',\n",
       " 'Age_yr_53',\n",
       " 'Age_yr_54',\n",
       " 'Age_yr_50_54',\n",
       " 'Age_yr_55',\n",
       " 'Age_yr_56',\n",
       " 'Age_yr_57',\n",
       " 'Age_yr_58',\n",
       " 'Age_yr_59',\n",
       " 'Age_yr_55_59',\n",
       " 'Age_yr_60',\n",
       " 'Age_yr_61',\n",
       " 'Age_yr_62',\n",
       " 'Age_yr_63',\n",
       " 'Age_yr_64',\n",
       " 'Age_yr_60_64',\n",
       " 'Age_yr_65',\n",
       " 'Age_yr_66',\n",
       " 'Age_yr_67',\n",
       " 'Age_yr_68',\n",
       " 'Age_yr_69',\n",
       " 'Age_yr_65_69',\n",
       " 'Age_yr_70',\n",
       " 'Age_yr_71',\n",
       " 'Age_yr_72',\n",
       " 'Age_yr_73',\n",
       " 'Age_yr_74',\n",
       " 'Age_yr_70_74',\n",
       " 'Age_yr_75',\n",
       " 'Age_yr_76',\n",
       " 'Age_yr_77',\n",
       " 'Age_yr_78',\n",
       " 'Age_yr_79',\n",
       " 'Age_yr_75_79',\n",
       " 'Age_yr_80_84',\n",
       " 'Age_yr_85_89',\n",
       " 'Age_yr_90_94',\n",
       " 'Age_yr_95_99',\n",
       " 'Age_yr_100_yr_over']"
      ]
     },
     "execution_count": 149,
     "metadata": {},
     "output_type": "execute_result"
    }
   ],
   "source": [
    "Age"
   ]
  },
  {
   "cell_type": "markdown",
   "metadata": {},
   "source": [
    "### Data Augmentation\n",
    "\n",
    "\n",
    "As the ABS have inexplicably left off people over 80, we will have to reconstruct the data as best we can. This is akin to the *Statistical Imputation* discussed in the videos (where we discussed Hot Decking, Mean Substitution, Probabilistic and Regression methods).\n",
    "\n",
    "#### Checked Answer [1 prac mark]\n",
    "\n",
    "As a first approximation we will simply use an averaging approach. We'll make an *assumption* that the number of people in a five year category over 80 is the approximately the same for each year.\n",
    "\n",
    "* Write a function `spread(age_cat, num)` that:\n",
    "  * takes an argument `age_cat` that represents a date range in the format `Age_yr_`*n1_n2* (eg. `Age_yr_80_84`) and an integer `num`\n",
    "  * returns a pair (2-tuple) of lists:\n",
    "    * the first list should contain strings in the form `Age_yr_`*n* where *n* ranges from the first to the last year in the range (eg. `Age_yr_80`, `Age_yr_81`,...)\n",
    "    * the second list contain a list of integers adding up to `num` such that:\n",
    "      * if `num` is divisible by the number of years, then each integer should be the same (ie. the people are evenly spread)\n",
    "      * if there is a remainder from dividing `num` by the number of years, the remainder should be added one at a time to the year groups starting at the lowest age (80 in this example) until there are no more remaining\n",
    "\n",
    "For example, `spread('Age_yr_80_84', 7)` should return:\n",
    "```\n",
    "(['Age_yr_80', 'Age_yr_81', 'Age_yr_82', 'Age_yr_83', 'Age_yr_84'], [2, 2, 1, 1, 1])\n",
    "```\n",
    "\n",
    "Tip: You might find `divmod` useful. Also, recall that `+` and `*` can be used to create lists.\n"
   ]
  },
  {
   "cell_type": "code",
   "execution_count": 350,
   "metadata": {
    "deletable": false,
    "editable": false,
    "nbgrader": {
     "grade": true,
     "grade_id": "spread",
     "locked": true,
     "points": 1,
     "schema_version": 3,
     "solution": false,
     "task": false
    }
   },
   "outputs": [
    {
     "name": "stdout",
     "output_type": "stream",
     "text": [
      "So far, so good. Additional test cases will be applied.\n"
     ]
    }
   ],
   "source": [
    "from nose.tools import assert_equal\n",
    "assert_equal(spread('Age_yr_80_84', 7), (['Age_yr_80', 'Age_yr_81', 'Age_yr_82', 'Age_yr_83', 'Age_yr_84'], [2, 2, 1, 1, 1]))\n",
    "assert_equal(spread('Age_yr_80_89', 7), (['Age_yr_80', 'Age_yr_81', 'Age_yr_82', 'Age_yr_83', 'Age_yr_84', 'Age_yr_85', 'Age_yr_86', 'Age_yr_87', 'Age_yr_88', 'Age_yr_89'], [1, 1, 1, 1, 1, 1, 1, 0, 0, 0]))\n",
    "assert_equal(spread('Age_yr_80_84', 0), (['Age_yr_80', 'Age_yr_81', 'Age_yr_82', 'Age_yr_83', 'Age_yr_84'], [0, 0, 0, 0, 0]))\n",
    "assert_equal(spread('Age_yr_80_84', 460549), (['Age_yr_80', 'Age_yr_81', 'Age_yr_82', 'Age_yr_83', 'Age_yr_84'], [92110, 92110, 92110, 92110, 92109]))\n",
    "print(\"So far, so good. Additional test cases will be applied.\")\n"
   ]
  },
  {
   "cell_type": "markdown",
   "metadata": {},
   "source": [
    "* Using your `spread` function, complete (reconstruct) the lists of age categories, following the pattern of lower age years, as follows:\n",
    "  * for the age ranges from 80-84 to 95-99, insert the categories and ages for each year calculated by spreading the total number over the previous 5 years\n",
    "  * for the age range 100 years and over, assume the ages are spread over the range 100-104 (again a poor assumption) and insert as above"
   ]
  },
  {
   "cell_type": "markdown",
   "metadata": {},
   "source": [
    "* Combine your list of categories and your list of numbers into a list of pairs containing *only entries for each single year*.\n",
    "* In the process also strip out \"`yr_`\" from the category names.\n",
    "\n",
    "Tip: Use `zip` to combine the lists.\n",
    "\n",
    "Your list should now start like this:\n",
    "```\n",
    "[('Age_0', 276227),\n",
    " ('Age_1', 293503),\n",
    " ('Age_2', 295142),\n",
    " ('Age_3', 299725),\n",
    " ('Age_4', 300184),\n",
    " ('Age_5', 298271),\n",
    " ('Age_6', 302901),\n",
    " ('Age_7', 299413),\n",
    " ...\n",
    "```\n",
    "\n",
    "* Check your list has the number of entries that you would expect.\n"
   ]
  },
  {
   "cell_type": "markdown",
   "metadata": {},
   "source": [
    "#### Checked Answer [1 prac mark]\n",
    "\n",
    "* Drawing from your work so far, define a function `cleaned_data()` that:\n",
    "    * reads in the age data from the ABS datapack\n",
    "    * augments the data with the missing age data as described above\n",
    "    * keeps only the necessary data (number of persons for each year)\n",
    "    * shortens the category names to the form `Age_`*n*\n",
    "    * returns the data in a list of pairs in the form (*category_name*, *number*)\n",
    "\n",
    "Check that your output is as you would expect, before applying the sample tests.\n",
    "\n",
    "Note that your function can call functions you have defined previously. As usual, however, check that it works with a fresh kernel."
   ]
  },
  {
   "cell_type": "code",
   "execution_count": 435,
   "metadata": {
    "deletable": false,
    "editable": false,
    "nbgrader": {
     "grade": true,
     "grade_id": "cleaned_data",
     "locked": true,
     "points": 1,
     "schema_version": 3,
     "solution": false,
     "task": false
    }
   },
   "outputs": [
    {
     "name": "stdout",
     "output_type": "stream",
     "text": [
      "So far, so good. Additional test cases will be applied.\n"
     ]
    }
   ],
   "source": [
    "from nose.tools import assert_equal\n",
    "assert_equal(cleaned_data()[0], ('Age_0', 276227))\n",
    "assert_equal(cleaned_data()[-1], ('Age_105', 594))\n",
    "assert_equal(len(cleaned_data()), 106)\n",
    "print(\"So far, so good. Additional test cases will be applied.\")\n"
   ]
  },
  {
   "cell_type": "markdown",
   "metadata": {},
   "source": [
    "### Checked Answer [1 prac mark]\n",
    "\n",
    "* Without using any libraries, write a function `central_measures(clean_data)` that takes a list of (age_year, number) pairs, and returns a triple (mean, median, mode), with mean as the nearest integer, containing the measures of central tendency for age for the list.\n",
    "\n",
    "Test your function thoroughly. Some example tests are included below. Do you agree with the answers given?\n",
    "\n"
   ]
  },
  {
   "cell_type": "code",
   "execution_count": 465,
   "metadata": {
    "deletable": false,
    "editable": false,
    "nbgrader": {
     "grade": true,
     "grade_id": "central_measures",
     "locked": true,
     "points": 1,
     "schema_version": 3,
     "solution": false,
     "task": false
    }
   },
   "outputs": [],
   "source": [
    "from nose.tools import assert_equal\n",
    "assert_equal(central_measures(cleaned_data()[:1]), (0,0,0))\n",
    "assert_equal(central_measures(cleaned_data()[:2]), (1,1,1))\n",
    "assert_equal(central_measures(cleaned_data()[:3]), (1,1,2))\n",
    "assert_equal(central_measures(cleaned_data()[:4]), (2,2,3))\n"
   ]
  },
  {
   "cell_type": "markdown",
   "metadata": {},
   "source": [
    "_Q: What are the measures of central tendency for your data as a whole? How do they compare with the \"typical\" Australians?_\n",
    "\n",
    "Bear in mind that these numbers will depend on the assumptions we made when filling in the missing data!"
   ]
  },
  {
   "cell_type": "markdown",
   "metadata": {},
   "source": [
    "## Visualisation\n",
    "\n",
    "* Use `pyplot` to produce a basic vertical bar chart for your data.\n",
    "\n",
    "How would you improve your chart to better understand the data from the plot?"
   ]
  },
  {
   "cell_type": "markdown",
   "metadata": {},
   "source": [
    "* Improve your plot to make it 'production-ready':\n",
    "  * choose an appropriate width for the plot that allows individual years to be better distinguished\n",
    "  * place the ticks at 5 year intervals along the x-axis\n",
    "  * label the ticks, with the labels written vertically\n",
    "  * label your axes and give the chart a title\n",
    "  * save your chart to a png file\n",
    "\n",
    "The bottom of your plot should look like this:\n",
    "\n",
    "<img src=\"bottom-of-plot.png\" width=1000>"
   ]
  },
  {
   "cell_type": "markdown",
   "metadata": {},
   "source": [
    "Open the png file in CoCalc and check that it looks as you would expect.\n",
    "\n",
    "_Q: What can you learn from the plot? What do you make of the ABS' assertion that the 'typical Australians' are in the 36-38 year range? What age would you choose looking at the distribution?_\n",
    "\n",
    "_Q: Peter Costello introduced the 'baby bonus' around 2002, and made his plea to parents in 2004. The census was taken in 2016. Do you see any (circumstantial) evidence that parents may have heeded his plea? (Bearing in mind, of course, that correlation does not imply causation.))_"
   ]
  },
  {
   "cell_type": "markdown",
   "metadata": {},
   "source": [
    "## Challenge\n",
    "\n",
    "We filled in the missing data using the average for the age range (in a similar spirit to Mean Substitution). This hasn't turned out too badly, but we could do better.\n",
    "\n",
    "* While staying true to the total number in each age range, improve your method for filling in the missing data to make it as realistic as you can. Remember that you would like to try to use a *general* approach that would also work on other sets of data, rather than one that is *specific* to this set of data.\n",
    "\n",
    "(Fitting the data to a trend is a bit like using a Regression approach to Statistical Imputation, although you are not being asked to use regression here. We will come to this later.)\n",
    "\n",
    "Which of the measures of central tendency could be affected by this? Check whether the measures have changed."
   ]
  },
  {
   "cell_type": "markdown",
   "metadata": {},
   "source": [
    "## More Babies\n",
    "\n",
    "*The Census and the 'Typical' Australian?, Part 6* includes an exercise to change the line plot so that it uses the percentage on the y-axis rather than the raw numbers. *Part 7* asks if you see evidence for the Treasurer's baby boom.\n",
    "\n",
    "Go ahead and complete the exercise if you haven't done so already."
   ]
  },
  {
   "cell_type": "markdown",
   "metadata": {},
   "source": [
    "&copy; Cara MacNish"
   ]
  }
 ],
 "metadata": {
  "kernelspec": {
   "display_name": "Python 3",
   "language": "python",
   "name": "python3"
  },
  "language_info": {
   "codemirror_mode": {
    "name": "ipython",
    "version": 3
   },
   "file_extension": ".py",
   "mimetype": "text/x-python",
   "name": "python",
   "nbconvert_exporter": "python",
   "pygments_lexer": "ipython3",
   "version": "3.7.11"
  }
 },
 "nbformat": 4,
 "nbformat_minor": 4
}
