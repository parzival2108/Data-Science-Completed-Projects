{
 "cells": [
  {
   "cell_type": "code",
   "execution_count": 1,
   "metadata": {},
   "outputs": [],
   "source": [
    "import numpy as np\n",
    "import matplotlib.pyplot as plt\n",
    "import pandas as pd"
   ]
  },
  {
   "cell_type": "code",
   "execution_count": 2,
   "metadata": {},
   "outputs": [],
   "source": [
    "DATA = 'choc.txt'"
   ]
  },
  {
   "cell_type": "code",
   "execution_count": 3,
   "metadata": {},
   "outputs": [
    {
     "data": {
      "text/html": [
       "<div>\n",
       "<style scoped>\n",
       "    .dataframe tbody tr th:only-of-type {\n",
       "        vertical-align: middle;\n",
       "    }\n",
       "\n",
       "    .dataframe tbody tr th {\n",
       "        vertical-align: top;\n",
       "    }\n",
       "\n",
       "    .dataframe thead th {\n",
       "        text-align: right;\n",
       "    }\n",
       "</style>\n",
       "<table border=\"1\" class=\"dataframe\">\n",
       "  <thead>\n",
       "    <tr style=\"text-align: right;\">\n",
       "      <th></th>\n",
       "      <th>Country</th>\n",
       "      <th>Consumption</th>\n",
       "    </tr>\n",
       "  </thead>\n",
       "  <tbody>\n",
       "    <tr>\n",
       "      <th>0</th>\n",
       "      <td>Germany</td>\n",
       "      <td>11.1</td>\n",
       "    </tr>\n",
       "    <tr>\n",
       "      <th>1</th>\n",
       "      <td>Switzerland</td>\n",
       "      <td>10.3</td>\n",
       "    </tr>\n",
       "    <tr>\n",
       "      <th>2</th>\n",
       "      <td>Estonia</td>\n",
       "      <td>8.8</td>\n",
       "    </tr>\n",
       "    <tr>\n",
       "      <th>3</th>\n",
       "      <td>UK</td>\n",
       "      <td>8.1</td>\n",
       "    </tr>\n",
       "    <tr>\n",
       "      <th>4</th>\n",
       "      <td>Finland</td>\n",
       "      <td>7.4</td>\n",
       "    </tr>\n",
       "    <tr>\n",
       "      <th>5</th>\n",
       "      <td>Denmark</td>\n",
       "      <td>6.9</td>\n",
       "    </tr>\n",
       "    <tr>\n",
       "      <th>6</th>\n",
       "      <td>Croatia</td>\n",
       "      <td>6.6</td>\n",
       "    </tr>\n",
       "    <tr>\n",
       "      <th>7</th>\n",
       "      <td>Belgium</td>\n",
       "      <td>6.4</td>\n",
       "    </tr>\n",
       "    <tr>\n",
       "      <th>8</th>\n",
       "      <td>Lithuania</td>\n",
       "      <td>4.7</td>\n",
       "    </tr>\n",
       "    <tr>\n",
       "      <th>9</th>\n",
       "      <td>Spain</td>\n",
       "      <td>4.5</td>\n",
       "    </tr>\n",
       "  </tbody>\n",
       "</table>\n",
       "</div>"
      ],
      "text/plain": [
       "       Country  Consumption\n",
       "0      Germany         11.1\n",
       "1  Switzerland         10.3\n",
       "2      Estonia          8.8\n",
       "3           UK          8.1\n",
       "4      Finland          7.4\n",
       "5      Denmark          6.9\n",
       "6      Croatia          6.6\n",
       "7      Belgium          6.4\n",
       "8    Lithuania          4.7\n",
       "9        Spain          4.5"
      ]
     },
     "execution_count": 3,
     "metadata": {},
     "output_type": "execute_result"
    }
   ],
   "source": [
    "with open(DATA) as file:\n",
    "    consumption = pd.read_csv(file,names= [\"Country\", \"Consumption\"])\n",
    "    \n",
    "consumption.head(10)"
   ]
  },
  {
   "cell_type": "code",
   "execution_count": 4,
   "metadata": {},
   "outputs": [
    {
     "data": {
      "text/html": [
       "<div>\n",
       "<style scoped>\n",
       "    .dataframe tbody tr th:only-of-type {\n",
       "        vertical-align: middle;\n",
       "    }\n",
       "\n",
       "    .dataframe tbody tr th {\n",
       "        vertical-align: top;\n",
       "    }\n",
       "\n",
       "    .dataframe thead th {\n",
       "        text-align: right;\n",
       "    }\n",
       "</style>\n",
       "<table border=\"1\" class=\"dataframe\">\n",
       "  <thead>\n",
       "    <tr style=\"text-align: right;\">\n",
       "      <th></th>\n",
       "      <th>Country</th>\n",
       "      <th>Consumption</th>\n",
       "    </tr>\n",
       "  </thead>\n",
       "  <tbody>\n",
       "    <tr>\n",
       "      <th>0</th>\n",
       "      <td>Germany</td>\n",
       "      <td>11.1</td>\n",
       "    </tr>\n",
       "    <tr>\n",
       "      <th>1</th>\n",
       "      <td>Switzerland</td>\n",
       "      <td>10.3</td>\n",
       "    </tr>\n",
       "    <tr>\n",
       "      <th>2</th>\n",
       "      <td>Estonia</td>\n",
       "      <td>8.8</td>\n",
       "    </tr>\n",
       "    <tr>\n",
       "      <th>3</th>\n",
       "      <td>UK</td>\n",
       "      <td>8.1</td>\n",
       "    </tr>\n",
       "    <tr>\n",
       "      <th>4</th>\n",
       "      <td>Finland</td>\n",
       "      <td>7.4</td>\n",
       "    </tr>\n",
       "    <tr>\n",
       "      <th>5</th>\n",
       "      <td>Denmark</td>\n",
       "      <td>6.9</td>\n",
       "    </tr>\n",
       "    <tr>\n",
       "      <th>6</th>\n",
       "      <td>Croatia</td>\n",
       "      <td>6.6</td>\n",
       "    </tr>\n",
       "    <tr>\n",
       "      <th>7</th>\n",
       "      <td>Belgium</td>\n",
       "      <td>6.4</td>\n",
       "    </tr>\n",
       "    <tr>\n",
       "      <th>8</th>\n",
       "      <td>Lithuania</td>\n",
       "      <td>4.7</td>\n",
       "    </tr>\n",
       "    <tr>\n",
       "      <th>9</th>\n",
       "      <td>Spain</td>\n",
       "      <td>4.5</td>\n",
       "    </tr>\n",
       "    <tr>\n",
       "      <th>10</th>\n",
       "      <td>Portugal</td>\n",
       "      <td>3.6</td>\n",
       "    </tr>\n",
       "    <tr>\n",
       "      <th>11</th>\n",
       "      <td>Italy</td>\n",
       "      <td>3.1</td>\n",
       "    </tr>\n",
       "    <tr>\n",
       "      <th>12</th>\n",
       "      <td>Greece</td>\n",
       "      <td>3.0</td>\n",
       "    </tr>\n",
       "    <tr>\n",
       "      <th>13</th>\n",
       "      <td>Hungary</td>\n",
       "      <td>2.9</td>\n",
       "    </tr>\n",
       "  </tbody>\n",
       "</table>\n",
       "</div>"
      ],
      "text/plain": [
       "        Country  Consumption\n",
       "0       Germany         11.1\n",
       "1   Switzerland         10.3\n",
       "2       Estonia          8.8\n",
       "3            UK          8.1\n",
       "4       Finland          7.4\n",
       "5       Denmark          6.9\n",
       "6       Croatia          6.6\n",
       "7       Belgium          6.4\n",
       "8     Lithuania          4.7\n",
       "9         Spain          4.5\n",
       "10     Portugal          3.6\n",
       "11        Italy          3.1\n",
       "12       Greece          3.0\n",
       "13      Hungary          2.9"
      ]
     },
     "execution_count": 4,
     "metadata": {},
     "output_type": "execute_result"
    }
   ],
   "source": [
    "consumption.sort_values(by = ['Consumption'],ascending=False )"
   ]
  },
  {
   "cell_type": "code",
   "execution_count": 5,
   "metadata": {},
   "outputs": [
    {
     "data": {
      "image/png": "[encoded data removed]",
      "text/plain": [
       "<Figure size 432x288 with 1 Axes>"
      ]
     },
     "metadata": {
      "needs_background": "light"
     },
     "output_type": "display_data"
    }
   ],
   "source": [
    "consumption.plot.bar(\"Country\",\"Consumption\")\n",
    "plt.show()"
   ]
  },
  {
   "cell_type": "code",
   "execution_count": 6,
   "metadata": {},
   "outputs": [
    {
     "data": {
      "text/plain": [
       "['\\n',\n",
       " 'Rank\\tEntity\\tNobel\\n',\n",
       " 'laureates[1]\\tPopulation\\n',\n",
       " '(2018)[2]\\tLaureates/\\n',\n",
       " '10 million\\n',\n",
       " '—\\t Faroe Islands\\t1\\t49,489\\t202.065\\n',\n",
       " '—\\t European Union[3]\\t378\\t444,697,104\\t8.005\\n',\n",
       " '—\\t Tibet[4]\\t1\\t3,310,836\\t3.020\\n',\n",
       " '—\\t Hong Kong\\t1\\t7,428,887\\t1.346\\n',\n",
       " '—\\t World[5]\\t919\\t7,632,819,325\\t1.204\\n',\n",
       " '1\\t Saint Lucia\\t2\\t179,667\\t111.317\\n',\n",
       " '2\\t Luxembourg\\t2\\t590,321\\t33.880\\n',\n",
       " '3\\t  Switzerland\\t27\\t8,544,034\\t31.601\\n',\n",
       " '4\\t Sweden\\t30\\t9,982,709\\t30.052\\n',\n",
       " '5\\t Iceland\\t1\\t337,780\\t29.605\\n',\n",
       " '6\\t Austria\\t22\\t8,751,820\\t25.138\\n',\n",
       " '7\\t Denmark\\t13\\t5,754,356\\t24.329\\n',\n",
       " '8\\t Norway\\t13\\t5,353,363\\t24.284\\n',\n",
       " '9\\t Ireland\\t11\\t4,803,748\\t22.898\\n',\n",
       " '10\\t United Kingdom\\t133\\t66,573,504\\t19.429\\n',\n",
       " '11\\t East Timor\\t2\\t1,324,094\\t15.105\\n',\n",
       " '12\\t Israel\\t12\\t8,452,841\\t14.196\\n',\n",
       " '13\\t Hungary\\t13\\t9,688,847\\t13.417\\n',\n",
       " '14\\t Germany\\t109\\t82,293,457\\t13.245\\n',\n",
       " '15\\t United States\\t383\\t326,766,748\\t11.721\\n',\n",
       " '16\\t Netherlands\\t21\\t17,084,459\\t11.707\\n',\n",
       " '17\\t France\\t70\\t65,233,271\\t10.664\\n',\n",
       " '18\\t Finland\\t5\\t5,542,517\\t9.021\\n',\n",
       " '19\\t Belgium\\t10\\t11,498,519\\t8.697\\n',\n",
       " '20\\t Cyprus\\t1\\t1,189,085\\t8.410\\n',\n",
       " '21\\t Trinidad and Tobago\\t1\\t1,372,598\\t7.285\\n',\n",
       " '22\\t Canada\\t25\\t36,953,765\\t6.765\\n',\n",
       " '23\\t New Zealand\\t3\\t4,749,598\\t6.316\\n',\n",
       " '24\\t Bosnia and Herzegovina\\t2\\t3,503,554\\t5.708\\n',\n",
       " '25\\t Latvia\\t1\\t1,929,938\\t5.182\\n',\n",
       " '26\\t Poland\\t19\\t38,104,832\\t4.986\\n',\n",
       " '27\\t Australia\\t12\\t24,772,247\\t4.844\\n',\n",
       " '28\\t Slovenia\\t1\\t2,081,260\\t4.805\\n',\n",
       " '29\\t North Macedonia\\t1\\t2,085,051\\t4.796\\n',\n",
       " '30\\t Czech Republic\\t5\\t10,625,250\\t4.706\\n',\n",
       " '31\\t Liberia\\t2\\t4,853,516\\t4.121\\n',\n",
       " '32\\t Lithuania\\t1\\t2,876,475\\t3.476\\n',\n",
       " '33\\t Italy\\t20\\t59,290,969\\t3.373\\n',\n",
       " '34\\t Croatia\\t1\\t4,164,783\\t2.401\\n',\n",
       " '35\\t Japan\\t28\\t127,185,332\\t2.202\\n',\n",
       " '36\\t Belarus\\t2\\t9,452,113\\t2.116\\n',\n",
       " '37\\t Romania\\t4\\t19,580,634\\t2.043\\n',\n",
       " '38\\t Costa Rica\\t1\\t4,953,199\\t2.019\\n',\n",
       " '39\\t Palestine\\t1\\t5,052,776\\t1.979\\n',\n",
       " '40\\t Portugal\\t2\\t10,291,196\\t1.943\\n',\n",
       " '41\\t Greece\\t2\\t11,142,161\\t1.795\\n',\n",
       " '42\\t South Africa\\t10\\t57,398,421\\t1.742\\n',\n",
       " '43\\t Spain\\t8\\t46,397,452\\t1.724\\n',\n",
       " '44\\t Russia\\t23\\t143,964,709\\t1.598\\n',\n",
       " '45\\t Bulgaria\\t1\\t7,036,848\\t1.421\\n',\n",
       " '46\\t Guatemala\\t2\\t17,245,346\\t1.160\\n',\n",
       " '47\\t Argentina\\t5\\t44,688,864\\t1.119\\n',\n",
       " '48\\t Chile\\t2\\t18,197,209\\t1.099\\n',\n",
       " '49\\t Azerbaijan\\t1\\t9,923,914\\t1.008\\n',\n",
       " '50\\t Algeria\\t2\\t42,008,054\\t0.476\\n',\n",
       " '51\\t Ukraine\\t2\\t44,009,214\\t0.454\\n',\n",
       " '52\\t\" Taiwan\"\\t1\\t23,694,089\\t0.422\\n',\n",
       " '53\\t Colombia\\t2\\t49,464,683\\t0.404\\n',\n",
       " '54\\t Egypt\\t4\\t99,375,741\\t0.403\\n',\n",
       " '55\\t South Korea\\t2\\t51,164,435\\t0.391\\n',\n",
       " '56\\t Yemen\\t1\\t28,915,284\\t0.346\\n',\n",
       " '57\\t Ghana\\t1\\t29,463,643\\t0.339\\n',\n",
       " '58\\t Venezuela\\t1\\t32,381,221\\t0.309\\n',\n",
       " '59\\t Peru\\t1\\t32,551,815\\t0.307\\n',\n",
       " '60\\t Morocco\\t1\\t36,191,805\\t0.276\\n',\n",
       " '61\\t Iraq\\t1\\t39,339,753\\t0.254\\n',\n",
       " '62\\t Turkey\\t2\\t81,916,871\\t0.244\\n',\n",
       " '63\\t Iran\\t2\\t82,011,735\\t0.244\\n',\n",
       " '64\\t Mexico\\t3\\t130,759,074\\t0.229\\n',\n",
       " '65\\t Kenya\\t1\\t50,950,879\\t0.196\\n',\n",
       " '66\\t Myanmar\\t1\\t53,855,735\\t0.186\\n',\n",
       " '67\\t DR Congo\\t1\\t84,004,989\\t0.119\\n',\n",
       " '68\\t Vietnam\\t1\\t96,491,146\\t0.104\\n',\n",
       " '69\\t Pakistan\\t2\\t200,813,818\\t0.100\\n',\n",
       " '70\\t Ethiopia\\t1\\t109,224,410[6]\\t0.092\\n',\n",
       " '71\\t India\\t11\\t1,354,051,854\\t0.081\\n',\n",
       " '72\\t China\\t9\\t1,415,045,928\\t0.064\\n',\n",
       " '73\\t Bangladesh\\t1\\t166,368,149\\t0.060\\n',\n",
       " '74\\t Nigeria\\t1\\t195,875,237\\t0.051']"
      ]
     },
     "execution_count": 6,
     "metadata": {},
     "output_type": "execute_result"
    }
   ],
   "source": [
    "DATAs = 'nobels.txt'\n",
    "with open(DATAs) as file:\n",
    "    prizes_list = file.readlines()\n",
    "prizes_list"
   ]
  },
  {
   "cell_type": "code",
   "execution_count": null,
   "metadata": {},
   "outputs": [],
   "source": []
  },
  {
   "cell_type": "markdown",
   "metadata": {},
   "source": [
    "# unpacking operator or star operator (*)"
   ]
  },
  {
   "cell_type": "code",
   "execution_count": 7,
   "metadata": {},
   "outputs": [
    {
     "name": "stdout",
     "output_type": "stream",
     "text": [
      "\n",
      " Rank\tEntity\tNobel\n",
      " laureates[1]\tPopulation\n",
      " (2018)[2]\tLaureates/\n",
      " 10 million\n",
      " —\t Faroe Islands\t1\t49,489\t202.065\n",
      " —\t European Union[3]\t378\t444,697,104\t8.005\n",
      " —\t Tibet[4]\t1\t3,310,836\t3.020\n",
      " —\t Hong Kong\t1\t7,428,887\t1.346\n",
      " —\t World[5]\t919\t7,632,819,325\t1.204\n",
      " 1\t Saint Lucia\t2\t179,667\t111.317\n",
      " 2\t Luxembourg\t2\t590,321\t33.880\n",
      " 3\t  Switzerland\t27\t8,544,034\t31.601\n",
      " 4\t Sweden\t30\t9,982,709\t30.052\n",
      " 5\t Iceland\t1\t337,780\t29.605\n",
      " 6\t Austria\t22\t8,751,820\t25.138\n",
      " 7\t Denmark\t13\t5,754,356\t24.329\n",
      " 8\t Norway\t13\t5,353,363\t24.284\n",
      " 9\t Ireland\t11\t4,803,748\t22.898\n",
      " 10\t United Kingdom\t133\t66,573,504\t19.429\n",
      " 11\t East Timor\t2\t1,324,094\t15.105\n",
      " 12\t Israel\t12\t8,452,841\t14.196\n",
      " 13\t Hungary\t13\t9,688,847\t13.417\n",
      " 14\t Germany\t109\t82,293,457\t13.245\n",
      " 15\t United States\t383\t326,766,748\t11.721\n",
      " 16\t Netherlands\t21\t17,084,459\t11.707\n",
      " 17\t France\t70\t65,233,271\t10.664\n",
      " 18\t Finland\t5\t5,542,517\t9.021\n",
      " 19\t Belgium\t10\t11,498,519\t8.697\n",
      " 20\t Cyprus\t1\t1,189,085\t8.410\n",
      " 21\t Trinidad and Tobago\t1\t1,372,598\t7.285\n",
      " 22\t Canada\t25\t36,953,765\t6.765\n",
      " 23\t New Zealand\t3\t4,749,598\t6.316\n",
      " 24\t Bosnia and Herzegovina\t2\t3,503,554\t5.708\n",
      " 25\t Latvia\t1\t1,929,938\t5.182\n",
      " 26\t Poland\t19\t38,104,832\t4.986\n",
      " 27\t Australia\t12\t24,772,247\t4.844\n",
      " 28\t Slovenia\t1\t2,081,260\t4.805\n",
      " 29\t North Macedonia\t1\t2,085,051\t4.796\n",
      " 30\t Czech Republic\t5\t10,625,250\t4.706\n",
      " 31\t Liberia\t2\t4,853,516\t4.121\n",
      " 32\t Lithuania\t1\t2,876,475\t3.476\n",
      " 33\t Italy\t20\t59,290,969\t3.373\n",
      " 34\t Croatia\t1\t4,164,783\t2.401\n",
      " 35\t Japan\t28\t127,185,332\t2.202\n",
      " 36\t Belarus\t2\t9,452,113\t2.116\n",
      " 37\t Romania\t4\t19,580,634\t2.043\n",
      " 38\t Costa Rica\t1\t4,953,199\t2.019\n",
      " 39\t Palestine\t1\t5,052,776\t1.979\n",
      " 40\t Portugal\t2\t10,291,196\t1.943\n",
      " 41\t Greece\t2\t11,142,161\t1.795\n",
      " 42\t South Africa\t10\t57,398,421\t1.742\n",
      " 43\t Spain\t8\t46,397,452\t1.724\n",
      " 44\t Russia\t23\t143,964,709\t1.598\n",
      " 45\t Bulgaria\t1\t7,036,848\t1.421\n",
      " 46\t Guatemala\t2\t17,245,346\t1.160\n",
      " 47\t Argentina\t5\t44,688,864\t1.119\n",
      " 48\t Chile\t2\t18,197,209\t1.099\n",
      " 49\t Azerbaijan\t1\t9,923,914\t1.008\n",
      " 50\t Algeria\t2\t42,008,054\t0.476\n",
      " 51\t Ukraine\t2\t44,009,214\t0.454\n",
      " 52\t\" Taiwan\"\t1\t23,694,089\t0.422\n",
      " 53\t Colombia\t2\t49,464,683\t0.404\n",
      " 54\t Egypt\t4\t99,375,741\t0.403\n",
      " 55\t South Korea\t2\t51,164,435\t0.391\n",
      " 56\t Yemen\t1\t28,915,284\t0.346\n",
      " 57\t Ghana\t1\t29,463,643\t0.339\n",
      " 58\t Venezuela\t1\t32,381,221\t0.309\n",
      " 59\t Peru\t1\t32,551,815\t0.307\n",
      " 60\t Morocco\t1\t36,191,805\t0.276\n",
      " 61\t Iraq\t1\t39,339,753\t0.254\n",
      " 62\t Turkey\t2\t81,916,871\t0.244\n",
      " 63\t Iran\t2\t82,011,735\t0.244\n",
      " 64\t Mexico\t3\t130,759,074\t0.229\n",
      " 65\t Kenya\t1\t50,950,879\t0.196\n",
      " 66\t Myanmar\t1\t53,855,735\t0.186\n",
      " 67\t DR Congo\t1\t84,004,989\t0.119\n",
      " 68\t Vietnam\t1\t96,491,146\t0.104\n",
      " 69\t Pakistan\t2\t200,813,818\t0.100\n",
      " 70\t Ethiopia\t1\t109,224,410[6]\t0.092\n",
      " 71\t India\t11\t1,354,051,854\t0.081\n",
      " 72\t China\t9\t1,415,045,928\t0.064\n",
      " 73\t Bangladesh\t1\t166,368,149\t0.060\n",
      " 74\t Nigeria\t1\t195,875,237\t0.051\n"
     ]
    }
   ],
   "source": [
    "print(*prizes_list)"
   ]
  },
  {
   "cell_type": "code",
   "execution_count": 8,
   "metadata": {},
   "outputs": [
    {
     "name": "stdout",
     "output_type": "stream",
     "text": [
      "\n",
      "\n",
      "Rank\tEntity\tNobel\n",
      "\n",
      "laureates[1]\tPopulation\n",
      "\n",
      "(2018)[2]\tLaureates/\n",
      "\n",
      "10 million\n",
      "\n"
     ]
    }
   ],
   "source": [
    "for i in prizes_list[:5]:\n",
    "    print(i)"
   ]
  },
  {
   "cell_type": "code",
   "execution_count": 9,
   "metadata": {},
   "outputs": [
    {
     "data": {
      "text/plain": [
       "['',\n",
       " 'Rank\\tEntity\\tNobel',\n",
       " 'laureates[1]\\tPopulation',\n",
       " '(2018)[2]\\tLaureates/']"
      ]
     },
     "execution_count": 9,
     "metadata": {},
     "output_type": "execute_result"
    }
   ],
   "source": [
    "for i in range(0,4):\n",
    "    prizes_list[i] = prizes_list[i].rstrip()\n",
    "prizes_list[0:4]"
   ]
  },
  {
   "cell_type": "code",
   "execution_count": 10,
   "metadata": {},
   "outputs": [
    {
     "name": "stdout",
     "output_type": "stream",
     "text": [
      " Rank\tEntity\tNobel laureates[1]\tPopulation (2018)[2]\tLaureates/ 10 million\n",
      " —\t Faroe Islands\t1\t49,489\t202.065\n",
      " —\t European Union[3]\t378\t444,697,104\t8.005\n",
      " —\t Tibet[4]\t1\t3,310,836\t3.020\n",
      " —\t Hong Kong\t1\t7,428,887\t1.346\n",
      " —\t World[5]\t919\t7,632,819,325\t1.204\n",
      " 1\t Saint Lucia\t2\t179,667\t111.317\n",
      " 2\t Luxembourg\t2\t590,321\t33.880\n",
      " 3\t  Switzerland\t27\t8,544,034\t31.601\n",
      " 4\t Sweden\t30\t9,982,709\t30.052\n",
      " 5\t Iceland\t1\t337,780\t29.605\n",
      " 6\t Austria\t22\t8,751,820\t25.138\n",
      " 7\t Denmark\t13\t5,754,356\t24.329\n",
      " 8\t Norway\t13\t5,353,363\t24.284\n",
      " 9\t Ireland\t11\t4,803,748\t22.898\n",
      " 10\t United Kingdom\t133\t66,573,504\t19.429\n",
      " 11\t East Timor\t2\t1,324,094\t15.105\n",
      " 12\t Israel\t12\t8,452,841\t14.196\n",
      " 13\t Hungary\t13\t9,688,847\t13.417\n",
      " 14\t Germany\t109\t82,293,457\t13.245\n",
      " 15\t United States\t383\t326,766,748\t11.721\n",
      " 16\t Netherlands\t21\t17,084,459\t11.707\n",
      " 17\t France\t70\t65,233,271\t10.664\n",
      " 18\t Finland\t5\t5,542,517\t9.021\n",
      " 19\t Belgium\t10\t11,498,519\t8.697\n",
      " 20\t Cyprus\t1\t1,189,085\t8.410\n",
      " 21\t Trinidad and Tobago\t1\t1,372,598\t7.285\n",
      " 22\t Canada\t25\t36,953,765\t6.765\n",
      " 23\t New Zealand\t3\t4,749,598\t6.316\n",
      " 24\t Bosnia and Herzegovina\t2\t3,503,554\t5.708\n",
      " 25\t Latvia\t1\t1,929,938\t5.182\n",
      " 26\t Poland\t19\t38,104,832\t4.986\n",
      " 27\t Australia\t12\t24,772,247\t4.844\n",
      " 28\t Slovenia\t1\t2,081,260\t4.805\n",
      " 29\t North Macedonia\t1\t2,085,051\t4.796\n",
      " 30\t Czech Republic\t5\t10,625,250\t4.706\n",
      " 31\t Liberia\t2\t4,853,516\t4.121\n",
      " 32\t Lithuania\t1\t2,876,475\t3.476\n",
      " 33\t Italy\t20\t59,290,969\t3.373\n",
      " 34\t Croatia\t1\t4,164,783\t2.401\n",
      " 35\t Japan\t28\t127,185,332\t2.202\n",
      " 36\t Belarus\t2\t9,452,113\t2.116\n",
      " 37\t Romania\t4\t19,580,634\t2.043\n",
      " 38\t Costa Rica\t1\t4,953,199\t2.019\n",
      " 39\t Palestine\t1\t5,052,776\t1.979\n",
      " 40\t Portugal\t2\t10,291,196\t1.943\n",
      " 41\t Greece\t2\t11,142,161\t1.795\n",
      " 42\t South Africa\t10\t57,398,421\t1.742\n",
      " 43\t Spain\t8\t46,397,452\t1.724\n",
      " 44\t Russia\t23\t143,964,709\t1.598\n",
      " 45\t Bulgaria\t1\t7,036,848\t1.421\n",
      " 46\t Guatemala\t2\t17,245,346\t1.160\n",
      " 47\t Argentina\t5\t44,688,864\t1.119\n",
      " 48\t Chile\t2\t18,197,209\t1.099\n",
      " 49\t Azerbaijan\t1\t9,923,914\t1.008\n",
      " 50\t Algeria\t2\t42,008,054\t0.476\n",
      " 51\t Ukraine\t2\t44,009,214\t0.454\n",
      " 52\t\" Taiwan\"\t1\t23,694,089\t0.422\n",
      " 53\t Colombia\t2\t49,464,683\t0.404\n",
      " 54\t Egypt\t4\t99,375,741\t0.403\n",
      " 55\t South Korea\t2\t51,164,435\t0.391\n",
      " 56\t Yemen\t1\t28,915,284\t0.346\n",
      " 57\t Ghana\t1\t29,463,643\t0.339\n",
      " 58\t Venezuela\t1\t32,381,221\t0.309\n",
      " 59\t Peru\t1\t32,551,815\t0.307\n",
      " 60\t Morocco\t1\t36,191,805\t0.276\n",
      " 61\t Iraq\t1\t39,339,753\t0.254\n",
      " 62\t Turkey\t2\t81,916,871\t0.244\n",
      " 63\t Iran\t2\t82,011,735\t0.244\n",
      " 64\t Mexico\t3\t130,759,074\t0.229\n",
      " 65\t Kenya\t1\t50,950,879\t0.196\n",
      " 66\t Myanmar\t1\t53,855,735\t0.186\n",
      " 67\t DR Congo\t1\t84,004,989\t0.119\n",
      " 68\t Vietnam\t1\t96,491,146\t0.104\n",
      " 69\t Pakistan\t2\t200,813,818\t0.100\n",
      " 70\t Ethiopia\t1\t109,224,410[6]\t0.092\n",
      " 71\t India\t11\t1,354,051,854\t0.081\n",
      " 72\t China\t9\t1,415,045,928\t0.064\n",
      " 73\t Bangladesh\t1\t166,368,149\t0.060\n",
      " 74\t Nigeria\t1\t195,875,237\t0.051\n"
     ]
    }
   ],
   "source": [
    "prizes2 = [' '.join(prizes_list[:4])] + prizes_list[4:]\n",
    "print(*prizes2)"
   ]
  },
  {
   "cell_type": "code",
   "execution_count": null,
   "metadata": {},
   "outputs": [],
   "source": []
  },
  {
   "cell_type": "markdown",
   "metadata": {},
   "source": [
    "# Regular Expressions"
   ]
  },
  {
   "cell_type": "code",
   "execution_count": 11,
   "metadata": {},
   "outputs": [],
   "source": [
    "import re"
   ]
  },
  {
   "cell_type": "code",
   "execution_count": 12,
   "metadata": {},
   "outputs": [],
   "source": [
    "prizes3 = []\n",
    "\n",
    "for line in prizes2:\n",
    "    prizes3.append(re.sub('\\[\\d+\\]','',line))"
   ]
  },
  {
   "cell_type": "code",
   "execution_count": 13,
   "metadata": {},
   "outputs": [
    {
     "name": "stdout",
     "output_type": "stream",
     "text": [
      " Rank\tEntity\tNobel laureates\tPopulation (2018)\tLaureates/ 10 million\n",
      " —\t Faroe Islands\t1\t49,489\t202.065\n",
      " —\t European Union\t378\t444,697,104\t8.005\n",
      " —\t Tibet\t1\t3,310,836\t3.020\n",
      " —\t Hong Kong\t1\t7,428,887\t1.346\n",
      " —\t World\t919\t7,632,819,325\t1.204\n",
      " 1\t Saint Lucia\t2\t179,667\t111.317\n",
      " 2\t Luxembourg\t2\t590,321\t33.880\n",
      " 3\t  Switzerland\t27\t8,544,034\t31.601\n",
      " 4\t Sweden\t30\t9,982,709\t30.052\n",
      " 5\t Iceland\t1\t337,780\t29.605\n",
      " 6\t Austria\t22\t8,751,820\t25.138\n",
      " 7\t Denmark\t13\t5,754,356\t24.329\n",
      " 8\t Norway\t13\t5,353,363\t24.284\n",
      " 9\t Ireland\t11\t4,803,748\t22.898\n",
      " 10\t United Kingdom\t133\t66,573,504\t19.429\n",
      " 11\t East Timor\t2\t1,324,094\t15.105\n",
      " 12\t Israel\t12\t8,452,841\t14.196\n",
      " 13\t Hungary\t13\t9,688,847\t13.417\n",
      " 14\t Germany\t109\t82,293,457\t13.245\n",
      " 15\t United States\t383\t326,766,748\t11.721\n",
      " 16\t Netherlands\t21\t17,084,459\t11.707\n",
      " 17\t France\t70\t65,233,271\t10.664\n",
      " 18\t Finland\t5\t5,542,517\t9.021\n",
      " 19\t Belgium\t10\t11,498,519\t8.697\n",
      " 20\t Cyprus\t1\t1,189,085\t8.410\n",
      " 21\t Trinidad and Tobago\t1\t1,372,598\t7.285\n",
      " 22\t Canada\t25\t36,953,765\t6.765\n",
      " 23\t New Zealand\t3\t4,749,598\t6.316\n",
      " 24\t Bosnia and Herzegovina\t2\t3,503,554\t5.708\n",
      " 25\t Latvia\t1\t1,929,938\t5.182\n",
      " 26\t Poland\t19\t38,104,832\t4.986\n",
      " 27\t Australia\t12\t24,772,247\t4.844\n",
      " 28\t Slovenia\t1\t2,081,260\t4.805\n",
      " 29\t North Macedonia\t1\t2,085,051\t4.796\n",
      " 30\t Czech Republic\t5\t10,625,250\t4.706\n",
      " 31\t Liberia\t2\t4,853,516\t4.121\n",
      " 32\t Lithuania\t1\t2,876,475\t3.476\n",
      " 33\t Italy\t20\t59,290,969\t3.373\n",
      " 34\t Croatia\t1\t4,164,783\t2.401\n",
      " 35\t Japan\t28\t127,185,332\t2.202\n",
      " 36\t Belarus\t2\t9,452,113\t2.116\n",
      " 37\t Romania\t4\t19,580,634\t2.043\n",
      " 38\t Costa Rica\t1\t4,953,199\t2.019\n",
      " 39\t Palestine\t1\t5,052,776\t1.979\n",
      " 40\t Portugal\t2\t10,291,196\t1.943\n",
      " 41\t Greece\t2\t11,142,161\t1.795\n",
      " 42\t South Africa\t10\t57,398,421\t1.742\n",
      " 43\t Spain\t8\t46,397,452\t1.724\n",
      " 44\t Russia\t23\t143,964,709\t1.598\n",
      " 45\t Bulgaria\t1\t7,036,848\t1.421\n",
      " 46\t Guatemala\t2\t17,245,346\t1.160\n",
      " 47\t Argentina\t5\t44,688,864\t1.119\n",
      " 48\t Chile\t2\t18,197,209\t1.099\n",
      " 49\t Azerbaijan\t1\t9,923,914\t1.008\n",
      " 50\t Algeria\t2\t42,008,054\t0.476\n",
      " 51\t Ukraine\t2\t44,009,214\t0.454\n",
      " 52\t\" Taiwan\"\t1\t23,694,089\t0.422\n",
      " 53\t Colombia\t2\t49,464,683\t0.404\n",
      " 54\t Egypt\t4\t99,375,741\t0.403\n",
      " 55\t South Korea\t2\t51,164,435\t0.391\n",
      " 56\t Yemen\t1\t28,915,284\t0.346\n",
      " 57\t Ghana\t1\t29,463,643\t0.339\n",
      " 58\t Venezuela\t1\t32,381,221\t0.309\n",
      " 59\t Peru\t1\t32,551,815\t0.307\n",
      " 60\t Morocco\t1\t36,191,805\t0.276\n",
      " 61\t Iraq\t1\t39,339,753\t0.254\n",
      " 62\t Turkey\t2\t81,916,871\t0.244\n",
      " 63\t Iran\t2\t82,011,735\t0.244\n",
      " 64\t Mexico\t3\t130,759,074\t0.229\n",
      " 65\t Kenya\t1\t50,950,879\t0.196\n",
      " 66\t Myanmar\t1\t53,855,735\t0.186\n",
      " 67\t DR Congo\t1\t84,004,989\t0.119\n",
      " 68\t Vietnam\t1\t96,491,146\t0.104\n",
      " 69\t Pakistan\t2\t200,813,818\t0.100\n",
      " 70\t Ethiopia\t1\t109,224,410\t0.092\n",
      " 71\t India\t11\t1,354,051,854\t0.081\n",
      " 72\t China\t9\t1,415,045,928\t0.064\n",
      " 73\t Bangladesh\t1\t166,368,149\t0.060\n",
      " 74\t Nigeria\t1\t195,875,237\t0.051\n"
     ]
    }
   ],
   "source": [
    "print(*prizes3)"
   ]
  },
  {
   "cell_type": "code",
   "execution_count": 14,
   "metadata": {},
   "outputs": [],
   "source": [
    "prizes4 = []\n",
    "\n",
    "for line in prizes3:\n",
    "    if not ('World' in line or 'Europe' in line):\n",
    "        prizes4.append(line)"
   ]
  },
  {
   "cell_type": "code",
   "execution_count": 15,
   "metadata": {},
   "outputs": [
    {
     "name": "stdout",
     "output_type": "stream",
     "text": [
      " Rank\tEntity\tNobel laureates\tPopulation (2018)\tLaureates/ 10 million\n",
      " —\t Faroe Islands\t1\t49,489\t202.065\n",
      " —\t Tibet\t1\t3,310,836\t3.020\n",
      " —\t Hong Kong\t1\t7,428,887\t1.346\n",
      " 1\t Saint Lucia\t2\t179,667\t111.317\n",
      " 2\t Luxembourg\t2\t590,321\t33.880\n",
      " 3\t  Switzerland\t27\t8,544,034\t31.601\n",
      " 4\t Sweden\t30\t9,982,709\t30.052\n",
      " 5\t Iceland\t1\t337,780\t29.605\n",
      " 6\t Austria\t22\t8,751,820\t25.138\n",
      " 7\t Denmark\t13\t5,754,356\t24.329\n",
      " 8\t Norway\t13\t5,353,363\t24.284\n",
      " 9\t Ireland\t11\t4,803,748\t22.898\n",
      " 10\t United Kingdom\t133\t66,573,504\t19.429\n",
      " 11\t East Timor\t2\t1,324,094\t15.105\n",
      " 12\t Israel\t12\t8,452,841\t14.196\n",
      " 13\t Hungary\t13\t9,688,847\t13.417\n",
      " 14\t Germany\t109\t82,293,457\t13.245\n",
      " 15\t United States\t383\t326,766,748\t11.721\n",
      " 16\t Netherlands\t21\t17,084,459\t11.707\n",
      " 17\t France\t70\t65,233,271\t10.664\n",
      " 18\t Finland\t5\t5,542,517\t9.021\n",
      " 19\t Belgium\t10\t11,498,519\t8.697\n",
      " 20\t Cyprus\t1\t1,189,085\t8.410\n",
      " 21\t Trinidad and Tobago\t1\t1,372,598\t7.285\n",
      " 22\t Canada\t25\t36,953,765\t6.765\n",
      " 23\t New Zealand\t3\t4,749,598\t6.316\n",
      " 24\t Bosnia and Herzegovina\t2\t3,503,554\t5.708\n",
      " 25\t Latvia\t1\t1,929,938\t5.182\n",
      " 26\t Poland\t19\t38,104,832\t4.986\n",
      " 27\t Australia\t12\t24,772,247\t4.844\n",
      " 28\t Slovenia\t1\t2,081,260\t4.805\n",
      " 29\t North Macedonia\t1\t2,085,051\t4.796\n",
      " 30\t Czech Republic\t5\t10,625,250\t4.706\n",
      " 31\t Liberia\t2\t4,853,516\t4.121\n",
      " 32\t Lithuania\t1\t2,876,475\t3.476\n",
      " 33\t Italy\t20\t59,290,969\t3.373\n",
      " 34\t Croatia\t1\t4,164,783\t2.401\n",
      " 35\t Japan\t28\t127,185,332\t2.202\n",
      " 36\t Belarus\t2\t9,452,113\t2.116\n",
      " 37\t Romania\t4\t19,580,634\t2.043\n",
      " 38\t Costa Rica\t1\t4,953,199\t2.019\n",
      " 39\t Palestine\t1\t5,052,776\t1.979\n",
      " 40\t Portugal\t2\t10,291,196\t1.943\n",
      " 41\t Greece\t2\t11,142,161\t1.795\n",
      " 42\t South Africa\t10\t57,398,421\t1.742\n",
      " 43\t Spain\t8\t46,397,452\t1.724\n",
      " 44\t Russia\t23\t143,964,709\t1.598\n",
      " 45\t Bulgaria\t1\t7,036,848\t1.421\n",
      " 46\t Guatemala\t2\t17,245,346\t1.160\n",
      " 47\t Argentina\t5\t44,688,864\t1.119\n",
      " 48\t Chile\t2\t18,197,209\t1.099\n",
      " 49\t Azerbaijan\t1\t9,923,914\t1.008\n",
      " 50\t Algeria\t2\t42,008,054\t0.476\n",
      " 51\t Ukraine\t2\t44,009,214\t0.454\n",
      " 52\t\" Taiwan\"\t1\t23,694,089\t0.422\n",
      " 53\t Colombia\t2\t49,464,683\t0.404\n",
      " 54\t Egypt\t4\t99,375,741\t0.403\n",
      " 55\t South Korea\t2\t51,164,435\t0.391\n",
      " 56\t Yemen\t1\t28,915,284\t0.346\n",
      " 57\t Ghana\t1\t29,463,643\t0.339\n",
      " 58\t Venezuela\t1\t32,381,221\t0.309\n",
      " 59\t Peru\t1\t32,551,815\t0.307\n",
      " 60\t Morocco\t1\t36,191,805\t0.276\n",
      " 61\t Iraq\t1\t39,339,753\t0.254\n",
      " 62\t Turkey\t2\t81,916,871\t0.244\n",
      " 63\t Iran\t2\t82,011,735\t0.244\n",
      " 64\t Mexico\t3\t130,759,074\t0.229\n",
      " 65\t Kenya\t1\t50,950,879\t0.196\n",
      " 66\t Myanmar\t1\t53,855,735\t0.186\n",
      " 67\t DR Congo\t1\t84,004,989\t0.119\n",
      " 68\t Vietnam\t1\t96,491,146\t0.104\n",
      " 69\t Pakistan\t2\t200,813,818\t0.100\n",
      " 70\t Ethiopia\t1\t109,224,410\t0.092\n",
      " 71\t India\t11\t1,354,051,854\t0.081\n",
      " 72\t China\t9\t1,415,045,928\t0.064\n",
      " 73\t Bangladesh\t1\t166,368,149\t0.060\n",
      " 74\t Nigeria\t1\t195,875,237\t0.051\n"
     ]
    }
   ],
   "source": [
    "print(*prizes4)"
   ]
  },
  {
   "cell_type": "code",
   "execution_count": null,
   "metadata": {},
   "outputs": [],
   "source": []
  },
  {
   "cell_type": "code",
   "execution_count": 16,
   "metadata": {},
   "outputs": [],
   "source": [
    "prizes5 = []\n",
    "\n",
    "for line in prizes4:\n",
    "    if not re.search(\"(World|Europe)\",line):\n",
    "        prizes5.append(line)"
   ]
  },
  {
   "cell_type": "code",
   "execution_count": 17,
   "metadata": {},
   "outputs": [
    {
     "name": "stdout",
     "output_type": "stream",
     "text": [
      " Rank\tEntity\tNobel laureates\tPopulation (2018)\tLaureates/ 10 million\n",
      " —\t Faroe Islands\t1\t49,489\t202.065\n",
      " —\t Tibet\t1\t3,310,836\t3.020\n",
      " —\t Hong Kong\t1\t7,428,887\t1.346\n",
      " 1\t Saint Lucia\t2\t179,667\t111.317\n",
      " 2\t Luxembourg\t2\t590,321\t33.880\n",
      " 3\t  Switzerland\t27\t8,544,034\t31.601\n",
      " 4\t Sweden\t30\t9,982,709\t30.052\n",
      " 5\t Iceland\t1\t337,780\t29.605\n",
      " 6\t Austria\t22\t8,751,820\t25.138\n",
      " 7\t Denmark\t13\t5,754,356\t24.329\n",
      " 8\t Norway\t13\t5,353,363\t24.284\n",
      " 9\t Ireland\t11\t4,803,748\t22.898\n",
      " 10\t United Kingdom\t133\t66,573,504\t19.429\n",
      " 11\t East Timor\t2\t1,324,094\t15.105\n",
      " 12\t Israel\t12\t8,452,841\t14.196\n",
      " 13\t Hungary\t13\t9,688,847\t13.417\n",
      " 14\t Germany\t109\t82,293,457\t13.245\n",
      " 15\t United States\t383\t326,766,748\t11.721\n",
      " 16\t Netherlands\t21\t17,084,459\t11.707\n",
      " 17\t France\t70\t65,233,271\t10.664\n",
      " 18\t Finland\t5\t5,542,517\t9.021\n",
      " 19\t Belgium\t10\t11,498,519\t8.697\n",
      " 20\t Cyprus\t1\t1,189,085\t8.410\n",
      " 21\t Trinidad and Tobago\t1\t1,372,598\t7.285\n",
      " 22\t Canada\t25\t36,953,765\t6.765\n",
      " 23\t New Zealand\t3\t4,749,598\t6.316\n",
      " 24\t Bosnia and Herzegovina\t2\t3,503,554\t5.708\n",
      " 25\t Latvia\t1\t1,929,938\t5.182\n",
      " 26\t Poland\t19\t38,104,832\t4.986\n",
      " 27\t Australia\t12\t24,772,247\t4.844\n",
      " 28\t Slovenia\t1\t2,081,260\t4.805\n",
      " 29\t North Macedonia\t1\t2,085,051\t4.796\n",
      " 30\t Czech Republic\t5\t10,625,250\t4.706\n",
      " 31\t Liberia\t2\t4,853,516\t4.121\n",
      " 32\t Lithuania\t1\t2,876,475\t3.476\n",
      " 33\t Italy\t20\t59,290,969\t3.373\n",
      " 34\t Croatia\t1\t4,164,783\t2.401\n",
      " 35\t Japan\t28\t127,185,332\t2.202\n",
      " 36\t Belarus\t2\t9,452,113\t2.116\n",
      " 37\t Romania\t4\t19,580,634\t2.043\n",
      " 38\t Costa Rica\t1\t4,953,199\t2.019\n",
      " 39\t Palestine\t1\t5,052,776\t1.979\n",
      " 40\t Portugal\t2\t10,291,196\t1.943\n",
      " 41\t Greece\t2\t11,142,161\t1.795\n",
      " 42\t South Africa\t10\t57,398,421\t1.742\n",
      " 43\t Spain\t8\t46,397,452\t1.724\n",
      " 44\t Russia\t23\t143,964,709\t1.598\n",
      " 45\t Bulgaria\t1\t7,036,848\t1.421\n",
      " 46\t Guatemala\t2\t17,245,346\t1.160\n",
      " 47\t Argentina\t5\t44,688,864\t1.119\n",
      " 48\t Chile\t2\t18,197,209\t1.099\n",
      " 49\t Azerbaijan\t1\t9,923,914\t1.008\n",
      " 50\t Algeria\t2\t42,008,054\t0.476\n",
      " 51\t Ukraine\t2\t44,009,214\t0.454\n",
      " 52\t\" Taiwan\"\t1\t23,694,089\t0.422\n",
      " 53\t Colombia\t2\t49,464,683\t0.404\n",
      " 54\t Egypt\t4\t99,375,741\t0.403\n",
      " 55\t South Korea\t2\t51,164,435\t0.391\n",
      " 56\t Yemen\t1\t28,915,284\t0.346\n",
      " 57\t Ghana\t1\t29,463,643\t0.339\n",
      " 58\t Venezuela\t1\t32,381,221\t0.309\n",
      " 59\t Peru\t1\t32,551,815\t0.307\n",
      " 60\t Morocco\t1\t36,191,805\t0.276\n",
      " 61\t Iraq\t1\t39,339,753\t0.254\n",
      " 62\t Turkey\t2\t81,916,871\t0.244\n",
      " 63\t Iran\t2\t82,011,735\t0.244\n",
      " 64\t Mexico\t3\t130,759,074\t0.229\n",
      " 65\t Kenya\t1\t50,950,879\t0.196\n",
      " 66\t Myanmar\t1\t53,855,735\t0.186\n",
      " 67\t DR Congo\t1\t84,004,989\t0.119\n",
      " 68\t Vietnam\t1\t96,491,146\t0.104\n",
      " 69\t Pakistan\t2\t200,813,818\t0.100\n",
      " 70\t Ethiopia\t1\t109,224,410\t0.092\n",
      " 71\t India\t11\t1,354,051,854\t0.081\n",
      " 72\t China\t9\t1,415,045,928\t0.064\n",
      " 73\t Bangladesh\t1\t166,368,149\t0.060\n",
      " 74\t Nigeria\t1\t195,875,237\t0.051\n"
     ]
    }
   ],
   "source": [
    "print(*prizes5)"
   ]
  },
  {
   "cell_type": "code",
   "execution_count": null,
   "metadata": {},
   "outputs": [],
   "source": []
  },
  {
   "cell_type": "code",
   "execution_count": 18,
   "metadata": {},
   "outputs": [
    {
     "name": "stdout",
     "output_type": "stream",
     "text": [
      "  R a n k \t E n t i t y \t N o b e l   l a u r e a t e s \t P o p u l a t i o n   ( 2 0 1 8 ) \t L a u r e a t e s /\n"
     ]
    }
   ],
   "source": [
    "print(*prizes5[0])"
   ]
  },
  {
   "cell_type": "code",
   "execution_count": 19,
   "metadata": {},
   "outputs": [],
   "source": [
    "prizes5[0] = re.sub('/', '', prizes5[0])"
   ]
  },
  {
   "cell_type": "code",
   "execution_count": 20,
   "metadata": {},
   "outputs": [
    {
     "name": "stdout",
     "output_type": "stream",
     "text": [
      "  R a n k \t E n t i t y \t N o b e l   l a u r e a t e s \t P o p u l a t i o n   ( 2 0 1 8 ) \t L a u r e a t e s\n"
     ]
    }
   ],
   "source": [
    "print(*prizes5[0])"
   ]
  },
  {
   "cell_type": "code",
   "execution_count": null,
   "metadata": {},
   "outputs": [],
   "source": [
    "\n"
   ]
  },
  {
   "cell_type": "code",
   "execution_count": null,
   "metadata": {},
   "outputs": [],
   "source": []
  },
  {
   "cell_type": "code",
   "execution_count": null,
   "metadata": {},
   "outputs": [],
   "source": [
    "\n"
   ]
  },
  {
   "cell_type": "code",
   "execution_count": 21,
   "metadata": {},
   "outputs": [
    {
     "name": "stdout",
     "output_type": "stream",
     "text": [
      " Rank\tEntity\tNobel laureates\tPopulation (2018)\tLaureates\n"
     ]
    }
   ],
   "source": [
    "print(prizes5[0])"
   ]
  },
  {
   "cell_type": "code",
   "execution_count": 22,
   "metadata": {},
   "outputs": [],
   "source": [
    "headers = prizes5[0].split('\\t')\n",
    "\n",
    "\n",
    "\n"
   ]
  },
  {
   "cell_type": "code",
   "execution_count": 23,
   "metadata": {},
   "outputs": [],
   "source": [
    "datas = []\n",
    "for row in prizes5[2:]:\n",
    "    datas.append(row.strip().split('\\t'))"
   ]
  },
  {
   "cell_type": "code",
   "execution_count": 24,
   "metadata": {},
   "outputs": [],
   "source": [
    "prizes = pd.DataFrame(columns=prizes5[0].split('\\t'), data= datas)"
   ]
  },
  {
   "cell_type": "code",
   "execution_count": 25,
   "metadata": {},
   "outputs": [
    {
     "data": {
      "text/html": [
       "<div>\n",
       "<style scoped>\n",
       "    .dataframe tbody tr th:only-of-type {\n",
       "        vertical-align: middle;\n",
       "    }\n",
       "\n",
       "    .dataframe tbody tr th {\n",
       "        vertical-align: top;\n",
       "    }\n",
       "\n",
       "    .dataframe thead th {\n",
       "        text-align: right;\n",
       "    }\n",
       "</style>\n",
       "<table border=\"1\" class=\"dataframe\">\n",
       "  <thead>\n",
       "    <tr style=\"text-align: right;\">\n",
       "      <th></th>\n",
       "      <th>Rank</th>\n",
       "      <th>Entity</th>\n",
       "      <th>Nobel laureates</th>\n",
       "      <th>Population (2018)</th>\n",
       "      <th>Laureates</th>\n",
       "    </tr>\n",
       "  </thead>\n",
       "  <tbody>\n",
       "    <tr>\n",
       "      <th>0</th>\n",
       "      <td>—</td>\n",
       "      <td>Faroe Islands</td>\n",
       "      <td>1</td>\n",
       "      <td>49,489</td>\n",
       "      <td>202.065</td>\n",
       "    </tr>\n",
       "    <tr>\n",
       "      <th>1</th>\n",
       "      <td>—</td>\n",
       "      <td>Tibet</td>\n",
       "      <td>1</td>\n",
       "      <td>3,310,836</td>\n",
       "      <td>3.020</td>\n",
       "    </tr>\n",
       "    <tr>\n",
       "      <th>2</th>\n",
       "      <td>—</td>\n",
       "      <td>Hong Kong</td>\n",
       "      <td>1</td>\n",
       "      <td>7,428,887</td>\n",
       "      <td>1.346</td>\n",
       "    </tr>\n",
       "    <tr>\n",
       "      <th>3</th>\n",
       "      <td>1</td>\n",
       "      <td>Saint Lucia</td>\n",
       "      <td>2</td>\n",
       "      <td>179,667</td>\n",
       "      <td>111.317</td>\n",
       "    </tr>\n",
       "    <tr>\n",
       "      <th>4</th>\n",
       "      <td>2</td>\n",
       "      <td>Luxembourg</td>\n",
       "      <td>2</td>\n",
       "      <td>590,321</td>\n",
       "      <td>33.880</td>\n",
       "    </tr>\n",
       "    <tr>\n",
       "      <th>...</th>\n",
       "      <td>...</td>\n",
       "      <td>...</td>\n",
       "      <td>...</td>\n",
       "      <td>...</td>\n",
       "      <td>...</td>\n",
       "    </tr>\n",
       "    <tr>\n",
       "      <th>72</th>\n",
       "      <td>70</td>\n",
       "      <td>Ethiopia</td>\n",
       "      <td>1</td>\n",
       "      <td>109,224,410</td>\n",
       "      <td>0.092</td>\n",
       "    </tr>\n",
       "    <tr>\n",
       "      <th>73</th>\n",
       "      <td>71</td>\n",
       "      <td>India</td>\n",
       "      <td>11</td>\n",
       "      <td>1,354,051,854</td>\n",
       "      <td>0.081</td>\n",
       "    </tr>\n",
       "    <tr>\n",
       "      <th>74</th>\n",
       "      <td>72</td>\n",
       "      <td>China</td>\n",
       "      <td>9</td>\n",
       "      <td>1,415,045,928</td>\n",
       "      <td>0.064</td>\n",
       "    </tr>\n",
       "    <tr>\n",
       "      <th>75</th>\n",
       "      <td>73</td>\n",
       "      <td>Bangladesh</td>\n",
       "      <td>1</td>\n",
       "      <td>166,368,149</td>\n",
       "      <td>0.060</td>\n",
       "    </tr>\n",
       "    <tr>\n",
       "      <th>76</th>\n",
       "      <td>74</td>\n",
       "      <td>Nigeria</td>\n",
       "      <td>1</td>\n",
       "      <td>195,875,237</td>\n",
       "      <td>0.051</td>\n",
       "    </tr>\n",
       "  </tbody>\n",
       "</table>\n",
       "<p>77 rows × 5 columns</p>\n",
       "</div>"
      ],
      "text/plain": [
       "    Rank          Entity Nobel laureates Population (2018) Laureates\n",
       "0      —   Faroe Islands               1            49,489   202.065\n",
       "1      —           Tibet               1         3,310,836     3.020\n",
       "2      —       Hong Kong               1         7,428,887     1.346\n",
       "3      1     Saint Lucia               2           179,667   111.317\n",
       "4      2      Luxembourg               2           590,321    33.880\n",
       "..   ...             ...             ...               ...       ...\n",
       "72    70        Ethiopia               1       109,224,410     0.092\n",
       "73    71           India              11     1,354,051,854     0.081\n",
       "74    72           China               9     1,415,045,928     0.064\n",
       "75    73      Bangladesh               1       166,368,149     0.060\n",
       "76    74         Nigeria               1       195,875,237     0.051\n",
       "\n",
       "[77 rows x 5 columns]"
      ]
     },
     "execution_count": 25,
     "metadata": {},
     "output_type": "execute_result"
    }
   ],
   "source": [
    "prizes = pd.DataFrame(columns=headers, data= datas)\n",
    "prizes"
   ]
  },
  {
   "cell_type": "markdown",
   "metadata": {},
   "source": [
    "# Selection in Dataframe"
   ]
  },
  {
   "cell_type": "code",
   "execution_count": 26,
   "metadata": {},
   "outputs": [
    {
     "data": {
      "text/html": [
       "<div>\n",
       "<style scoped>\n",
       "    .dataframe tbody tr th:only-of-type {\n",
       "        vertical-align: middle;\n",
       "    }\n",
       "\n",
       "    .dataframe tbody tr th {\n",
       "        vertical-align: top;\n",
       "    }\n",
       "\n",
       "    .dataframe thead th {\n",
       "        text-align: right;\n",
       "    }\n",
       "</style>\n",
       "<table border=\"1\" class=\"dataframe\">\n",
       "  <thead>\n",
       "    <tr style=\"text-align: right;\">\n",
       "      <th></th>\n",
       "      <th>Rank</th>\n",
       "      <th>Entity</th>\n",
       "      <th>Nobel laureates</th>\n",
       "      <th>Population (2018)</th>\n",
       "      <th>Laureates</th>\n",
       "    </tr>\n",
       "  </thead>\n",
       "  <tbody>\n",
       "    <tr>\n",
       "      <th>0</th>\n",
       "      <td>—</td>\n",
       "      <td>Faroe Islands</td>\n",
       "      <td>1</td>\n",
       "      <td>49,489</td>\n",
       "      <td>202.065</td>\n",
       "    </tr>\n",
       "    <tr>\n",
       "      <th>1</th>\n",
       "      <td>—</td>\n",
       "      <td>Tibet</td>\n",
       "      <td>1</td>\n",
       "      <td>3,310,836</td>\n",
       "      <td>3.020</td>\n",
       "    </tr>\n",
       "    <tr>\n",
       "      <th>2</th>\n",
       "      <td>—</td>\n",
       "      <td>Hong Kong</td>\n",
       "      <td>1</td>\n",
       "      <td>7,428,887</td>\n",
       "      <td>1.346</td>\n",
       "    </tr>\n",
       "    <tr>\n",
       "      <th>3</th>\n",
       "      <td>1</td>\n",
       "      <td>Saint Lucia</td>\n",
       "      <td>2</td>\n",
       "      <td>179,667</td>\n",
       "      <td>111.317</td>\n",
       "    </tr>\n",
       "    <tr>\n",
       "      <th>4</th>\n",
       "      <td>2</td>\n",
       "      <td>Luxembourg</td>\n",
       "      <td>2</td>\n",
       "      <td>590,321</td>\n",
       "      <td>33.880</td>\n",
       "    </tr>\n",
       "    <tr>\n",
       "      <th>5</th>\n",
       "      <td>3</td>\n",
       "      <td>Switzerland</td>\n",
       "      <td>27</td>\n",
       "      <td>8,544,034</td>\n",
       "      <td>31.601</td>\n",
       "    </tr>\n",
       "    <tr>\n",
       "      <th>6</th>\n",
       "      <td>4</td>\n",
       "      <td>Sweden</td>\n",
       "      <td>30</td>\n",
       "      <td>9,982,709</td>\n",
       "      <td>30.052</td>\n",
       "    </tr>\n",
       "  </tbody>\n",
       "</table>\n",
       "</div>"
      ],
      "text/plain": [
       "   Rank          Entity Nobel laureates Population (2018) Laureates\n",
       "0     —   Faroe Islands               1            49,489   202.065\n",
       "1     —           Tibet               1         3,310,836     3.020\n",
       "2     —       Hong Kong               1         7,428,887     1.346\n",
       "3     1     Saint Lucia               2           179,667   111.317\n",
       "4     2      Luxembourg               2           590,321    33.880\n",
       "5     3     Switzerland              27         8,544,034    31.601\n",
       "6     4          Sweden              30         9,982,709    30.052"
      ]
     },
     "execution_count": 26,
     "metadata": {},
     "output_type": "execute_result"
    }
   ],
   "source": [
    "prizes.iloc[:7]  # iloc, locating the index"
   ]
  },
  {
   "cell_type": "code",
   "execution_count": 27,
   "metadata": {},
   "outputs": [
    {
     "data": {
      "text/plain": [
       "' Sweden'"
      ]
     },
     "execution_count": 27,
     "metadata": {},
     "output_type": "execute_result"
    }
   ],
   "source": [
    "prizes.loc[6,\"Entity\"] #use row index and col name"
   ]
  },
  {
   "cell_type": "code",
   "execution_count": 28,
   "metadata": {},
   "outputs": [
    {
     "data": {
      "text/plain": [
       "0      Faroe Islands\n",
       "1              Tibet\n",
       "2          Hong Kong\n",
       "3        Saint Lucia\n",
       "4         Luxembourg\n",
       "           ...      \n",
       "72          Ethiopia\n",
       "73             India\n",
       "74             China\n",
       "75        Bangladesh\n",
       "76           Nigeria\n",
       "Name: Entity, Length: 77, dtype: object"
      ]
     },
     "execution_count": 28,
     "metadata": {},
     "output_type": "execute_result"
    }
   ],
   "source": [
    "prizes.loc[:,\"Entity\"]"
   ]
  },
  {
   "cell_type": "code",
   "execution_count": 29,
   "metadata": {},
   "outputs": [
    {
     "data": {
      "text/plain": [
       "0      Faroe Islands\n",
       "1              Tibet\n",
       "2          Hong Kong\n",
       "3        Saint Lucia\n",
       "4         Luxembourg\n",
       "           ...      \n",
       "72          Ethiopia\n",
       "73             India\n",
       "74             China\n",
       "75        Bangladesh\n",
       "76           Nigeria\n",
       "Name: Entity, Length: 77, dtype: object"
      ]
     },
     "execution_count": 29,
     "metadata": {},
     "output_type": "execute_result"
    }
   ],
   "source": [
    "prizes[\"Entity\"]"
   ]
  },
  {
   "cell_type": "markdown",
   "metadata": {},
   "source": [
    "# Masking "
   ]
  },
  {
   "cell_type": "code",
   "execution_count": 124,
   "metadata": {},
   "outputs": [],
   "source": [
    "\n",
    "prizes = pd.DataFrame(columns=prizes5[0].split('\\t'), data= datas)\n",
    "\n"
   ]
  },
  {
   "cell_type": "code",
   "execution_count": 125,
   "metadata": {},
   "outputs": [],
   "source": [
    "data3a = []\n",
    "for units in prizes3[2:]:\n",
    "    data3a.append(units.strip().split('\\t'))"
   ]
  },
  {
   "cell_type": "code",
   "execution_count": 126,
   "metadata": {},
   "outputs": [],
   "source": [
    "prizes3a = pd.DataFrame(columns=prizes3[0].rstrip('/').split('\\t'), data=data3a)"
   ]
  },
  {
   "cell_type": "code",
   "execution_count": 127,
   "metadata": {},
   "outputs": [],
   "source": [
    "if \"European Union\" in prizes3a:\n",
    "    print(yes)"
   ]
  },
  {
   "cell_type": "code",
   "execution_count": 128,
   "metadata": {},
   "outputs": [],
   "source": [
    "euro_mask = (prizes3a[\"Entity\"] == ' European Union')"
   ]
  },
  {
   "cell_type": "code",
   "execution_count": 129,
   "metadata": {},
   "outputs": [],
   "source": [
    "prizes3b = prizes3a[euro_mask]\n"
   ]
  },
  {
   "cell_type": "code",
   "execution_count": 130,
   "metadata": {},
   "outputs": [],
   "source": [
    "prizes3c = prizes3a[np.logical_not(euro_mask)]"
   ]
  },
  {
   "cell_type": "code",
   "execution_count": 131,
   "metadata": {},
   "outputs": [
    {
     "data": {
      "text/html": [
       "<div>\n",
       "<style scoped>\n",
       "    .dataframe tbody tr th:only-of-type {\n",
       "        vertical-align: middle;\n",
       "    }\n",
       "\n",
       "    .dataframe tbody tr th {\n",
       "        vertical-align: top;\n",
       "    }\n",
       "\n",
       "    .dataframe thead th {\n",
       "        text-align: right;\n",
       "    }\n",
       "</style>\n",
       "<table border=\"1\" class=\"dataframe\">\n",
       "  <thead>\n",
       "    <tr style=\"text-align: right;\">\n",
       "      <th></th>\n",
       "      <th>Rank</th>\n",
       "      <th>Entity</th>\n",
       "      <th>Nobel laureates</th>\n",
       "      <th>Population (2018)</th>\n",
       "      <th>Laureates</th>\n",
       "    </tr>\n",
       "  </thead>\n",
       "  <tbody>\n",
       "    <tr>\n",
       "      <th>0</th>\n",
       "      <td>—</td>\n",
       "      <td>Faroe Islands</td>\n",
       "      <td>1</td>\n",
       "      <td>49,489</td>\n",
       "      <td>202.065</td>\n",
       "    </tr>\n",
       "    <tr>\n",
       "      <th>2</th>\n",
       "      <td>—</td>\n",
       "      <td>Tibet</td>\n",
       "      <td>1</td>\n",
       "      <td>3,310,836</td>\n",
       "      <td>3.020</td>\n",
       "    </tr>\n",
       "    <tr>\n",
       "      <th>3</th>\n",
       "      <td>—</td>\n",
       "      <td>Hong Kong</td>\n",
       "      <td>1</td>\n",
       "      <td>7,428,887</td>\n",
       "      <td>1.346</td>\n",
       "    </tr>\n",
       "    <tr>\n",
       "      <th>4</th>\n",
       "      <td>—</td>\n",
       "      <td>World</td>\n",
       "      <td>919</td>\n",
       "      <td>7,632,819,325</td>\n",
       "      <td>1.204</td>\n",
       "    </tr>\n",
       "    <tr>\n",
       "      <th>5</th>\n",
       "      <td>1</td>\n",
       "      <td>Saint Lucia</td>\n",
       "      <td>2</td>\n",
       "      <td>179,667</td>\n",
       "      <td>111.317</td>\n",
       "    </tr>\n",
       "    <tr>\n",
       "      <th>...</th>\n",
       "      <td>...</td>\n",
       "      <td>...</td>\n",
       "      <td>...</td>\n",
       "      <td>...</td>\n",
       "      <td>...</td>\n",
       "    </tr>\n",
       "    <tr>\n",
       "      <th>74</th>\n",
       "      <td>70</td>\n",
       "      <td>Ethiopia</td>\n",
       "      <td>1</td>\n",
       "      <td>109,224,410</td>\n",
       "      <td>0.092</td>\n",
       "    </tr>\n",
       "    <tr>\n",
       "      <th>75</th>\n",
       "      <td>71</td>\n",
       "      <td>India</td>\n",
       "      <td>11</td>\n",
       "      <td>1,354,051,854</td>\n",
       "      <td>0.081</td>\n",
       "    </tr>\n",
       "    <tr>\n",
       "      <th>76</th>\n",
       "      <td>72</td>\n",
       "      <td>China</td>\n",
       "      <td>9</td>\n",
       "      <td>1,415,045,928</td>\n",
       "      <td>0.064</td>\n",
       "    </tr>\n",
       "    <tr>\n",
       "      <th>77</th>\n",
       "      <td>73</td>\n",
       "      <td>Bangladesh</td>\n",
       "      <td>1</td>\n",
       "      <td>166,368,149</td>\n",
       "      <td>0.060</td>\n",
       "    </tr>\n",
       "    <tr>\n",
       "      <th>78</th>\n",
       "      <td>74</td>\n",
       "      <td>Nigeria</td>\n",
       "      <td>1</td>\n",
       "      <td>195,875,237</td>\n",
       "      <td>0.051</td>\n",
       "    </tr>\n",
       "  </tbody>\n",
       "</table>\n",
       "<p>78 rows × 5 columns</p>\n",
       "</div>"
      ],
      "text/plain": [
       "    Rank          Entity Nobel laureates Population (2018) Laureates\n",
       "0      —   Faroe Islands               1            49,489   202.065\n",
       "2      —           Tibet               1         3,310,836     3.020\n",
       "3      —       Hong Kong               1         7,428,887     1.346\n",
       "4      —           World             919     7,632,819,325     1.204\n",
       "5      1     Saint Lucia               2           179,667   111.317\n",
       "..   ...             ...             ...               ...       ...\n",
       "74    70        Ethiopia               1       109,224,410     0.092\n",
       "75    71           India              11     1,354,051,854     0.081\n",
       "76    72           China               9     1,415,045,928     0.064\n",
       "77    73      Bangladesh               1       166,368,149     0.060\n",
       "78    74         Nigeria               1       195,875,237     0.051\n",
       "\n",
       "[78 rows x 5 columns]"
      ]
     },
     "execution_count": 131,
     "metadata": {},
     "output_type": "execute_result"
    }
   ],
   "source": [
    "prizes3c"
   ]
  },
  {
   "cell_type": "markdown",
   "metadata": {},
   "source": [
    "# Mapping Functions"
   ]
  },
  {
   "cell_type": "code",
   "execution_count": 132,
   "metadata": {},
   "outputs": [],
   "source": [
    "prizes.loc[6,\"Entity\"] = prizes.loc[6,\"Entity\"].strip()"
   ]
  },
  {
   "cell_type": "code",
   "execution_count": 133,
   "metadata": {},
   "outputs": [
    {
     "data": {
      "text/plain": [
       "'Sweden'"
      ]
     },
     "execution_count": 133,
     "metadata": {},
     "output_type": "execute_result"
    }
   ],
   "source": [
    "prizes.loc[6,\"Entity\"]"
   ]
  },
  {
   "cell_type": "code",
   "execution_count": 138,
   "metadata": {},
   "outputs": [],
   "source": [
    "prizes[\"Entity\"]= prizes[\"Entity\"].apply(str.strip)"
   ]
  },
  {
   "cell_type": "code",
   "execution_count": null,
   "metadata": {},
   "outputs": [],
   "source": []
  },
  {
   "cell_type": "code",
   "execution_count": 144,
   "metadata": {},
   "outputs": [
    {
     "data": {
      "text/plain": [
       "'Saint Lucia'"
      ]
     },
     "execution_count": 144,
     "metadata": {},
     "output_type": "execute_result"
    }
   ],
   "source": [
    "prizes.loc[3,\"Entity\"]"
   ]
  },
  {
   "cell_type": "code",
   "execution_count": 147,
   "metadata": {},
   "outputs": [
    {
     "data": {
      "text/plain": [
       "'Laureates'"
      ]
     },
     "execution_count": 147,
     "metadata": {},
     "output_type": "execute_result"
    }
   ],
   "source": [
    "prizes.columns[4]"
   ]
  },
  {
   "cell_type": "code",
   "execution_count": 151,
   "metadata": {},
   "outputs": [],
   "source": [
    "prizes.rename(columns={prizes.columns[4]: prizes.columns[4].rstrip()}, inplace= True)"
   ]
  },
  {
   "cell_type": "code",
   "execution_count": 152,
   "metadata": {},
   "outputs": [
    {
     "data": {
      "text/plain": [
       "'Laureates'"
      ]
     },
     "execution_count": 152,
     "metadata": {},
     "output_type": "execute_result"
    }
   ],
   "source": [
    "prizes.columns[4]"
   ]
  },
  {
   "cell_type": "code",
   "execution_count": 154,
   "metadata": {},
   "outputs": [
    {
     "data": {
      "text/html": [
       "<div>\n",
       "<style scoped>\n",
       "    .dataframe tbody tr th:only-of-type {\n",
       "        vertical-align: middle;\n",
       "    }\n",
       "\n",
       "    .dataframe tbody tr th {\n",
       "        vertical-align: top;\n",
       "    }\n",
       "\n",
       "    .dataframe thead th {\n",
       "        text-align: right;\n",
       "    }\n",
       "</style>\n",
       "<table border=\"1\" class=\"dataframe\">\n",
       "  <thead>\n",
       "    <tr style=\"text-align: right;\">\n",
       "      <th></th>\n",
       "      <th>Rank</th>\n",
       "      <th>Entity</th>\n",
       "      <th>Nobel laureates</th>\n",
       "      <th>Population (2018)</th>\n",
       "      <th>Laureates</th>\n",
       "    </tr>\n",
       "  </thead>\n",
       "  <tbody>\n",
       "    <tr>\n",
       "      <th>0</th>\n",
       "      <td>—</td>\n",
       "      <td>Faroe Islands</td>\n",
       "      <td>1</td>\n",
       "      <td>49,489</td>\n",
       "      <td>202.065</td>\n",
       "    </tr>\n",
       "    <tr>\n",
       "      <th>1</th>\n",
       "      <td>—</td>\n",
       "      <td>Tibet</td>\n",
       "      <td>1</td>\n",
       "      <td>3,310,836</td>\n",
       "      <td>3.020</td>\n",
       "    </tr>\n",
       "    <tr>\n",
       "      <th>2</th>\n",
       "      <td>—</td>\n",
       "      <td>Hong Kong</td>\n",
       "      <td>1</td>\n",
       "      <td>7,428,887</td>\n",
       "      <td>1.346</td>\n",
       "    </tr>\n",
       "    <tr>\n",
       "      <th>3</th>\n",
       "      <td>1</td>\n",
       "      <td>Saint Lucia</td>\n",
       "      <td>2</td>\n",
       "      <td>179,667</td>\n",
       "      <td>111.317</td>\n",
       "    </tr>\n",
       "    <tr>\n",
       "      <th>4</th>\n",
       "      <td>2</td>\n",
       "      <td>Luxembourg</td>\n",
       "      <td>2</td>\n",
       "      <td>590,321</td>\n",
       "      <td>33.880</td>\n",
       "    </tr>\n",
       "  </tbody>\n",
       "</table>\n",
       "</div>"
      ],
      "text/plain": [
       "   Rank         Entity Nobel laureates Population (2018) Laureates\n",
       "0     —  Faroe Islands               1            49,489   202.065\n",
       "1     —          Tibet               1         3,310,836     3.020\n",
       "2     —      Hong Kong               1         7,428,887     1.346\n",
       "3     1    Saint Lucia               2           179,667   111.317\n",
       "4     2     Luxembourg               2           590,321    33.880"
      ]
     },
     "execution_count": 154,
     "metadata": {},
     "output_type": "execute_result"
    }
   ],
   "source": [
    "prizes.head()"
   ]
  },
  {
   "cell_type": "code",
   "execution_count": 156,
   "metadata": {},
   "outputs": [
    {
     "data": {
      "text/plain": [
       " Rank                object\n",
       "Entity               object\n",
       "Nobel laureates      object\n",
       "Population (2018)    object\n",
       "Laureates            object\n",
       "dtype: object"
      ]
     },
     "execution_count": 156,
     "metadata": {},
     "output_type": "execute_result"
    }
   ],
   "source": [
    "prizes.dtypes"
   ]
  },
  {
   "cell_type": "code",
   "execution_count": 162,
   "metadata": {},
   "outputs": [
    {
     "data": {
      "text/plain": [
       "str"
      ]
     },
     "execution_count": 162,
     "metadata": {},
     "output_type": "execute_result"
    }
   ],
   "source": [
    "type(prizes.iloc[0,4])"
   ]
  },
  {
   "cell_type": "markdown",
   "metadata": {},
   "source": [
    "# Type Conversion"
   ]
  },
  {
   "cell_type": "code",
   "execution_count": 169,
   "metadata": {},
   "outputs": [],
   "source": [
    "prizenums = prizes.copy()\n",
    "prizenums[\"Laureates\"] = pd.to_numeric(prizenums[\"Laureates\"])"
   ]
  },
  {
   "cell_type": "code",
   "execution_count": null,
   "metadata": {},
   "outputs": [],
   "source": []
  },
  {
   "cell_type": "code",
   "execution_count": 173,
   "metadata": {},
   "outputs": [
    {
     "data": {
      "text/plain": [
       " Rank                 object\n",
       "Entity                object\n",
       "Nobel laureates       object\n",
       "Population (2018)     object\n",
       "Laureates            float64\n",
       "dtype: object"
      ]
     },
     "execution_count": 173,
     "metadata": {},
     "output_type": "execute_result"
    }
   ],
   "source": [
    "prizenums.dtypes"
   ]
  },
  {
   "cell_type": "code",
   "execution_count": 179,
   "metadata": {},
   "outputs": [],
   "source": [
    "prizes[\"Population (2018)\"] = prizes[\"Population (2018)\"].apply(str.replace,args =(',',''))\n"
   ]
  },
  {
   "cell_type": "code",
   "execution_count": null,
   "metadata": {},
   "outputs": [],
   "source": []
  },
  {
   "cell_type": "code",
   "execution_count": null,
   "metadata": {},
   "outputs": [],
   "source": []
  },
  {
   "cell_type": "code",
   "execution_count": 180,
   "metadata": {},
   "outputs": [
    {
     "ename": "KeyError",
     "evalue": "'Population( 2018)'",
     "output_type": "error",
     "traceback": [
      "\u001b[0;31m---------------------------------------------------------------------------\u001b[0m",
      "\u001b[0;31mKeyError\u001b[0m                                  Traceback (most recent call last)",
      "\u001b[0;32m~/opt/anaconda3/lib/python3.7/site-packages/pandas/core/indexes/base.py\u001b[0m in \u001b[0;36mget_loc\u001b[0;34m(self, key, method, tolerance)\u001b[0m\n\u001b[1;32m   2645\u001b[0m             \u001b[0;32mtry\u001b[0m\u001b[0;34m:\u001b[0m\u001b[0;34m\u001b[0m\u001b[0;34m\u001b[0m\u001b[0m\n\u001b[0;32m-> 2646\u001b[0;31m                 \u001b[0;32mreturn\u001b[0m \u001b[0mself\u001b[0m\u001b[0;34m.\u001b[0m\u001b[0m_engine\u001b[0m\u001b[0;34m.\u001b[0m\u001b[0mget_loc\u001b[0m\u001b[0;34m(\u001b[0m\u001b[0mkey\u001b[0m\u001b[0;34m)\u001b[0m\u001b[0;34m\u001b[0m\u001b[0;34m\u001b[0m\u001b[0m\n\u001b[0m\u001b[1;32m   2647\u001b[0m             \u001b[0;32mexcept\u001b[0m \u001b[0mKeyError\u001b[0m\u001b[0;34m:\u001b[0m\u001b[0;34m\u001b[0m\u001b[0;34m\u001b[0m\u001b[0m\n",
      "\u001b[0;32mpandas/_libs/index.pyx\u001b[0m in \u001b[0;36mpandas._libs.index.IndexEngine.get_loc\u001b[0;34m()\u001b[0m\n",
      "\u001b[0;32mpandas/_libs/index.pyx\u001b[0m in \u001b[0;36mpandas._libs.index.IndexEngine.get_loc\u001b[0;34m()\u001b[0m\n",
      "\u001b[0;32mpandas/_libs/hashtable_class_helper.pxi\u001b[0m in \u001b[0;36mpandas._libs.hashtable.PyObjectHashTable.get_item\u001b[0;34m()\u001b[0m\n",
      "\u001b[0;32mpandas/_libs/hashtable_class_helper.pxi\u001b[0m in \u001b[0;36mpandas._libs.hashtable.PyObjectHashTable.get_item\u001b[0;34m()\u001b[0m\n",
      "\u001b[0;31mKeyError\u001b[0m: 'Population( 2018)'",
      "\nDuring handling of the above exception, another exception occurred:\n",
      "\u001b[0;31mKeyError\u001b[0m                                  Traceback (most recent call last)",
      "\u001b[0;32m<ipython-input-180-096895510b0e>\u001b[0m in \u001b[0;36m<module>\u001b[0;34m\u001b[0m\n\u001b[0;32m----> 1\u001b[0;31m \u001b[0mprizenums\u001b[0m\u001b[0;34m[\u001b[0m\u001b[0;34m\"Population (2018)\"\u001b[0m\u001b[0;34m]\u001b[0m \u001b[0;34m=\u001b[0m \u001b[0mpd\u001b[0m\u001b[0;34m.\u001b[0m\u001b[0mto_numeric\u001b[0m\u001b[0;34m(\u001b[0m\u001b[0mprizenums\u001b[0m\u001b[0;34m[\u001b[0m\u001b[0;34m\"Population( 2018)\"\u001b[0m\u001b[0;34m]\u001b[0m\u001b[0;34m)\u001b[0m\u001b[0;34m\u001b[0m\u001b[0;34m\u001b[0m\u001b[0m\n\u001b[0m",
      "\u001b[0;32m~/opt/anaconda3/lib/python3.7/site-packages/pandas/core/frame.py\u001b[0m in \u001b[0;36m__getitem__\u001b[0;34m(self, key)\u001b[0m\n\u001b[1;32m   2798\u001b[0m             \u001b[0;32mif\u001b[0m \u001b[0mself\u001b[0m\u001b[0;34m.\u001b[0m\u001b[0mcolumns\u001b[0m\u001b[0;34m.\u001b[0m\u001b[0mnlevels\u001b[0m \u001b[0;34m>\u001b[0m \u001b[0;36m1\u001b[0m\u001b[0;34m:\u001b[0m\u001b[0;34m\u001b[0m\u001b[0;34m\u001b[0m\u001b[0m\n\u001b[1;32m   2799\u001b[0m                 \u001b[0;32mreturn\u001b[0m \u001b[0mself\u001b[0m\u001b[0;34m.\u001b[0m\u001b[0m_getitem_multilevel\u001b[0m\u001b[0;34m(\u001b[0m\u001b[0mkey\u001b[0m\u001b[0;34m)\u001b[0m\u001b[0;34m\u001b[0m\u001b[0;34m\u001b[0m\u001b[0m\n\u001b[0;32m-> 2800\u001b[0;31m             \u001b[0mindexer\u001b[0m \u001b[0;34m=\u001b[0m \u001b[0mself\u001b[0m\u001b[0;34m.\u001b[0m\u001b[0mcolumns\u001b[0m\u001b[0;34m.\u001b[0m\u001b[0mget_loc\u001b[0m\u001b[0;34m(\u001b[0m\u001b[0mkey\u001b[0m\u001b[0;34m)\u001b[0m\u001b[0;34m\u001b[0m\u001b[0;34m\u001b[0m\u001b[0m\n\u001b[0m\u001b[1;32m   2801\u001b[0m             \u001b[0;32mif\u001b[0m \u001b[0mis_integer\u001b[0m\u001b[0;34m(\u001b[0m\u001b[0mindexer\u001b[0m\u001b[0;34m)\u001b[0m\u001b[0;34m:\u001b[0m\u001b[0;34m\u001b[0m\u001b[0;34m\u001b[0m\u001b[0m\n\u001b[1;32m   2802\u001b[0m                 \u001b[0mindexer\u001b[0m \u001b[0;34m=\u001b[0m \u001b[0;34m[\u001b[0m\u001b[0mindexer\u001b[0m\u001b[0;34m]\u001b[0m\u001b[0;34m\u001b[0m\u001b[0;34m\u001b[0m\u001b[0m\n",
      "\u001b[0;32m~/opt/anaconda3/lib/python3.7/site-packages/pandas/core/indexes/base.py\u001b[0m in \u001b[0;36mget_loc\u001b[0;34m(self, key, method, tolerance)\u001b[0m\n\u001b[1;32m   2646\u001b[0m                 \u001b[0;32mreturn\u001b[0m \u001b[0mself\u001b[0m\u001b[0;34m.\u001b[0m\u001b[0m_engine\u001b[0m\u001b[0;34m.\u001b[0m\u001b[0mget_loc\u001b[0m\u001b[0;34m(\u001b[0m\u001b[0mkey\u001b[0m\u001b[0;34m)\u001b[0m\u001b[0;34m\u001b[0m\u001b[0;34m\u001b[0m\u001b[0m\n\u001b[1;32m   2647\u001b[0m             \u001b[0;32mexcept\u001b[0m \u001b[0mKeyError\u001b[0m\u001b[0;34m:\u001b[0m\u001b[0;34m\u001b[0m\u001b[0;34m\u001b[0m\u001b[0m\n\u001b[0;32m-> 2648\u001b[0;31m                 \u001b[0;32mreturn\u001b[0m \u001b[0mself\u001b[0m\u001b[0;34m.\u001b[0m\u001b[0m_engine\u001b[0m\u001b[0;34m.\u001b[0m\u001b[0mget_loc\u001b[0m\u001b[0;34m(\u001b[0m\u001b[0mself\u001b[0m\u001b[0;34m.\u001b[0m\u001b[0m_maybe_cast_indexer\u001b[0m\u001b[0;34m(\u001b[0m\u001b[0mkey\u001b[0m\u001b[0;34m)\u001b[0m\u001b[0;34m)\u001b[0m\u001b[0;34m\u001b[0m\u001b[0;34m\u001b[0m\u001b[0m\n\u001b[0m\u001b[1;32m   2649\u001b[0m         \u001b[0mindexer\u001b[0m \u001b[0;34m=\u001b[0m \u001b[0mself\u001b[0m\u001b[0;34m.\u001b[0m\u001b[0mget_indexer\u001b[0m\u001b[0;34m(\u001b[0m\u001b[0;34m[\u001b[0m\u001b[0mkey\u001b[0m\u001b[0;34m]\u001b[0m\u001b[0;34m,\u001b[0m \u001b[0mmethod\u001b[0m\u001b[0;34m=\u001b[0m\u001b[0mmethod\u001b[0m\u001b[0;34m,\u001b[0m \u001b[0mtolerance\u001b[0m\u001b[0;34m=\u001b[0m\u001b[0mtolerance\u001b[0m\u001b[0;34m)\u001b[0m\u001b[0;34m\u001b[0m\u001b[0;34m\u001b[0m\u001b[0m\n\u001b[1;32m   2650\u001b[0m         \u001b[0;32mif\u001b[0m \u001b[0mindexer\u001b[0m\u001b[0;34m.\u001b[0m\u001b[0mndim\u001b[0m \u001b[0;34m>\u001b[0m \u001b[0;36m1\u001b[0m \u001b[0;32mor\u001b[0m \u001b[0mindexer\u001b[0m\u001b[0;34m.\u001b[0m\u001b[0msize\u001b[0m \u001b[0;34m>\u001b[0m \u001b[0;36m1\u001b[0m\u001b[0;34m:\u001b[0m\u001b[0;34m\u001b[0m\u001b[0;34m\u001b[0m\u001b[0m\n",
      "\u001b[0;32mpandas/_libs/index.pyx\u001b[0m in \u001b[0;36mpandas._libs.index.IndexEngine.get_loc\u001b[0;34m()\u001b[0m\n",
      "\u001b[0;32mpandas/_libs/index.pyx\u001b[0m in \u001b[0;36mpandas._libs.index.IndexEngine.get_loc\u001b[0;34m()\u001b[0m\n",
      "\u001b[0;32mpandas/_libs/hashtable_class_helper.pxi\u001b[0m in \u001b[0;36mpandas._libs.hashtable.PyObjectHashTable.get_item\u001b[0;34m()\u001b[0m\n",
      "\u001b[0;32mpandas/_libs/hashtable_class_helper.pxi\u001b[0m in \u001b[0;36mpandas._libs.hashtable.PyObjectHashTable.get_item\u001b[0;34m()\u001b[0m\n",
      "\u001b[0;31mKeyError\u001b[0m: 'Population( 2018)'"
     ]
    }
   ],
   "source": [
    "prizenums[\"Population (2018)\"] = pd.to_numeric(prizenums[\"Population( 2018)\"])"
   ]
  },
  {
   "cell_type": "code",
   "execution_count": 183,
   "metadata": {},
   "outputs": [],
   "source": [
    "\n",
    "import numpy as np"
   ]
  },
  {
   "cell_type": "code",
   "execution_count": 184,
   "metadata": {},
   "outputs": [
    {
     "data": {
      "text/html": [
       "<div>\n",
       "<style scoped>\n",
       "    .dataframe tbody tr th:only-of-type {\n",
       "        vertical-align: middle;\n",
       "    }\n",
       "\n",
       "    .dataframe tbody tr th {\n",
       "        vertical-align: top;\n",
       "    }\n",
       "\n",
       "    .dataframe thead th {\n",
       "        text-align: right;\n",
       "    }\n",
       "</style>\n",
       "<table border=\"1\" class=\"dataframe\">\n",
       "  <thead>\n",
       "    <tr style=\"text-align: right;\">\n",
       "      <th></th>\n",
       "      <th>Rank</th>\n",
       "      <th>Entity</th>\n",
       "      <th>Nobel laureates</th>\n",
       "      <th>Population (2018)</th>\n",
       "      <th>Laureates</th>\n",
       "    </tr>\n",
       "  </thead>\n",
       "  <tbody>\n",
       "    <tr>\n",
       "      <th>0</th>\n",
       "      <td>—</td>\n",
       "      <td>Faroe Islands</td>\n",
       "      <td>1</td>\n",
       "      <td>49489</td>\n",
       "      <td>202.065</td>\n",
       "    </tr>\n",
       "    <tr>\n",
       "      <th>1</th>\n",
       "      <td>—</td>\n",
       "      <td>Tibet</td>\n",
       "      <td>1</td>\n",
       "      <td>3310836</td>\n",
       "      <td>3.020</td>\n",
       "    </tr>\n",
       "    <tr>\n",
       "      <th>2</th>\n",
       "      <td>—</td>\n",
       "      <td>Hong Kong</td>\n",
       "      <td>1</td>\n",
       "      <td>7428887</td>\n",
       "      <td>1.346</td>\n",
       "    </tr>\n",
       "    <tr>\n",
       "      <th>3</th>\n",
       "      <td>1</td>\n",
       "      <td>Saint Lucia</td>\n",
       "      <td>2</td>\n",
       "      <td>179667</td>\n",
       "      <td>111.317</td>\n",
       "    </tr>\n",
       "    <tr>\n",
       "      <th>4</th>\n",
       "      <td>2</td>\n",
       "      <td>Luxembourg</td>\n",
       "      <td>2</td>\n",
       "      <td>590321</td>\n",
       "      <td>33.880</td>\n",
       "    </tr>\n",
       "  </tbody>\n",
       "</table>\n",
       "</div>"
      ],
      "text/plain": [
       "   Rank         Entity Nobel laureates Population (2018) Laureates\n",
       "0     —  Faroe Islands               1             49489   202.065\n",
       "1     —          Tibet               1           3310836     3.020\n",
       "2     —      Hong Kong               1           7428887     1.346\n",
       "3     1    Saint Lucia               2            179667   111.317\n",
       "4     2     Luxembourg               2            590321    33.880"
      ]
     },
     "execution_count": 184,
     "metadata": {},
     "output_type": "execute_result"
    }
   ],
   "source": [
    "prizes[:5]"
   ]
  },
  {
   "cell_type": "code",
   "execution_count": 185,
   "metadata": {},
   "outputs": [],
   "source": [
    "prizenums = prizes.astype({\"Nobel laureates\": np.int64, \"Population (2018)\": np.int64, \"Laureates\": np.float64})"
   ]
  },
  {
   "cell_type": "code",
   "execution_count": 188,
   "metadata": {},
   "outputs": [
    {
     "data": {
      "text/plain": [
       " Rank                 object\n",
       "Entity                object\n",
       "Nobel laureates        int64\n",
       "Population (2018)      int64\n",
       "Laureates            float64\n",
       "dtype: object"
      ]
     },
     "execution_count": 188,
     "metadata": {},
     "output_type": "execute_result"
    }
   ],
   "source": [
    "prizenums.dtypes"
   ]
  },
  {
   "cell_type": "code",
   "execution_count": 189,
   "metadata": {},
   "outputs": [
    {
     "data": {
      "text/html": [
       "<div>\n",
       "<style scoped>\n",
       "    .dataframe tbody tr th:only-of-type {\n",
       "        vertical-align: middle;\n",
       "    }\n",
       "\n",
       "    .dataframe tbody tr th {\n",
       "        vertical-align: top;\n",
       "    }\n",
       "\n",
       "    .dataframe thead th {\n",
       "        text-align: right;\n",
       "    }\n",
       "</style>\n",
       "<table border=\"1\" class=\"dataframe\">\n",
       "  <thead>\n",
       "    <tr style=\"text-align: right;\">\n",
       "      <th></th>\n",
       "      <th>Rank</th>\n",
       "      <th>Entity</th>\n",
       "      <th>Nobel laureates</th>\n",
       "      <th>Population (2018)</th>\n",
       "      <th>Laureates</th>\n",
       "    </tr>\n",
       "  </thead>\n",
       "  <tbody>\n",
       "    <tr>\n",
       "      <th>0</th>\n",
       "      <td>—</td>\n",
       "      <td>Faroe Islands</td>\n",
       "      <td>1</td>\n",
       "      <td>49489</td>\n",
       "      <td>202.065</td>\n",
       "    </tr>\n",
       "    <tr>\n",
       "      <th>1</th>\n",
       "      <td>—</td>\n",
       "      <td>Tibet</td>\n",
       "      <td>1</td>\n",
       "      <td>3310836</td>\n",
       "      <td>3.020</td>\n",
       "    </tr>\n",
       "    <tr>\n",
       "      <th>2</th>\n",
       "      <td>—</td>\n",
       "      <td>Hong Kong</td>\n",
       "      <td>1</td>\n",
       "      <td>7428887</td>\n",
       "      <td>1.346</td>\n",
       "    </tr>\n",
       "    <tr>\n",
       "      <th>3</th>\n",
       "      <td>1</td>\n",
       "      <td>Saint Lucia</td>\n",
       "      <td>2</td>\n",
       "      <td>179667</td>\n",
       "      <td>111.317</td>\n",
       "    </tr>\n",
       "    <tr>\n",
       "      <th>4</th>\n",
       "      <td>2</td>\n",
       "      <td>Luxembourg</td>\n",
       "      <td>2</td>\n",
       "      <td>590321</td>\n",
       "      <td>33.880</td>\n",
       "    </tr>\n",
       "  </tbody>\n",
       "</table>\n",
       "</div>"
      ],
      "text/plain": [
       "   Rank         Entity  Nobel laureates  Population (2018)  Laureates\n",
       "0     —  Faroe Islands                1              49489    202.065\n",
       "1     —          Tibet                1            3310836      3.020\n",
       "2     —      Hong Kong                1            7428887      1.346\n",
       "3     1    Saint Lucia                2             179667    111.317\n",
       "4     2     Luxembourg                2             590321     33.880"
      ]
     },
     "execution_count": 189,
     "metadata": {},
     "output_type": "execute_result"
    }
   ],
   "source": [
    "prizenums.head()"
   ]
  },
  {
   "cell_type": "markdown",
   "metadata": {},
   "source": [
    "# visualizing the Nobel Laureate"
   ]
  },
  {
   "cell_type": "code",
   "execution_count": 190,
   "metadata": {},
   "outputs": [
    {
     "data": {
      "image/png": "[encoded data removed]",
      "text/plain": [
       "<Figure size 432x288 with 1 Axes>"
      ]
     },
     "metadata": {
      "needs_background": "light"
     },
     "output_type": "display_data"
    }
   ],
   "source": [
    "prizenums.plot.bar()\n",
    "plt.show()"
   ]
  },
  {
   "cell_type": "code",
   "execution_count": 192,
   "metadata": {},
   "outputs": [
    {
     "data": {
      "text/html": [
       "<div>\n",
       "<style scoped>\n",
       "    .dataframe tbody tr th:only-of-type {\n",
       "        vertical-align: middle;\n",
       "    }\n",
       "\n",
       "    .dataframe tbody tr th {\n",
       "        vertical-align: top;\n",
       "    }\n",
       "\n",
       "    .dataframe thead th {\n",
       "        text-align: right;\n",
       "    }\n",
       "</style>\n",
       "<table border=\"1\" class=\"dataframe\">\n",
       "  <thead>\n",
       "    <tr style=\"text-align: right;\">\n",
       "      <th></th>\n",
       "      <th>Rank</th>\n",
       "      <th>Entity</th>\n",
       "      <th>Nobel laureates</th>\n",
       "      <th>Population (2018)</th>\n",
       "      <th>Laureates</th>\n",
       "    </tr>\n",
       "  </thead>\n",
       "  <tbody>\n",
       "    <tr>\n",
       "      <th>0</th>\n",
       "      <td>—</td>\n",
       "      <td>Faroe Islands</td>\n",
       "      <td>1</td>\n",
       "      <td>49489</td>\n",
       "      <td>202.065</td>\n",
       "    </tr>\n",
       "    <tr>\n",
       "      <th>1</th>\n",
       "      <td>—</td>\n",
       "      <td>Tibet</td>\n",
       "      <td>1</td>\n",
       "      <td>3310836</td>\n",
       "      <td>3.020</td>\n",
       "    </tr>\n",
       "    <tr>\n",
       "      <th>2</th>\n",
       "      <td>—</td>\n",
       "      <td>Hong Kong</td>\n",
       "      <td>1</td>\n",
       "      <td>7428887</td>\n",
       "      <td>1.346</td>\n",
       "    </tr>\n",
       "    <tr>\n",
       "      <th>3</th>\n",
       "      <td>1</td>\n",
       "      <td>Saint Lucia</td>\n",
       "      <td>2</td>\n",
       "      <td>179667</td>\n",
       "      <td>111.317</td>\n",
       "    </tr>\n",
       "    <tr>\n",
       "      <th>4</th>\n",
       "      <td>2</td>\n",
       "      <td>Luxembourg</td>\n",
       "      <td>2</td>\n",
       "      <td>590321</td>\n",
       "      <td>33.880</td>\n",
       "    </tr>\n",
       "    <tr>\n",
       "      <th>...</th>\n",
       "      <td>...</td>\n",
       "      <td>...</td>\n",
       "      <td>...</td>\n",
       "      <td>...</td>\n",
       "      <td>...</td>\n",
       "    </tr>\n",
       "    <tr>\n",
       "      <th>72</th>\n",
       "      <td>70</td>\n",
       "      <td>Ethiopia</td>\n",
       "      <td>1</td>\n",
       "      <td>109224410</td>\n",
       "      <td>0.092</td>\n",
       "    </tr>\n",
       "    <tr>\n",
       "      <th>73</th>\n",
       "      <td>71</td>\n",
       "      <td>India</td>\n",
       "      <td>11</td>\n",
       "      <td>1354051854</td>\n",
       "      <td>0.081</td>\n",
       "    </tr>\n",
       "    <tr>\n",
       "      <th>74</th>\n",
       "      <td>72</td>\n",
       "      <td>China</td>\n",
       "      <td>9</td>\n",
       "      <td>1415045928</td>\n",
       "      <td>0.064</td>\n",
       "    </tr>\n",
       "    <tr>\n",
       "      <th>75</th>\n",
       "      <td>73</td>\n",
       "      <td>Bangladesh</td>\n",
       "      <td>1</td>\n",
       "      <td>166368149</td>\n",
       "      <td>0.060</td>\n",
       "    </tr>\n",
       "    <tr>\n",
       "      <th>76</th>\n",
       "      <td>74</td>\n",
       "      <td>Nigeria</td>\n",
       "      <td>1</td>\n",
       "      <td>195875237</td>\n",
       "      <td>0.051</td>\n",
       "    </tr>\n",
       "  </tbody>\n",
       "</table>\n",
       "<p>77 rows × 5 columns</p>\n",
       "</div>"
      ],
      "text/plain": [
       "    Rank         Entity  Nobel laureates  Population (2018)  Laureates\n",
       "0      —  Faroe Islands                1              49489    202.065\n",
       "1      —          Tibet                1            3310836      3.020\n",
       "2      —      Hong Kong                1            7428887      1.346\n",
       "3      1    Saint Lucia                2             179667    111.317\n",
       "4      2     Luxembourg                2             590321     33.880\n",
       "..   ...            ...              ...                ...        ...\n",
       "72    70       Ethiopia                1          109224410      0.092\n",
       "73    71          India               11         1354051854      0.081\n",
       "74    72          China                9         1415045928      0.064\n",
       "75    73     Bangladesh                1          166368149      0.060\n",
       "76    74        Nigeria                1          195875237      0.051\n",
       "\n",
       "[77 rows x 5 columns]"
      ]
     },
     "execution_count": 192,
     "metadata": {},
     "output_type": "execute_result"
    }
   ],
   "source": [
    "prizenums"
   ]
  },
  {
   "cell_type": "code",
   "execution_count": 227,
   "metadata": {},
   "outputs": [
    {
     "data": {
      "image/png": "[encoded data removed]",
      "text/plain": [
       "<Figure size 1080x576 with 1 Axes>"
      ]
     },
     "metadata": {
      "needs_background": "light"
     },
     "output_type": "display_data"
    }
   ],
   "source": [
    "plt.rcParams[\"figure.figsize\"] = (15, 8)\n",
    "prizenums.plot.bar(\"Entity\", \"Nobel laureates\")\n",
    "plt.show()"
   ]
  },
  {
   "cell_type": "code",
   "execution_count": 228,
   "metadata": {},
   "outputs": [
    {
     "data": {
      "image/png": "[encoded data removed]",
      "text/plain": [
       "<Figure size 1080x576 with 1 Axes>"
      ]
     },
     "metadata": {
      "needs_background": "light"
     },
     "output_type": "display_data"
    }
   ],
   "source": [
    "plt.rcParams[\"figure.figsize\"] = (15, 8)\n",
    "prizenums.sort_values(\"Nobel laureates\", ascending=False, inplace=True)\n",
    "prizenums.plot.bar(\"Entity\", \"Nobel laureates\")\n",
    "plt.show()"
   ]
  },
  {
   "cell_type": "code",
   "execution_count": 229,
   "metadata": {},
   "outputs": [
    {
     "data": {
      "text/plain": [
       "<matplotlib.axes._subplots.AxesSubplot at 0x7f81dbc8f6d0>"
      ]
     },
     "execution_count": 229,
     "metadata": {},
     "output_type": "execute_result"
    },
    {
     "data": {
      "image/png": "[encoded data removed]",
      "text/plain": [
       "<Figure size 1080x576 with 1 Axes>"
      ]
     },
     "metadata": {
      "needs_background": "light"
     },
     "output_type": "display_data"
    }
   ],
   "source": [
    "plt.rcParams[\"figure.figsize\"] = (15, 8)\n",
    "prizenums[prizenums[\"Nobel laureates\"]>2].plot.bar(\"Entity\", \"Nobel laureates\")"
   ]
  },
  {
   "cell_type": "code",
   "execution_count": 204,
   "metadata": {},
   "outputs": [
    {
     "data": {
      "text/plain": [
       "17    383\n",
       "12    133\n",
       "16    109\n",
       "19     70\n",
       "6      30\n",
       "     ... \n",
       "27      1\n",
       "23      1\n",
       "22      1\n",
       "54      1\n",
       "76      1\n",
       "Name: Nobel laureates, Length: 77, dtype: int64"
      ]
     },
     "execution_count": 204,
     "metadata": {},
     "output_type": "execute_result"
    }
   ],
   "source": [
    "prizenums[\"Nobel laureates\"]"
   ]
  },
  {
   "cell_type": "code",
   "execution_count": 219,
   "metadata": {},
   "outputs": [
    {
     "data": {
      "text/html": [
       "<div>\n",
       "<style scoped>\n",
       "    .dataframe tbody tr th:only-of-type {\n",
       "        vertical-align: middle;\n",
       "    }\n",
       "\n",
       "    .dataframe tbody tr th {\n",
       "        vertical-align: top;\n",
       "    }\n",
       "\n",
       "    .dataframe thead th {\n",
       "        text-align: right;\n",
       "    }\n",
       "</style>\n",
       "<table border=\"1\" class=\"dataframe\">\n",
       "  <thead>\n",
       "    <tr style=\"text-align: right;\">\n",
       "      <th></th>\n",
       "      <th>Rank</th>\n",
       "      <th>Entity</th>\n",
       "      <th>Nobel laureates</th>\n",
       "      <th>Population (2018)</th>\n",
       "      <th>Laureates</th>\n",
       "    </tr>\n",
       "  </thead>\n",
       "  <tbody>\n",
       "    <tr>\n",
       "      <th>17</th>\n",
       "      <td>15</td>\n",
       "      <td>United States</td>\n",
       "      <td>383</td>\n",
       "      <td>326766748</td>\n",
       "      <td>11.721</td>\n",
       "    </tr>\n",
       "    <tr>\n",
       "      <th>12</th>\n",
       "      <td>10</td>\n",
       "      <td>United Kingdom</td>\n",
       "      <td>133</td>\n",
       "      <td>66573504</td>\n",
       "      <td>19.429</td>\n",
       "    </tr>\n",
       "    <tr>\n",
       "      <th>16</th>\n",
       "      <td>14</td>\n",
       "      <td>Germany</td>\n",
       "      <td>109</td>\n",
       "      <td>82293457</td>\n",
       "      <td>13.245</td>\n",
       "    </tr>\n",
       "    <tr>\n",
       "      <th>19</th>\n",
       "      <td>17</td>\n",
       "      <td>France</td>\n",
       "      <td>70</td>\n",
       "      <td>65233271</td>\n",
       "      <td>10.664</td>\n",
       "    </tr>\n",
       "    <tr>\n",
       "      <th>6</th>\n",
       "      <td>4</td>\n",
       "      <td>Sweden</td>\n",
       "      <td>30</td>\n",
       "      <td>9982709</td>\n",
       "      <td>30.052</td>\n",
       "    </tr>\n",
       "  </tbody>\n",
       "</table>\n",
       "</div>"
      ],
      "text/plain": [
       "    Rank          Entity  Nobel laureates  Population (2018)  Laureates\n",
       "17    15   United States              383          326766748     11.721\n",
       "12    10  United Kingdom              133           66573504     19.429\n",
       "16    14         Germany              109           82293457     13.245\n",
       "19    17          France               70           65233271     10.664\n",
       "6      4          Sweden               30            9982709     30.052"
      ]
     },
     "execution_count": 219,
     "metadata": {},
     "output_type": "execute_result"
    }
   ],
   "source": [
    "prizenums[:5]"
   ]
  },
  {
   "cell_type": "code",
   "execution_count": 231,
   "metadata": {},
   "outputs": [
    {
     "data": {
      "image/png": "[encoded data removed]",
      "text/plain": [
       "<Figure size 1080x576 with 1 Axes>"
      ]
     },
     "metadata": {
      "needs_background": "light"
     },
     "output_type": "display_data"
    }
   ],
   "source": [
    "prizenums.sort_values(\"Laureates\", ascending= False,inplace= True)\n",
    "prizenums.plot.bar(\"Entity\", \"Laureates\")\n",
    "plt.show()"
   ]
  },
  {
   "cell_type": "code",
   "execution_count": 234,
   "metadata": {},
   "outputs": [
    {
     "data": {
      "text/plain": [
       "<matplotlib.axes._subplots.AxesSubplot at 0x7f81c2b22690>"
      ]
     },
     "execution_count": 234,
     "metadata": {},
     "output_type": "execute_result"
    },
    {
     "data": {
      "image/png": "[encoded data removed]",
      "text/plain": [
       "<Figure size 1080x576 with 1 Axes>"
      ]
     },
     "metadata": {
      "needs_background": "light"
     },
     "output_type": "display_data"
    }
   ],
   "source": [
    "prizenums[prizenums[\"Laureates\"] >5].plot.bar(\"Entity\",[\"Laureates\", \"Nobel laureates\"])"
   ]
  },
  {
   "cell_type": "markdown",
   "metadata": {},
   "source": [
    "# Relationship in the nobel laureate data"
   ]
  },
  {
   "cell_type": "code",
   "execution_count": 238,
   "metadata": {},
   "outputs": [
    {
     "data": {
      "image/png": "[encoded data removed]",
      "text/plain": [
       "<Figure size 1080x576 with 1 Axes>"
      ]
     },
     "metadata": {
      "needs_background": "light"
     },
     "output_type": "display_data"
    }
   ],
   "source": [
    "prizenums.plot.scatter(\"Population (2018)\",\"Nobel laureates\")\n",
    "plt.show()"
   ]
  },
  {
   "cell_type": "code",
   "execution_count": 243,
   "metadata": {},
   "outputs": [
    {
     "data": {
      "image/png": "[encoded data removed]",
      "text/plain": [
       "<Figure size 1080x576 with 1 Axes>"
      ]
     },
     "metadata": {
      "needs_background": "light"
     },
     "output_type": "display_data"
    }
   ],
   "source": [
    "prizenums[prizenums[\"Population (2018)\"]<300000000].plot.scatter(\"Population (2018)\",\"Nobel laureates\")\n",
    "plt.show()"
   ]
  },
  {
   "cell_type": "code",
   "execution_count": 245,
   "metadata": {},
   "outputs": [
    {
     "data": {
      "text/html": [
       "<div>\n",
       "<style scoped>\n",
       "    .dataframe tbody tr th:only-of-type {\n",
       "        vertical-align: middle;\n",
       "    }\n",
       "\n",
       "    .dataframe tbody tr th {\n",
       "        vertical-align: top;\n",
       "    }\n",
       "\n",
       "    .dataframe thead th {\n",
       "        text-align: right;\n",
       "    }\n",
       "</style>\n",
       "<table border=\"1\" class=\"dataframe\">\n",
       "  <thead>\n",
       "    <tr style=\"text-align: right;\">\n",
       "      <th></th>\n",
       "      <th>Country</th>\n",
       "      <th>Consumption</th>\n",
       "    </tr>\n",
       "  </thead>\n",
       "  <tbody>\n",
       "    <tr>\n",
       "      <th>0</th>\n",
       "      <td>Germany</td>\n",
       "      <td>11.1</td>\n",
       "    </tr>\n",
       "    <tr>\n",
       "      <th>1</th>\n",
       "      <td>Switzerland</td>\n",
       "      <td>10.3</td>\n",
       "    </tr>\n",
       "    <tr>\n",
       "      <th>2</th>\n",
       "      <td>Estonia</td>\n",
       "      <td>8.8</td>\n",
       "    </tr>\n",
       "    <tr>\n",
       "      <th>3</th>\n",
       "      <td>UK</td>\n",
       "      <td>8.1</td>\n",
       "    </tr>\n",
       "    <tr>\n",
       "      <th>4</th>\n",
       "      <td>Finland</td>\n",
       "      <td>7.4</td>\n",
       "    </tr>\n",
       "    <tr>\n",
       "      <th>5</th>\n",
       "      <td>Denmark</td>\n",
       "      <td>6.9</td>\n",
       "    </tr>\n",
       "    <tr>\n",
       "      <th>6</th>\n",
       "      <td>Croatia</td>\n",
       "      <td>6.6</td>\n",
       "    </tr>\n",
       "    <tr>\n",
       "      <th>7</th>\n",
       "      <td>Belgium</td>\n",
       "      <td>6.4</td>\n",
       "    </tr>\n",
       "    <tr>\n",
       "      <th>8</th>\n",
       "      <td>Lithuania</td>\n",
       "      <td>4.7</td>\n",
       "    </tr>\n",
       "    <tr>\n",
       "      <th>9</th>\n",
       "      <td>Spain</td>\n",
       "      <td>4.5</td>\n",
       "    </tr>\n",
       "    <tr>\n",
       "      <th>10</th>\n",
       "      <td>Portugal</td>\n",
       "      <td>3.6</td>\n",
       "    </tr>\n",
       "    <tr>\n",
       "      <th>11</th>\n",
       "      <td>Italy</td>\n",
       "      <td>3.1</td>\n",
       "    </tr>\n",
       "    <tr>\n",
       "      <th>12</th>\n",
       "      <td>Greece</td>\n",
       "      <td>3.0</td>\n",
       "    </tr>\n",
       "    <tr>\n",
       "      <th>13</th>\n",
       "      <td>Hungary</td>\n",
       "      <td>2.9</td>\n",
       "    </tr>\n",
       "  </tbody>\n",
       "</table>\n",
       "</div>"
      ],
      "text/plain": [
       "        Country  Consumption\n",
       "0       Germany         11.1\n",
       "1   Switzerland         10.3\n",
       "2       Estonia          8.8\n",
       "3            UK          8.1\n",
       "4       Finland          7.4\n",
       "5       Denmark          6.9\n",
       "6       Croatia          6.6\n",
       "7       Belgium          6.4\n",
       "8     Lithuania          4.7\n",
       "9         Spain          4.5\n",
       "10     Portugal          3.6\n",
       "11        Italy          3.1\n",
       "12       Greece          3.0\n",
       "13      Hungary          2.9"
      ]
     },
     "execution_count": 245,
     "metadata": {},
     "output_type": "execute_result"
    }
   ],
   "source": []
  },
  {
   "cell_type": "code",
   "execution_count": 247,
   "metadata": {},
   "outputs": [
    {
     "data": {
      "text/html": [
       "<div>\n",
       "<style scoped>\n",
       "    .dataframe tbody tr th:only-of-type {\n",
       "        vertical-align: middle;\n",
       "    }\n",
       "\n",
       "    .dataframe tbody tr th {\n",
       "        vertical-align: top;\n",
       "    }\n",
       "\n",
       "    .dataframe thead th {\n",
       "        text-align: right;\n",
       "    }\n",
       "</style>\n",
       "<table border=\"1\" class=\"dataframe\">\n",
       "  <thead>\n",
       "    <tr style=\"text-align: right;\">\n",
       "      <th></th>\n",
       "      <th>Rank</th>\n",
       "      <th>Entity</th>\n",
       "      <th>Nobel laureates</th>\n",
       "      <th>Population (2018)</th>\n",
       "      <th>Laureates</th>\n",
       "    </tr>\n",
       "  </thead>\n",
       "  <tbody>\n",
       "    <tr>\n",
       "      <th>0</th>\n",
       "      <td>—</td>\n",
       "      <td>Faroe Islands</td>\n",
       "      <td>1</td>\n",
       "      <td>49489</td>\n",
       "      <td>202.065</td>\n",
       "    </tr>\n",
       "    <tr>\n",
       "      <th>3</th>\n",
       "      <td>1</td>\n",
       "      <td>Saint Lucia</td>\n",
       "      <td>2</td>\n",
       "      <td>179667</td>\n",
       "      <td>111.317</td>\n",
       "    </tr>\n",
       "    <tr>\n",
       "      <th>4</th>\n",
       "      <td>2</td>\n",
       "      <td>Luxembourg</td>\n",
       "      <td>2</td>\n",
       "      <td>590321</td>\n",
       "      <td>33.880</td>\n",
       "    </tr>\n",
       "    <tr>\n",
       "      <th>5</th>\n",
       "      <td>3</td>\n",
       "      <td>Switzerland</td>\n",
       "      <td>27</td>\n",
       "      <td>8544034</td>\n",
       "      <td>31.601</td>\n",
       "    </tr>\n",
       "    <tr>\n",
       "      <th>6</th>\n",
       "      <td>4</td>\n",
       "      <td>Sweden</td>\n",
       "      <td>30</td>\n",
       "      <td>9982709</td>\n",
       "      <td>30.052</td>\n",
       "    </tr>\n",
       "    <tr>\n",
       "      <th>...</th>\n",
       "      <td>...</td>\n",
       "      <td>...</td>\n",
       "      <td>...</td>\n",
       "      <td>...</td>\n",
       "      <td>...</td>\n",
       "    </tr>\n",
       "    <tr>\n",
       "      <th>72</th>\n",
       "      <td>70</td>\n",
       "      <td>Ethiopia</td>\n",
       "      <td>1</td>\n",
       "      <td>109224410</td>\n",
       "      <td>0.092</td>\n",
       "    </tr>\n",
       "    <tr>\n",
       "      <th>73</th>\n",
       "      <td>71</td>\n",
       "      <td>India</td>\n",
       "      <td>11</td>\n",
       "      <td>1354051854</td>\n",
       "      <td>0.081</td>\n",
       "    </tr>\n",
       "    <tr>\n",
       "      <th>74</th>\n",
       "      <td>72</td>\n",
       "      <td>China</td>\n",
       "      <td>9</td>\n",
       "      <td>1415045928</td>\n",
       "      <td>0.064</td>\n",
       "    </tr>\n",
       "    <tr>\n",
       "      <th>75</th>\n",
       "      <td>73</td>\n",
       "      <td>Bangladesh</td>\n",
       "      <td>1</td>\n",
       "      <td>166368149</td>\n",
       "      <td>0.060</td>\n",
       "    </tr>\n",
       "    <tr>\n",
       "      <th>76</th>\n",
       "      <td>74</td>\n",
       "      <td>Nigeria</td>\n",
       "      <td>1</td>\n",
       "      <td>195875237</td>\n",
       "      <td>0.051</td>\n",
       "    </tr>\n",
       "  </tbody>\n",
       "</table>\n",
       "<p>77 rows × 5 columns</p>\n",
       "</div>"
      ],
      "text/plain": [
       "    Rank         Entity  Nobel laureates  Population (2018)  Laureates\n",
       "0      —  Faroe Islands                1              49489    202.065\n",
       "3      1    Saint Lucia                2             179667    111.317\n",
       "4      2     Luxembourg                2             590321     33.880\n",
       "5      3    Switzerland               27            8544034     31.601\n",
       "6      4         Sweden               30            9982709     30.052\n",
       "..   ...            ...              ...                ...        ...\n",
       "72    70       Ethiopia                1          109224410      0.092\n",
       "73    71          India               11         1354051854      0.081\n",
       "74    72          China                9         1415045928      0.064\n",
       "75    73     Bangladesh                1          166368149      0.060\n",
       "76    74        Nigeria                1          195875237      0.051\n",
       "\n",
       "[77 rows x 5 columns]"
      ]
     },
     "execution_count": 247,
     "metadata": {},
     "output_type": "execute_result"
    }
   ],
   "source": [
    "prizenums"
   ]
  },
  {
   "cell_type": "markdown",
   "metadata": {},
   "source": [
    "# Merging tables "
   ]
  },
  {
   "cell_type": "code",
   "execution_count": 248,
   "metadata": {},
   "outputs": [],
   "source": [
    "merged = consumption.merge(prizenums, left_on=\"Country\",right_on=\"Entity\", validate=\"1:1\")"
   ]
  },
  {
   "cell_type": "code",
   "execution_count": 249,
   "metadata": {},
   "outputs": [
    {
     "data": {
      "text/html": [
       "<div>\n",
       "<style scoped>\n",
       "    .dataframe tbody tr th:only-of-type {\n",
       "        vertical-align: middle;\n",
       "    }\n",
       "\n",
       "    .dataframe tbody tr th {\n",
       "        vertical-align: top;\n",
       "    }\n",
       "\n",
       "    .dataframe thead th {\n",
       "        text-align: right;\n",
       "    }\n",
       "</style>\n",
       "<table border=\"1\" class=\"dataframe\">\n",
       "  <thead>\n",
       "    <tr style=\"text-align: right;\">\n",
       "      <th></th>\n",
       "      <th>Country</th>\n",
       "      <th>Consumption</th>\n",
       "      <th>Rank</th>\n",
       "      <th>Entity</th>\n",
       "      <th>Nobel laureates</th>\n",
       "      <th>Population (2018)</th>\n",
       "      <th>Laureates</th>\n",
       "    </tr>\n",
       "  </thead>\n",
       "  <tbody>\n",
       "    <tr>\n",
       "      <th>0</th>\n",
       "      <td>Germany</td>\n",
       "      <td>11.1</td>\n",
       "      <td>14</td>\n",
       "      <td>Germany</td>\n",
       "      <td>109</td>\n",
       "      <td>82293457</td>\n",
       "      <td>13.245</td>\n",
       "    </tr>\n",
       "    <tr>\n",
       "      <th>1</th>\n",
       "      <td>Switzerland</td>\n",
       "      <td>10.3</td>\n",
       "      <td>3</td>\n",
       "      <td>Switzerland</td>\n",
       "      <td>27</td>\n",
       "      <td>8544034</td>\n",
       "      <td>31.601</td>\n",
       "    </tr>\n",
       "    <tr>\n",
       "      <th>2</th>\n",
       "      <td>Finland</td>\n",
       "      <td>7.4</td>\n",
       "      <td>18</td>\n",
       "      <td>Finland</td>\n",
       "      <td>5</td>\n",
       "      <td>5542517</td>\n",
       "      <td>9.021</td>\n",
       "    </tr>\n",
       "    <tr>\n",
       "      <th>3</th>\n",
       "      <td>Denmark</td>\n",
       "      <td>6.9</td>\n",
       "      <td>7</td>\n",
       "      <td>Denmark</td>\n",
       "      <td>13</td>\n",
       "      <td>5754356</td>\n",
       "      <td>24.329</td>\n",
       "    </tr>\n",
       "    <tr>\n",
       "      <th>4</th>\n",
       "      <td>Croatia</td>\n",
       "      <td>6.6</td>\n",
       "      <td>34</td>\n",
       "      <td>Croatia</td>\n",
       "      <td>1</td>\n",
       "      <td>4164783</td>\n",
       "      <td>2.401</td>\n",
       "    </tr>\n",
       "    <tr>\n",
       "      <th>5</th>\n",
       "      <td>Belgium</td>\n",
       "      <td>6.4</td>\n",
       "      <td>19</td>\n",
       "      <td>Belgium</td>\n",
       "      <td>10</td>\n",
       "      <td>11498519</td>\n",
       "      <td>8.697</td>\n",
       "    </tr>\n",
       "    <tr>\n",
       "      <th>6</th>\n",
       "      <td>Lithuania</td>\n",
       "      <td>4.7</td>\n",
       "      <td>32</td>\n",
       "      <td>Lithuania</td>\n",
       "      <td>1</td>\n",
       "      <td>2876475</td>\n",
       "      <td>3.476</td>\n",
       "    </tr>\n",
       "    <tr>\n",
       "      <th>7</th>\n",
       "      <td>Spain</td>\n",
       "      <td>4.5</td>\n",
       "      <td>43</td>\n",
       "      <td>Spain</td>\n",
       "      <td>8</td>\n",
       "      <td>46397452</td>\n",
       "      <td>1.724</td>\n",
       "    </tr>\n",
       "    <tr>\n",
       "      <th>8</th>\n",
       "      <td>Portugal</td>\n",
       "      <td>3.6</td>\n",
       "      <td>40</td>\n",
       "      <td>Portugal</td>\n",
       "      <td>2</td>\n",
       "      <td>10291196</td>\n",
       "      <td>1.943</td>\n",
       "    </tr>\n",
       "    <tr>\n",
       "      <th>9</th>\n",
       "      <td>Italy</td>\n",
       "      <td>3.1</td>\n",
       "      <td>33</td>\n",
       "      <td>Italy</td>\n",
       "      <td>20</td>\n",
       "      <td>59290969</td>\n",
       "      <td>3.373</td>\n",
       "    </tr>\n",
       "    <tr>\n",
       "      <th>10</th>\n",
       "      <td>Greece</td>\n",
       "      <td>3.0</td>\n",
       "      <td>41</td>\n",
       "      <td>Greece</td>\n",
       "      <td>2</td>\n",
       "      <td>11142161</td>\n",
       "      <td>1.795</td>\n",
       "    </tr>\n",
       "    <tr>\n",
       "      <th>11</th>\n",
       "      <td>Hungary</td>\n",
       "      <td>2.9</td>\n",
       "      <td>13</td>\n",
       "      <td>Hungary</td>\n",
       "      <td>13</td>\n",
       "      <td>9688847</td>\n",
       "      <td>13.417</td>\n",
       "    </tr>\n",
       "  </tbody>\n",
       "</table>\n",
       "</div>"
      ],
      "text/plain": [
       "        Country  Consumption  Rank       Entity  Nobel laureates  \\\n",
       "0       Germany         11.1    14      Germany              109   \n",
       "1   Switzerland         10.3     3  Switzerland               27   \n",
       "2       Finland          7.4    18      Finland                5   \n",
       "3       Denmark          6.9     7      Denmark               13   \n",
       "4       Croatia          6.6    34      Croatia                1   \n",
       "5       Belgium          6.4    19      Belgium               10   \n",
       "6     Lithuania          4.7    32    Lithuania                1   \n",
       "7         Spain          4.5    43        Spain                8   \n",
       "8      Portugal          3.6    40     Portugal                2   \n",
       "9         Italy          3.1    33        Italy               20   \n",
       "10       Greece          3.0    41       Greece                2   \n",
       "11      Hungary          2.9    13      Hungary               13   \n",
       "\n",
       "    Population (2018)  Laureates  \n",
       "0            82293457     13.245  \n",
       "1             8544034     31.601  \n",
       "2             5542517      9.021  \n",
       "3             5754356     24.329  \n",
       "4             4164783      2.401  \n",
       "5            11498519      8.697  \n",
       "6             2876475      3.476  \n",
       "7            46397452      1.724  \n",
       "8            10291196      1.943  \n",
       "9            59290969      3.373  \n",
       "10           11142161      1.795  \n",
       "11            9688847     13.417  "
      ]
     },
     "execution_count": 249,
     "metadata": {},
     "output_type": "execute_result"
    }
   ],
   "source": [
    "merged"
   ]
  },
  {
   "cell_type": "code",
   "execution_count": 250,
   "metadata": {},
   "outputs": [
    {
     "data": {
      "text/html": [
       "<div>\n",
       "<style scoped>\n",
       "    .dataframe tbody tr th:only-of-type {\n",
       "        vertical-align: middle;\n",
       "    }\n",
       "\n",
       "    .dataframe tbody tr th {\n",
       "        vertical-align: top;\n",
       "    }\n",
       "\n",
       "    .dataframe thead th {\n",
       "        text-align: right;\n",
       "    }\n",
       "</style>\n",
       "<table border=\"1\" class=\"dataframe\">\n",
       "  <thead>\n",
       "    <tr style=\"text-align: right;\">\n",
       "      <th></th>\n",
       "      <th>Country</th>\n",
       "      <th>Consumption</th>\n",
       "    </tr>\n",
       "  </thead>\n",
       "  <tbody>\n",
       "    <tr>\n",
       "      <th>0</th>\n",
       "      <td>Germany</td>\n",
       "      <td>11.1</td>\n",
       "    </tr>\n",
       "    <tr>\n",
       "      <th>1</th>\n",
       "      <td>Switzerland</td>\n",
       "      <td>10.3</td>\n",
       "    </tr>\n",
       "    <tr>\n",
       "      <th>2</th>\n",
       "      <td>Estonia</td>\n",
       "      <td>8.8</td>\n",
       "    </tr>\n",
       "    <tr>\n",
       "      <th>3</th>\n",
       "      <td>United Kingdom</td>\n",
       "      <td>8.1</td>\n",
       "    </tr>\n",
       "    <tr>\n",
       "      <th>4</th>\n",
       "      <td>Finland</td>\n",
       "      <td>7.4</td>\n",
       "    </tr>\n",
       "    <tr>\n",
       "      <th>5</th>\n",
       "      <td>Denmark</td>\n",
       "      <td>6.9</td>\n",
       "    </tr>\n",
       "    <tr>\n",
       "      <th>6</th>\n",
       "      <td>Croatia</td>\n",
       "      <td>6.6</td>\n",
       "    </tr>\n",
       "    <tr>\n",
       "      <th>7</th>\n",
       "      <td>Belgium</td>\n",
       "      <td>6.4</td>\n",
       "    </tr>\n",
       "    <tr>\n",
       "      <th>8</th>\n",
       "      <td>Lithuania</td>\n",
       "      <td>4.7</td>\n",
       "    </tr>\n",
       "    <tr>\n",
       "      <th>9</th>\n",
       "      <td>Spain</td>\n",
       "      <td>4.5</td>\n",
       "    </tr>\n",
       "    <tr>\n",
       "      <th>10</th>\n",
       "      <td>Portugal</td>\n",
       "      <td>3.6</td>\n",
       "    </tr>\n",
       "    <tr>\n",
       "      <th>11</th>\n",
       "      <td>Italy</td>\n",
       "      <td>3.1</td>\n",
       "    </tr>\n",
       "    <tr>\n",
       "      <th>12</th>\n",
       "      <td>Greece</td>\n",
       "      <td>3.0</td>\n",
       "    </tr>\n",
       "    <tr>\n",
       "      <th>13</th>\n",
       "      <td>Hungary</td>\n",
       "      <td>2.9</td>\n",
       "    </tr>\n",
       "  </tbody>\n",
       "</table>\n",
       "</div>"
      ],
      "text/plain": [
       "           Country  Consumption\n",
       "0          Germany         11.1\n",
       "1      Switzerland         10.3\n",
       "2          Estonia          8.8\n",
       "3   United Kingdom          8.1\n",
       "4          Finland          7.4\n",
       "5          Denmark          6.9\n",
       "6          Croatia          6.6\n",
       "7          Belgium          6.4\n",
       "8        Lithuania          4.7\n",
       "9            Spain          4.5\n",
       "10        Portugal          3.6\n",
       "11           Italy          3.1\n",
       "12          Greece          3.0\n",
       "13         Hungary          2.9"
      ]
     },
     "execution_count": 250,
     "metadata": {},
     "output_type": "execute_result"
    }
   ],
   "source": [
    "consumption.replace(\"UK\",\"United Kingdom\", inplace = True)\n",
    "consumption"
   ]
  },
  {
   "cell_type": "code",
   "execution_count": 252,
   "metadata": {},
   "outputs": [
    {
     "data": {
      "text/html": [
       "<div>\n",
       "<style scoped>\n",
       "    .dataframe tbody tr th:only-of-type {\n",
       "        vertical-align: middle;\n",
       "    }\n",
       "\n",
       "    .dataframe tbody tr th {\n",
       "        vertical-align: top;\n",
       "    }\n",
       "\n",
       "    .dataframe thead th {\n",
       "        text-align: right;\n",
       "    }\n",
       "</style>\n",
       "<table border=\"1\" class=\"dataframe\">\n",
       "  <thead>\n",
       "    <tr style=\"text-align: right;\">\n",
       "      <th></th>\n",
       "      <th>Rank</th>\n",
       "      <th>Entity</th>\n",
       "      <th>Nobel laureates</th>\n",
       "      <th>Population (2018)</th>\n",
       "      <th>Laureates</th>\n",
       "    </tr>\n",
       "  </thead>\n",
       "  <tbody>\n",
       "    <tr>\n",
       "      <th>0</th>\n",
       "      <td>—</td>\n",
       "      <td>Faroe Islands</td>\n",
       "      <td>1</td>\n",
       "      <td>49489</td>\n",
       "      <td>202.065</td>\n",
       "    </tr>\n",
       "    <tr>\n",
       "      <th>3</th>\n",
       "      <td>1</td>\n",
       "      <td>Saint Lucia</td>\n",
       "      <td>2</td>\n",
       "      <td>179667</td>\n",
       "      <td>111.317</td>\n",
       "    </tr>\n",
       "  </tbody>\n",
       "</table>\n",
       "</div>"
      ],
      "text/plain": [
       "   Rank         Entity  Nobel laureates  Population (2018)  Laureates\n",
       "0     —  Faroe Islands                1              49489    202.065\n",
       "3     1    Saint Lucia                2             179667    111.317"
      ]
     },
     "execution_count": 252,
     "metadata": {},
     "output_type": "execute_result"
    }
   ],
   "source": [
    "prizenums.head(2)"
   ]
  },
  {
   "cell_type": "code",
   "execution_count": 255,
   "metadata": {},
   "outputs": [],
   "source": [
    "prizenums = prizenums.append({\"Entity\": \"Estonia\", \"Nobel laureates\": 0, \"Laureates\": 0}, ignore_index = True) \n",
    "# append method adds a row in datta frame"
   ]
  },
  {
   "cell_type": "code",
   "execution_count": 256,
   "metadata": {},
   "outputs": [
    {
     "data": {
      "text/html": [
       "<div>\n",
       "<style scoped>\n",
       "    .dataframe tbody tr th:only-of-type {\n",
       "        vertical-align: middle;\n",
       "    }\n",
       "\n",
       "    .dataframe tbody tr th {\n",
       "        vertical-align: top;\n",
       "    }\n",
       "\n",
       "    .dataframe thead th {\n",
       "        text-align: right;\n",
       "    }\n",
       "</style>\n",
       "<table border=\"1\" class=\"dataframe\">\n",
       "  <thead>\n",
       "    <tr style=\"text-align: right;\">\n",
       "      <th></th>\n",
       "      <th>Rank</th>\n",
       "      <th>Entity</th>\n",
       "      <th>Nobel laureates</th>\n",
       "      <th>Population (2018)</th>\n",
       "      <th>Laureates</th>\n",
       "    </tr>\n",
       "  </thead>\n",
       "  <tbody>\n",
       "    <tr>\n",
       "      <th>0</th>\n",
       "      <td>—</td>\n",
       "      <td>Faroe Islands</td>\n",
       "      <td>1</td>\n",
       "      <td>4.948900e+04</td>\n",
       "      <td>202.065</td>\n",
       "    </tr>\n",
       "    <tr>\n",
       "      <th>1</th>\n",
       "      <td>1</td>\n",
       "      <td>Saint Lucia</td>\n",
       "      <td>2</td>\n",
       "      <td>1.796670e+05</td>\n",
       "      <td>111.317</td>\n",
       "    </tr>\n",
       "    <tr>\n",
       "      <th>2</th>\n",
       "      <td>2</td>\n",
       "      <td>Luxembourg</td>\n",
       "      <td>2</td>\n",
       "      <td>5.903210e+05</td>\n",
       "      <td>33.880</td>\n",
       "    </tr>\n",
       "    <tr>\n",
       "      <th>3</th>\n",
       "      <td>3</td>\n",
       "      <td>Switzerland</td>\n",
       "      <td>27</td>\n",
       "      <td>8.544034e+06</td>\n",
       "      <td>31.601</td>\n",
       "    </tr>\n",
       "    <tr>\n",
       "      <th>4</th>\n",
       "      <td>4</td>\n",
       "      <td>Sweden</td>\n",
       "      <td>30</td>\n",
       "      <td>9.982709e+06</td>\n",
       "      <td>30.052</td>\n",
       "    </tr>\n",
       "    <tr>\n",
       "      <th>...</th>\n",
       "      <td>...</td>\n",
       "      <td>...</td>\n",
       "      <td>...</td>\n",
       "      <td>...</td>\n",
       "      <td>...</td>\n",
       "    </tr>\n",
       "    <tr>\n",
       "      <th>73</th>\n",
       "      <td>71</td>\n",
       "      <td>India</td>\n",
       "      <td>11</td>\n",
       "      <td>1.354052e+09</td>\n",
       "      <td>0.081</td>\n",
       "    </tr>\n",
       "    <tr>\n",
       "      <th>74</th>\n",
       "      <td>72</td>\n",
       "      <td>China</td>\n",
       "      <td>9</td>\n",
       "      <td>1.415046e+09</td>\n",
       "      <td>0.064</td>\n",
       "    </tr>\n",
       "    <tr>\n",
       "      <th>75</th>\n",
       "      <td>73</td>\n",
       "      <td>Bangladesh</td>\n",
       "      <td>1</td>\n",
       "      <td>1.663681e+08</td>\n",
       "      <td>0.060</td>\n",
       "    </tr>\n",
       "    <tr>\n",
       "      <th>76</th>\n",
       "      <td>74</td>\n",
       "      <td>Nigeria</td>\n",
       "      <td>1</td>\n",
       "      <td>1.958752e+08</td>\n",
       "      <td>0.051</td>\n",
       "    </tr>\n",
       "    <tr>\n",
       "      <th>77</th>\n",
       "      <td>NaN</td>\n",
       "      <td>Estonia</td>\n",
       "      <td>0</td>\n",
       "      <td>NaN</td>\n",
       "      <td>0.000</td>\n",
       "    </tr>\n",
       "  </tbody>\n",
       "</table>\n",
       "<p>78 rows × 5 columns</p>\n",
       "</div>"
      ],
      "text/plain": [
       "    Rank         Entity  Nobel laureates  Population (2018)  Laureates\n",
       "0      —  Faroe Islands                1       4.948900e+04    202.065\n",
       "1      1    Saint Lucia                2       1.796670e+05    111.317\n",
       "2      2     Luxembourg                2       5.903210e+05     33.880\n",
       "3      3    Switzerland               27       8.544034e+06     31.601\n",
       "4      4         Sweden               30       9.982709e+06     30.052\n",
       "..   ...            ...              ...                ...        ...\n",
       "73    71          India               11       1.354052e+09      0.081\n",
       "74    72          China                9       1.415046e+09      0.064\n",
       "75    73     Bangladesh                1       1.663681e+08      0.060\n",
       "76    74        Nigeria                1       1.958752e+08      0.051\n",
       "77   NaN        Estonia                0                NaN      0.000\n",
       "\n",
       "[78 rows x 5 columns]"
      ]
     },
     "execution_count": 256,
     "metadata": {},
     "output_type": "execute_result"
    }
   ],
   "source": [
    "prizenums"
   ]
  },
  {
   "cell_type": "code",
   "execution_count": 259,
   "metadata": {},
   "outputs": [
    {
     "data": {
      "text/plain": [
       " Rank                 object\n",
       "Entity                object\n",
       "Nobel laureates        int64\n",
       "Population (2018)    float64\n",
       "Laureates            float64\n",
       "dtype: object"
      ]
     },
     "execution_count": 259,
     "metadata": {},
     "output_type": "execute_result"
    }
   ],
   "source": [
    "prizenums.dtypes"
   ]
  },
  {
   "cell_type": "code",
   "execution_count": 260,
   "metadata": {},
   "outputs": [],
   "source": [
    "merged = consumption.merge(prizenums, left_on=\"Country\",right_on=\"Entity\", validate=\"1:1\")"
   ]
  },
  {
   "cell_type": "code",
   "execution_count": 261,
   "metadata": {},
   "outputs": [
    {
     "data": {
      "text/html": [
       "<div>\n",
       "<style scoped>\n",
       "    .dataframe tbody tr th:only-of-type {\n",
       "        vertical-align: middle;\n",
       "    }\n",
       "\n",
       "    .dataframe tbody tr th {\n",
       "        vertical-align: top;\n",
       "    }\n",
       "\n",
       "    .dataframe thead th {\n",
       "        text-align: right;\n",
       "    }\n",
       "</style>\n",
       "<table border=\"1\" class=\"dataframe\">\n",
       "  <thead>\n",
       "    <tr style=\"text-align: right;\">\n",
       "      <th></th>\n",
       "      <th>Country</th>\n",
       "      <th>Consumption</th>\n",
       "      <th>Rank</th>\n",
       "      <th>Entity</th>\n",
       "      <th>Nobel laureates</th>\n",
       "      <th>Population (2018)</th>\n",
       "      <th>Laureates</th>\n",
       "    </tr>\n",
       "  </thead>\n",
       "  <tbody>\n",
       "    <tr>\n",
       "      <th>0</th>\n",
       "      <td>Germany</td>\n",
       "      <td>11.1</td>\n",
       "      <td>14</td>\n",
       "      <td>Germany</td>\n",
       "      <td>109</td>\n",
       "      <td>82293457.0</td>\n",
       "      <td>13.245</td>\n",
       "    </tr>\n",
       "    <tr>\n",
       "      <th>1</th>\n",
       "      <td>Switzerland</td>\n",
       "      <td>10.3</td>\n",
       "      <td>3</td>\n",
       "      <td>Switzerland</td>\n",
       "      <td>27</td>\n",
       "      <td>8544034.0</td>\n",
       "      <td>31.601</td>\n",
       "    </tr>\n",
       "    <tr>\n",
       "      <th>2</th>\n",
       "      <td>Estonia</td>\n",
       "      <td>8.8</td>\n",
       "      <td>NaN</td>\n",
       "      <td>Estonia</td>\n",
       "      <td>0</td>\n",
       "      <td>NaN</td>\n",
       "      <td>0.000</td>\n",
       "    </tr>\n",
       "    <tr>\n",
       "      <th>3</th>\n",
       "      <td>United Kingdom</td>\n",
       "      <td>8.1</td>\n",
       "      <td>10</td>\n",
       "      <td>United Kingdom</td>\n",
       "      <td>133</td>\n",
       "      <td>66573504.0</td>\n",
       "      <td>19.429</td>\n",
       "    </tr>\n",
       "    <tr>\n",
       "      <th>4</th>\n",
       "      <td>Finland</td>\n",
       "      <td>7.4</td>\n",
       "      <td>18</td>\n",
       "      <td>Finland</td>\n",
       "      <td>5</td>\n",
       "      <td>5542517.0</td>\n",
       "      <td>9.021</td>\n",
       "    </tr>\n",
       "    <tr>\n",
       "      <th>5</th>\n",
       "      <td>Denmark</td>\n",
       "      <td>6.9</td>\n",
       "      <td>7</td>\n",
       "      <td>Denmark</td>\n",
       "      <td>13</td>\n",
       "      <td>5754356.0</td>\n",
       "      <td>24.329</td>\n",
       "    </tr>\n",
       "    <tr>\n",
       "      <th>6</th>\n",
       "      <td>Croatia</td>\n",
       "      <td>6.6</td>\n",
       "      <td>34</td>\n",
       "      <td>Croatia</td>\n",
       "      <td>1</td>\n",
       "      <td>4164783.0</td>\n",
       "      <td>2.401</td>\n",
       "    </tr>\n",
       "    <tr>\n",
       "      <th>7</th>\n",
       "      <td>Belgium</td>\n",
       "      <td>6.4</td>\n",
       "      <td>19</td>\n",
       "      <td>Belgium</td>\n",
       "      <td>10</td>\n",
       "      <td>11498519.0</td>\n",
       "      <td>8.697</td>\n",
       "    </tr>\n",
       "    <tr>\n",
       "      <th>8</th>\n",
       "      <td>Lithuania</td>\n",
       "      <td>4.7</td>\n",
       "      <td>32</td>\n",
       "      <td>Lithuania</td>\n",
       "      <td>1</td>\n",
       "      <td>2876475.0</td>\n",
       "      <td>3.476</td>\n",
       "    </tr>\n",
       "    <tr>\n",
       "      <th>9</th>\n",
       "      <td>Spain</td>\n",
       "      <td>4.5</td>\n",
       "      <td>43</td>\n",
       "      <td>Spain</td>\n",
       "      <td>8</td>\n",
       "      <td>46397452.0</td>\n",
       "      <td>1.724</td>\n",
       "    </tr>\n",
       "    <tr>\n",
       "      <th>10</th>\n",
       "      <td>Portugal</td>\n",
       "      <td>3.6</td>\n",
       "      <td>40</td>\n",
       "      <td>Portugal</td>\n",
       "      <td>2</td>\n",
       "      <td>10291196.0</td>\n",
       "      <td>1.943</td>\n",
       "    </tr>\n",
       "    <tr>\n",
       "      <th>11</th>\n",
       "      <td>Italy</td>\n",
       "      <td>3.1</td>\n",
       "      <td>33</td>\n",
       "      <td>Italy</td>\n",
       "      <td>20</td>\n",
       "      <td>59290969.0</td>\n",
       "      <td>3.373</td>\n",
       "    </tr>\n",
       "    <tr>\n",
       "      <th>12</th>\n",
       "      <td>Greece</td>\n",
       "      <td>3.0</td>\n",
       "      <td>41</td>\n",
       "      <td>Greece</td>\n",
       "      <td>2</td>\n",
       "      <td>11142161.0</td>\n",
       "      <td>1.795</td>\n",
       "    </tr>\n",
       "    <tr>\n",
       "      <th>13</th>\n",
       "      <td>Hungary</td>\n",
       "      <td>2.9</td>\n",
       "      <td>13</td>\n",
       "      <td>Hungary</td>\n",
       "      <td>13</td>\n",
       "      <td>9688847.0</td>\n",
       "      <td>13.417</td>\n",
       "    </tr>\n",
       "  </tbody>\n",
       "</table>\n",
       "</div>"
      ],
      "text/plain": [
       "           Country  Consumption  Rank          Entity  Nobel laureates  \\\n",
       "0          Germany         11.1    14         Germany              109   \n",
       "1      Switzerland         10.3     3     Switzerland               27   \n",
       "2          Estonia          8.8   NaN         Estonia                0   \n",
       "3   United Kingdom          8.1    10  United Kingdom              133   \n",
       "4          Finland          7.4    18         Finland                5   \n",
       "5          Denmark          6.9     7         Denmark               13   \n",
       "6          Croatia          6.6    34         Croatia                1   \n",
       "7          Belgium          6.4    19         Belgium               10   \n",
       "8        Lithuania          4.7    32       Lithuania                1   \n",
       "9            Spain          4.5    43           Spain                8   \n",
       "10        Portugal          3.6    40        Portugal                2   \n",
       "11           Italy          3.1    33           Italy               20   \n",
       "12          Greece          3.0    41          Greece                2   \n",
       "13         Hungary          2.9    13         Hungary               13   \n",
       "\n",
       "    Population (2018)  Laureates  \n",
       "0          82293457.0     13.245  \n",
       "1           8544034.0     31.601  \n",
       "2                 NaN      0.000  \n",
       "3          66573504.0     19.429  \n",
       "4           5542517.0      9.021  \n",
       "5           5754356.0     24.329  \n",
       "6           4164783.0      2.401  \n",
       "7          11498519.0      8.697  \n",
       "8           2876475.0      3.476  \n",
       "9          46397452.0      1.724  \n",
       "10         10291196.0      1.943  \n",
       "11         59290969.0      3.373  \n",
       "12         11142161.0      1.795  \n",
       "13          9688847.0     13.417  "
      ]
     },
     "execution_count": 261,
     "metadata": {},
     "output_type": "execute_result"
    }
   ],
   "source": [
    "merged"
   ]
  },
  {
   "cell_type": "markdown",
   "metadata": {},
   "source": [
    "# Visualisation and Statistics"
   ]
  },
  {
   "cell_type": "code",
   "execution_count": 263,
   "metadata": {},
   "outputs": [
    {
     "data": {
      "image/png": "[encoded data removed]",
      "text/plain": [
       "<Figure size 1080x576 with 1 Axes>"
      ]
     },
     "metadata": {
      "needs_background": "light"
     },
     "output_type": "display_data"
    }
   ],
   "source": [
    "merged.plot.scatter(\"Consumption\",\"Laureates\", linewidth = 5)\n",
    "plt.show()"
   ]
  },
  {
   "cell_type": "markdown",
   "metadata": {},
   "source": [
    "# Correlation"
   ]
  },
  {
   "cell_type": "code",
   "execution_count": 264,
   "metadata": {},
   "outputs": [
    {
     "data": {
      "text/html": [
       "<div>\n",
       "<style scoped>\n",
       "    .dataframe tbody tr th:only-of-type {\n",
       "        vertical-align: middle;\n",
       "    }\n",
       "\n",
       "    .dataframe tbody tr th {\n",
       "        vertical-align: top;\n",
       "    }\n",
       "\n",
       "    .dataframe thead th {\n",
       "        text-align: right;\n",
       "    }\n",
       "</style>\n",
       "<table border=\"1\" class=\"dataframe\">\n",
       "  <thead>\n",
       "    <tr style=\"text-align: right;\">\n",
       "      <th></th>\n",
       "      <th>Consumption</th>\n",
       "      <th>Nobel laureates</th>\n",
       "      <th>Population (2018)</th>\n",
       "      <th>Laureates</th>\n",
       "    </tr>\n",
       "  </thead>\n",
       "  <tbody>\n",
       "    <tr>\n",
       "      <th>Consumption</th>\n",
       "      <td>1.000000</td>\n",
       "      <td>0.519920</td>\n",
       "      <td>0.292850</td>\n",
       "      <td>0.531615</td>\n",
       "    </tr>\n",
       "    <tr>\n",
       "      <th>Nobel laureates</th>\n",
       "      <td>0.519920</td>\n",
       "      <td>1.000000</td>\n",
       "      <td>0.791897</td>\n",
       "      <td>0.433751</td>\n",
       "    </tr>\n",
       "    <tr>\n",
       "      <th>Population (2018)</th>\n",
       "      <td>0.292850</td>\n",
       "      <td>0.791897</td>\n",
       "      <td>1.000000</td>\n",
       "      <td>0.018976</td>\n",
       "    </tr>\n",
       "    <tr>\n",
       "      <th>Laureates</th>\n",
       "      <td>0.531615</td>\n",
       "      <td>0.433751</td>\n",
       "      <td>0.018976</td>\n",
       "      <td>1.000000</td>\n",
       "    </tr>\n",
       "  </tbody>\n",
       "</table>\n",
       "</div>"
      ],
      "text/plain": [
       "                   Consumption  Nobel laureates  Population (2018)  Laureates\n",
       "Consumption           1.000000         0.519920           0.292850   0.531615\n",
       "Nobel laureates       0.519920         1.000000           0.791897   0.433751\n",
       "Population (2018)     0.292850         0.791897           1.000000   0.018976\n",
       "Laureates             0.531615         0.433751           0.018976   1.000000"
      ]
     },
     "execution_count": 264,
     "metadata": {},
     "output_type": "execute_result"
    }
   ],
   "source": [
    "merged.corr()"
   ]
  },
  {
   "cell_type": "code",
   "execution_count": 272,
   "metadata": {},
   "outputs": [
    {
     "data": {
      "image/png": "[encoded data removed]",
      "text/plain": [
       "<Figure size 1080x576 with 1 Axes>"
      ]
     },
     "metadata": {
      "needs_background": "light"
     },
     "output_type": "display_data"
    },
    {
     "data": {
      "text/html": [
       "<div>\n",
       "<style scoped>\n",
       "    .dataframe tbody tr th:only-of-type {\n",
       "        vertical-align: middle;\n",
       "    }\n",
       "\n",
       "    .dataframe tbody tr th {\n",
       "        vertical-align: top;\n",
       "    }\n",
       "\n",
       "    .dataframe thead th {\n",
       "        text-align: right;\n",
       "    }\n",
       "</style>\n",
       "<table border=\"1\" class=\"dataframe\">\n",
       "  <thead>\n",
       "    <tr style=\"text-align: right;\">\n",
       "      <th></th>\n",
       "      <th>Consumption</th>\n",
       "      <th>Nobel laureates</th>\n",
       "      <th>Population (2018)</th>\n",
       "      <th>Laureates</th>\n",
       "    </tr>\n",
       "  </thead>\n",
       "  <tbody>\n",
       "    <tr>\n",
       "      <th>Consumption</th>\n",
       "      <td>1.000000</td>\n",
       "      <td>0.596238</td>\n",
       "      <td>0.292850</td>\n",
       "      <td>0.659528</td>\n",
       "    </tr>\n",
       "    <tr>\n",
       "      <th>Nobel laureates</th>\n",
       "      <td>0.596238</td>\n",
       "      <td>1.000000</td>\n",
       "      <td>0.791897</td>\n",
       "      <td>0.408190</td>\n",
       "    </tr>\n",
       "    <tr>\n",
       "      <th>Population (2018)</th>\n",
       "      <td>0.292850</td>\n",
       "      <td>0.791897</td>\n",
       "      <td>1.000000</td>\n",
       "      <td>0.018976</td>\n",
       "    </tr>\n",
       "    <tr>\n",
       "      <th>Laureates</th>\n",
       "      <td>0.659528</td>\n",
       "      <td>0.408190</td>\n",
       "      <td>0.018976</td>\n",
       "      <td>1.000000</td>\n",
       "    </tr>\n",
       "  </tbody>\n",
       "</table>\n",
       "</div>"
      ],
      "text/plain": [
       "                   Consumption  Nobel laureates  Population (2018)  Laureates\n",
       "Consumption           1.000000         0.596238           0.292850   0.659528\n",
       "Nobel laureates       0.596238         1.000000           0.791897   0.408190\n",
       "Population (2018)     0.292850         0.791897           1.000000   0.018976\n",
       "Laureates             0.659528         0.408190           0.018976   1.000000"
      ]
     },
     "execution_count": 272,
     "metadata": {},
     "output_type": "execute_result"
    }
   ],
   "source": [
    "wo_estonia = merged[merged[\"Entity\"]!= \"Estonia\"]\n",
    "wo_estonia.plot.scatter(\"Consumption\",\"Laureates\", linewidth = 5)\n",
    "plt.show()\n",
    "wo_estonia.corr()"
   ]
  },
  {
   "cell_type": "markdown",
   "metadata": {},
   "source": [
    "# Modelling"
   ]
  },
  {
   "cell_type": "code",
   "execution_count": 281,
   "metadata": {},
   "outputs": [
    {
     "data": {
      "text/plain": [
       "<Figure size 720x576 with 0 Axes>"
      ]
     },
     "metadata": {},
     "output_type": "display_data"
    }
   ],
   "source": [
    "from scipy.stats import linregress # also returns r and p\n",
    "plt.figure(figsize=(10,8))\n",
    "(slope, intercept, r, p,_)= linregress(merged[\"Consumption\"], merged[\"Laureates\"])\n"
   ]
  },
  {
   "cell_type": "code",
   "execution_count": 296,
   "metadata": {},
   "outputs": [
    {
     "data": {
      "image/png": "[encoded data removed]",
      "text/plain": [
       "<Figure size 1080x576 with 1 Axes>"
      ]
     },
     "metadata": {
      "needs_background": "light"
     },
     "output_type": "display_data"
    },
    {
     "name": "stdout",
     "output_type": "stream",
     "text": [
      "r = 0.532\n",
      "p < 0.05( 0.05 )\n"
     ]
    }
   ],
   "source": [
    "\n",
    "plt.scatter(merged[\"Consumption\"], merged[\"Laureates\"],linewidths=5)\n",
    "plt.plot(merged[\"Consumption\"], slope * merged[\"Consumption\"] + intercept, 'k', linewidth = 3, label = \"Linear Model\")\n",
    "plt.xlabel(\"Chocolate consumption(kg/year/person)\")\n",
    "plt.ylabel(\"Nobel Laureate per capita x 10^6\")\n",
    "plt.xlim([0,15])\n",
    "plt.show()\n",
    "\n",
    "print( 'r =', round(r, 3))\n",
    "print('p < 0.05(',round(p,3),')')"
   ]
  },
  {
   "cell_type": "code",
   "execution_count": 297,
   "metadata": {},
   "outputs": [
    {
     "data": {
      "text/plain": [
       "1.9023419304881313"
      ]
     },
     "execution_count": 297,
     "metadata": {},
     "output_type": "execute_result"
    }
   ],
   "source": [
    "slope"
   ]
  },
  {
   "cell_type": "code",
   "execution_count": null,
   "metadata": {},
   "outputs": [],
   "source": []
  }
 ],
 "metadata": {
  "kernelspec": {
   "display_name": "Python 3",
   "language": "python",
   "name": "python3"
  },
  "language_info": {
   "codemirror_mode": {
    "name": "ipython",
    "version": 3
   },
   "file_extension": ".py",
   "mimetype": "text/x-python",
   "name": "python",
   "nbconvert_exporter": "python",
   "pygments_lexer": "ipython3",
   "version": "3.7.6"
  }
 },
 "nbformat": 4,
 "nbformat_minor": 4
}
